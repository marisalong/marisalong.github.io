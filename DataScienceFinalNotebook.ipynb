{
 "cells": [
  {
   "cell_type": "markdown",
   "metadata": {
    "id": "fJjiusiv_9w3"
   },
   "source": [
    "Link to Github: [marisalong.github.io](https://marisalong.github.io/)\n",
    "\n",
    "<a id='top'></a>\n",
    "<h1 style=\"text-align: center;\">Analysis of Alzheimer's Disease Features </h1>\n",
    "<h4 style=\"text-align: center;\">Marisa Long and Anna Schoeny "
   ]
  },
  {
   "cell_type": "markdown",
   "metadata": {},
   "source": [
    "***"
   ]
  },
  {
   "cell_type": "markdown",
   "metadata": {},
   "source": [
    "#### Notebook Contents\n",
    "[Introduction](#introduction)\\\n",
    "[Discussion of Data Sources](#discuss)\\\n",
    "[Extract, Transform, Load (ETL)](#etl)\\\n",
    "[Exploratory Data Analysis (EDA)](#eda)\\\n",
    "[Modeling and Analysis](#model)\\\n",
    "[Insights and Final Thoughts](#final)\\\n",
    "[References](#cite)\n"
   ]
  },
  {
   "cell_type": "markdown",
   "metadata": {},
   "source": [
    "<a id='introduction'></a>\n",
    "## Introduction"
   ]
  },
  {
   "cell_type": "markdown",
   "metadata": {},
   "source": [
    "Our team was interested in working with datasets related to Alzheimer's disease, particularly taken from studies measuring features of dementia patients such as years of education, brain volumetrics, age of diagnosis and death, and more. We are particularly interested in working with datasets relating to Alzheimer's and dementia because both of our families have both been personally impacted by the disease. \n",
    "\n",
    "Alzheimer's disease impacts families across the globe and is the leading cause of dementia in aging populations. Alzheimer's is a neurological disease that is most widely recognized as progressive memory loss. However, Alzheimer's can have a host of other impacts on patients, including paranoia, delusions, self injurious behaviors and depression, and difficulty speaking, swallowing, and walking. Given the detrimental outcomes of Alzheimer's disease, families are often left with the burden of personally caring for patients or finding palliative care options. Families might suffer the physical and emotional burdens of caregiving, as well as the guilt and pain associated with watching a loved one progressively lose themselves. To put it simply, hundreds of thousands of people are diagnosed with Alzheimer's each year, and research on the disease is still riddled with unanswered question and lack of clarity in terms of predictive features and treatment options. There is a push in the field to start [implementing Machine Learning models](https://www.frontiersin.org/articles/10.3389/fpubh.2022.853294/full) and other computer/data science methods as a means of predicting Alzheimer's diagnoses. We wanted to engage in our own data analysis with this in mind. \n",
    "\n",
    "For the purpose of this project, we will be seeking to evaluate the relationships that exist between these patient features and the onset of symptoms and diagnosis of Alzheimer's disease. We were most interested in looking at features such as education and gender at the offset of our research, but we also wanted to keep our mind open to other predictive features based on our exploratory analysis. We are interested in getting a sense of both where research dead-ends in terms of predictive modeling as well as potentially discovering more promising areas where research might be headed. Though we do recognize that our lack of expertise in the field may be a barrier to our analyses, we hope to use of data science skills to explore some potential areas to research further rather than claiming to try to understand the intricacies of the neuroscientific data. "
   ]
  },
  {
   "cell_type": "markdown",
   "metadata": {},
   "source": [
    "***"
   ]
  },
  {
   "cell_type": "markdown",
   "metadata": {},
   "source": [
    "<a id='discuss'></a>\n",
    "## **Discussion of Data Sources**\n",
    "The first dataset that we determined was fit for our project is [MRI and Alzheimer's](https://www.kaggle.com/datasets/jboysen/mri-and-alzheimers), taken from the Open Access Series of Imaging Studies (OASIS). OASIS is a project that has sought to make brain imaging datasets more widely available to the public. This dataset includes MRI comparisons of adults with Alzheimer's and healthy adults. This dataset was initially interesting to our team because the this dataset has a high data usability score as assigned by Kaggle, which represents user ratings on the documentation of the data. This high score indicates that the data is in a state ready for our analysis. This dataset also includes both cross-sectional and longitudinal MRI data. The cross-sectional data highlights 416 subjects ranging from age 18 to 96 and details 3 to 4 MRI scans for each subject. Approximately $1\\over4$ of the subjects had been diagnosed with Alzheimer's disease. <mark> The longitudinal data follows a sample of 150 subjects aged 60 to 96. *__are we sure this is right? why does it say the patients 190 nondemented, 146 demented and 37 converted below?__*</mark> These same 150 subjects were scanned two or more times with at least a year between imaging sessions. 64 of the subjects were diagnosed with Alzheimer's disease by the time of the first scan with an additional 14 diagnosed at one of the later scan visits. Using this data, we are hoping to be able to answer questions regarding the ability to predict dementia in patients based on features such as socioeconomic status or education. For example:\n",
    "\n",
    "- Was education a predictive feature for individuals who had dementia at the time of their first scan or who were diagnosed with dementia over the course of the study?\n",
    "- Was scioeconomic status a predictor for Alzheimer's?\n"
   ]
  },
  {
   "cell_type": "markdown",
   "metadata": {},
   "source": [
    "For our second dataset, we wanted to dive further into brain difference between females and males that could contribute to differences in the prevalence of dementia. We also continued to explore correlations between years of education and dementia onset. For this milestone, we performed exploratory analysis on the [Seattle Alzheimer's Disease Brain Cell Atlas Donor Metadata dataset](https://portal.brain-map.org/explore/seattle-alzheimers-disease/seattle-alzheimers-disease-brain-cell-atlas-download?edit&language=en). This dataset was taken from studies conducted by the Allen Institute for Brain Science, the University of Washington, and the Kaiser Permanente Washington Health Research Institute. The data highlights demographic, clinical, cognitive, and neuropathological data for a set of 84 patients. The patient features include cognitive status, level and years of education, sex, race, brain pH, measures from numerous brain scans, and ages at different stages in each patients cognitive journey. We found this dataset particularly interesting since there is also a separate volumetric dataset that can be linked using the donor ID. For the purpose of our exploratory analysis, we did not use the volumetric dataset as neither of us have the neuroscience expertise to understand the complexity of these measures, but we did plan to incorporate it into our analysis if we saw fit in the future. Using the metadata we initially explored, we hope to answer questions such as the following:\n",
    "- Are there size, density, or chemical differences between sexes that may contribute to the onset of Alzheimer’s or other dementias?\n",
    "- Are the number of years of education or the education level a predictive feature for the onset of dementia? If so, is a predictive feature of when the onset will occur?\n",
    "\n",
    "This second question is especially interesting to us because we want to see if our findings are consistent with our analysis from the first dataset regarding education as a potential predictive feature. "
   ]
  },
  {
   "cell_type": "markdown",
   "metadata": {},
   "source": [
    "### Dataset Vocabulary and Abbreviations\n",
    "\n",
    " TODO: add so that we understand better and our readers can easily understand"
   ]
  },
  {
   "cell_type": "markdown",
   "metadata": {},
   "source": [
    "### Data Limitations "
   ]
  },
  {
   "cell_type": "markdown",
   "metadata": {},
   "source": [
    "<mark> Note some issues with our data (different sets of patients between our datasets, lack of knowledge in the field regarding many of the measured scores, etc.) - we mention challenges at the bottom that I think we should move up here once we clarify what limitations we can't address ourselves. </mark>"
   ]
  },
  {
   "cell_type": "markdown",
   "metadata": {},
   "source": [
    "***"
   ]
  },
  {
   "cell_type": "markdown",
   "metadata": {},
   "source": [
    "<a id='etl'></a>\n",
    "## Extract, Transform, and Load Data (ETL) "
   ]
  },
  {
   "cell_type": "markdown",
   "metadata": {},
   "source": [
    "First, we needed to import the necessary libraries and ensure we are working in the correct directory to access our data."
   ]
  },
  {
   "cell_type": "code",
   "execution_count": 1,
   "metadata": {
    "scrolled": true
   },
   "outputs": [
    {
     "name": "stdout",
     "output_type": "stream",
     "text": [
      "/Users/marisamlong/Desktop/Tulane/cmps3160/_finaltutorial/marisalong.github.io\r\n"
     ]
    }
   ],
   "source": [
    "# double checking that we are in the correct directory\n",
    "!pwd\n",
    "import warnings\n",
    "warnings.filterwarnings('ignore') \n",
    "# getting some weird warnings that we've looked into and are choosing to ignore "
   ]
  },
  {
   "cell_type": "code",
   "execution_count": 2,
   "metadata": {
    "id": "5BESAGFRBWbI"
   },
   "outputs": [],
   "source": [
    "# importing libraries\n",
    "import pandas as pd\n",
    "import matplotlib.pyplot as plt\n",
    "import numpy as np\n",
    "import seaborn as sns"
   ]
  },
  {
   "cell_type": "markdown",
   "metadata": {},
   "source": [
    "Now we need to read in each of our datasets and conduct any necessary transformations and reformatting. "
   ]
  },
  {
   "cell_type": "markdown",
   "metadata": {
    "id": "U5GVlnvbA1DJ"
   },
   "source": [
    "### Dataset 1: MRI and Alzheimer's\n",
    "Data from OASIS project"
   ]
  },
  {
   "cell_type": "markdown",
   "metadata": {},
   "source": [
    "#### Longitudinal Data:"
   ]
  },
  {
   "cell_type": "code",
   "execution_count": 3,
   "metadata": {
    "colab": {
     "base_uri": "https://localhost:8080/",
     "height": 204
    },
    "id": "uoLbuwCSFBtS",
    "outputId": "0b064005-0aba-4203-e8f7-437e095ff623"
   },
   "outputs": [
    {
     "data": {
      "text/html": [
       "<div>\n",
       "<style scoped>\n",
       "    .dataframe tbody tr th:only-of-type {\n",
       "        vertical-align: middle;\n",
       "    }\n",
       "\n",
       "    .dataframe tbody tr th {\n",
       "        vertical-align: top;\n",
       "    }\n",
       "\n",
       "    .dataframe thead th {\n",
       "        text-align: right;\n",
       "    }\n",
       "</style>\n",
       "<table border=\"1\" class=\"dataframe\">\n",
       "  <thead>\n",
       "    <tr style=\"text-align: right;\">\n",
       "      <th></th>\n",
       "      <th>Subject ID</th>\n",
       "      <th>MRI ID</th>\n",
       "      <th>Group</th>\n",
       "      <th>Visit</th>\n",
       "      <th>MR Delay</th>\n",
       "      <th>M/F</th>\n",
       "      <th>Hand</th>\n",
       "      <th>Age</th>\n",
       "      <th>EDUC</th>\n",
       "      <th>SES</th>\n",
       "      <th>MMSE</th>\n",
       "      <th>CDR</th>\n",
       "      <th>eTIV</th>\n",
       "      <th>nWBV</th>\n",
       "      <th>ASF</th>\n",
       "    </tr>\n",
       "  </thead>\n",
       "  <tbody>\n",
       "    <tr>\n",
       "      <th>0</th>\n",
       "      <td>OAS2_0001</td>\n",
       "      <td>OAS2_0001_MR1</td>\n",
       "      <td>Nondemented</td>\n",
       "      <td>1</td>\n",
       "      <td>0</td>\n",
       "      <td>M</td>\n",
       "      <td>R</td>\n",
       "      <td>87</td>\n",
       "      <td>14</td>\n",
       "      <td>2.0</td>\n",
       "      <td>27.0</td>\n",
       "      <td>0.0</td>\n",
       "      <td>1987</td>\n",
       "      <td>0.696</td>\n",
       "      <td>0.883</td>\n",
       "    </tr>\n",
       "    <tr>\n",
       "      <th>1</th>\n",
       "      <td>OAS2_0001</td>\n",
       "      <td>OAS2_0001_MR2</td>\n",
       "      <td>Nondemented</td>\n",
       "      <td>2</td>\n",
       "      <td>457</td>\n",
       "      <td>M</td>\n",
       "      <td>R</td>\n",
       "      <td>88</td>\n",
       "      <td>14</td>\n",
       "      <td>2.0</td>\n",
       "      <td>30.0</td>\n",
       "      <td>0.0</td>\n",
       "      <td>2004</td>\n",
       "      <td>0.681</td>\n",
       "      <td>0.876</td>\n",
       "    </tr>\n",
       "    <tr>\n",
       "      <th>2</th>\n",
       "      <td>OAS2_0002</td>\n",
       "      <td>OAS2_0002_MR1</td>\n",
       "      <td>Demented</td>\n",
       "      <td>1</td>\n",
       "      <td>0</td>\n",
       "      <td>M</td>\n",
       "      <td>R</td>\n",
       "      <td>75</td>\n",
       "      <td>12</td>\n",
       "      <td>NaN</td>\n",
       "      <td>23.0</td>\n",
       "      <td>0.5</td>\n",
       "      <td>1678</td>\n",
       "      <td>0.736</td>\n",
       "      <td>1.046</td>\n",
       "    </tr>\n",
       "    <tr>\n",
       "      <th>3</th>\n",
       "      <td>OAS2_0002</td>\n",
       "      <td>OAS2_0002_MR2</td>\n",
       "      <td>Demented</td>\n",
       "      <td>2</td>\n",
       "      <td>560</td>\n",
       "      <td>M</td>\n",
       "      <td>R</td>\n",
       "      <td>76</td>\n",
       "      <td>12</td>\n",
       "      <td>NaN</td>\n",
       "      <td>28.0</td>\n",
       "      <td>0.5</td>\n",
       "      <td>1738</td>\n",
       "      <td>0.713</td>\n",
       "      <td>1.010</td>\n",
       "    </tr>\n",
       "    <tr>\n",
       "      <th>4</th>\n",
       "      <td>OAS2_0002</td>\n",
       "      <td>OAS2_0002_MR3</td>\n",
       "      <td>Demented</td>\n",
       "      <td>3</td>\n",
       "      <td>1895</td>\n",
       "      <td>M</td>\n",
       "      <td>R</td>\n",
       "      <td>80</td>\n",
       "      <td>12</td>\n",
       "      <td>NaN</td>\n",
       "      <td>22.0</td>\n",
       "      <td>0.5</td>\n",
       "      <td>1698</td>\n",
       "      <td>0.701</td>\n",
       "      <td>1.034</td>\n",
       "    </tr>\n",
       "  </tbody>\n",
       "</table>\n",
       "</div>"
      ],
      "text/plain": [
       "  Subject ID         MRI ID        Group  Visit  MR Delay M/F Hand  Age  EDUC  \\\n",
       "0  OAS2_0001  OAS2_0001_MR1  Nondemented      1         0   M    R   87    14   \n",
       "1  OAS2_0001  OAS2_0001_MR2  Nondemented      2       457   M    R   88    14   \n",
       "2  OAS2_0002  OAS2_0002_MR1     Demented      1         0   M    R   75    12   \n",
       "3  OAS2_0002  OAS2_0002_MR2     Demented      2       560   M    R   76    12   \n",
       "4  OAS2_0002  OAS2_0002_MR3     Demented      3      1895   M    R   80    12   \n",
       "\n",
       "   SES  MMSE  CDR  eTIV   nWBV    ASF  \n",
       "0  2.0  27.0  0.0  1987  0.696  0.883  \n",
       "1  2.0  30.0  0.0  2004  0.681  0.876  \n",
       "2  NaN  23.0  0.5  1678  0.736  1.046  \n",
       "3  NaN  28.0  0.5  1738  0.713  1.010  \n",
       "4  NaN  22.0  0.5  1698  0.701  1.034  "
      ]
     },
     "execution_count": 3,
     "metadata": {},
     "output_type": "execute_result"
    }
   ],
   "source": [
    "# Read in the longitudinal data and take a peek\n",
    "df_alhz_long = pd.read_csv('./data/oasis_longitudinal.csv')\n",
    "df_alhz_long.head()"
   ]
  },
  {
   "cell_type": "markdown",
   "metadata": {},
   "source": [
    "<mark> Do we want to change any of these column names to make them easier to compare with our other datasets? Like male/female instead of M/F, Cognitive Status instead of Group, idk other examples but just something to consider? Also, is it worth explaining what each of these measures are - we mention MMSE in the other dataset so could be good to make a separate table with like a key of what each of these measures are? Both for us and anyone without knowledge reading this notebook... "
   ]
  },
  {
   "cell_type": "markdown",
   "metadata": {},
   "source": [
    "Since this data represents the same individual in multiple rows, we decided to break out the different visits out into seperate tables. We are created another table that holds the keys to each individual so that we can still access each visit associated with a specific individual."
   ]
  },
  {
   "cell_type": "code",
   "execution_count": 4,
   "metadata": {},
   "outputs": [],
   "source": [
    "# Dataframe 1: Visit 1\n",
    "df_long1 = df_alhz_long[df_alhz_long['Visit'] == 1]\n",
    "df_long1.rename(columns={'Visit': \"Visit1\"}, inplace=True)\n",
    "\n",
    "# Dataframe 2: Visit 2\n",
    "df_long2 = df_alhz_long[df_alhz_long['Visit'] == 2]\n",
    "df_long2.rename(columns={'Visit': \"Visit2\"}, inplace=True)\n",
    "\n",
    "# Dataframe 3: Visit 3\n",
    "df_long3 = df_alhz_long[df_alhz_long['Visit'] == 3]\n",
    "df_long3.rename(columns={'Visit': \"Visit3\"}, inplace=True)\n",
    "\n",
    "# Dataframe 4: holds the individuals keys and which visits they have had\n",
    "cols = ['Subject ID', 'Visit1', 'Visit2', 'Visit3']\n",
    "df_long_ids = df_long1.merge(df_long2, on = \"Subject ID\", how = \"outer\")\n",
    "df_long_ids = df_long_ids.merge(df_long3, on = \"Subject ID\", how = \"outer\")\n",
    "df_long_ids = df_long_ids[cols]\n",
    "df_long_ids.set_index('Subject ID', inplace=True)"
   ]
  },
  {
   "cell_type": "code",
   "execution_count": 5,
   "metadata": {},
   "outputs": [],
   "source": [
    "# Drop the Visits from Dataframes 1-3\n",
    "\n",
    "df_long1.drop(columns=['Visit1'], inplace=True)\n",
    "df_long2.drop(columns=['Visit2'], inplace=True)\n",
    "df_long3.drop(columns=['Visit3'], inplace=True)\n",
    "\n",
    "# Change the visit columns to booleans in the ID dataframe\n",
    "df_long_ids['Visit1'].replace(1, True, inplace=True)\n",
    "df_long_ids['Visit2'].replace(2.0, True, inplace=True)\n",
    "df_long_ids['Visit3'].replace(3.0, True, inplace=True)\n",
    "\n",
    "# Change np.nan to False in the ID dataframe\n",
    "df_long_ids.fillna(False, inplace=True)"
   ]
  },
  {
   "cell_type": "code",
   "execution_count": 6,
   "metadata": {},
   "outputs": [
    {
     "data": {
      "text/html": [
       "<div>\n",
       "<style scoped>\n",
       "    .dataframe tbody tr th:only-of-type {\n",
       "        vertical-align: middle;\n",
       "    }\n",
       "\n",
       "    .dataframe tbody tr th {\n",
       "        vertical-align: top;\n",
       "    }\n",
       "\n",
       "    .dataframe thead th {\n",
       "        text-align: right;\n",
       "    }\n",
       "</style>\n",
       "<table border=\"1\" class=\"dataframe\">\n",
       "  <thead>\n",
       "    <tr style=\"text-align: right;\">\n",
       "      <th></th>\n",
       "      <th>Visit1</th>\n",
       "      <th>Visit2</th>\n",
       "      <th>Visit3</th>\n",
       "    </tr>\n",
       "    <tr>\n",
       "      <th>Subject ID</th>\n",
       "      <th></th>\n",
       "      <th></th>\n",
       "      <th></th>\n",
       "    </tr>\n",
       "  </thead>\n",
       "  <tbody>\n",
       "    <tr>\n",
       "      <th>OAS2_0001</th>\n",
       "      <td>True</td>\n",
       "      <td>True</td>\n",
       "      <td>False</td>\n",
       "    </tr>\n",
       "    <tr>\n",
       "      <th>OAS2_0002</th>\n",
       "      <td>True</td>\n",
       "      <td>True</td>\n",
       "      <td>True</td>\n",
       "    </tr>\n",
       "    <tr>\n",
       "      <th>OAS2_0004</th>\n",
       "      <td>True</td>\n",
       "      <td>True</td>\n",
       "      <td>False</td>\n",
       "    </tr>\n",
       "    <tr>\n",
       "      <th>OAS2_0005</th>\n",
       "      <td>True</td>\n",
       "      <td>True</td>\n",
       "      <td>True</td>\n",
       "    </tr>\n",
       "    <tr>\n",
       "      <th>OAS2_0007</th>\n",
       "      <td>True</td>\n",
       "      <td>False</td>\n",
       "      <td>True</td>\n",
       "    </tr>\n",
       "    <tr>\n",
       "      <th>...</th>\n",
       "      <td>...</td>\n",
       "      <td>...</td>\n",
       "      <td>...</td>\n",
       "    </tr>\n",
       "    <tr>\n",
       "      <th>OAS2_0182</th>\n",
       "      <td>True</td>\n",
       "      <td>True</td>\n",
       "      <td>False</td>\n",
       "    </tr>\n",
       "    <tr>\n",
       "      <th>OAS2_0183</th>\n",
       "      <td>True</td>\n",
       "      <td>True</td>\n",
       "      <td>True</td>\n",
       "    </tr>\n",
       "    <tr>\n",
       "      <th>OAS2_0184</th>\n",
       "      <td>True</td>\n",
       "      <td>True</td>\n",
       "      <td>False</td>\n",
       "    </tr>\n",
       "    <tr>\n",
       "      <th>OAS2_0185</th>\n",
       "      <td>True</td>\n",
       "      <td>True</td>\n",
       "      <td>True</td>\n",
       "    </tr>\n",
       "    <tr>\n",
       "      <th>OAS2_0186</th>\n",
       "      <td>True</td>\n",
       "      <td>True</td>\n",
       "      <td>True</td>\n",
       "    </tr>\n",
       "  </tbody>\n",
       "</table>\n",
       "<p>150 rows × 3 columns</p>\n",
       "</div>"
      ],
      "text/plain": [
       "            Visit1  Visit2  Visit3\n",
       "Subject ID                        \n",
       "OAS2_0001     True    True   False\n",
       "OAS2_0002     True    True    True\n",
       "OAS2_0004     True    True   False\n",
       "OAS2_0005     True    True    True\n",
       "OAS2_0007     True   False    True\n",
       "...            ...     ...     ...\n",
       "OAS2_0182     True    True   False\n",
       "OAS2_0183     True    True    True\n",
       "OAS2_0184     True    True   False\n",
       "OAS2_0185     True    True    True\n",
       "OAS2_0186     True    True    True\n",
       "\n",
       "[150 rows x 3 columns]"
      ]
     },
     "metadata": {},
     "output_type": "display_data"
    },
    {
     "data": {
      "text/html": [
       "<div>\n",
       "<style scoped>\n",
       "    .dataframe tbody tr th:only-of-type {\n",
       "        vertical-align: middle;\n",
       "    }\n",
       "\n",
       "    .dataframe tbody tr th {\n",
       "        vertical-align: top;\n",
       "    }\n",
       "\n",
       "    .dataframe thead th {\n",
       "        text-align: right;\n",
       "    }\n",
       "</style>\n",
       "<table border=\"1\" class=\"dataframe\">\n",
       "  <thead>\n",
       "    <tr style=\"text-align: right;\">\n",
       "      <th></th>\n",
       "      <th>Subject ID</th>\n",
       "      <th>MRI ID</th>\n",
       "      <th>Group</th>\n",
       "      <th>MR Delay</th>\n",
       "      <th>M/F</th>\n",
       "      <th>Hand</th>\n",
       "      <th>Age</th>\n",
       "      <th>EDUC</th>\n",
       "      <th>SES</th>\n",
       "      <th>MMSE</th>\n",
       "      <th>CDR</th>\n",
       "      <th>eTIV</th>\n",
       "      <th>nWBV</th>\n",
       "      <th>ASF</th>\n",
       "    </tr>\n",
       "  </thead>\n",
       "  <tbody>\n",
       "    <tr>\n",
       "      <th>0</th>\n",
       "      <td>OAS2_0001</td>\n",
       "      <td>OAS2_0001_MR1</td>\n",
       "      <td>Nondemented</td>\n",
       "      <td>0</td>\n",
       "      <td>M</td>\n",
       "      <td>R</td>\n",
       "      <td>87</td>\n",
       "      <td>14</td>\n",
       "      <td>2.0</td>\n",
       "      <td>27.0</td>\n",
       "      <td>0.0</td>\n",
       "      <td>1987</td>\n",
       "      <td>0.696</td>\n",
       "      <td>0.883</td>\n",
       "    </tr>\n",
       "    <tr>\n",
       "      <th>2</th>\n",
       "      <td>OAS2_0002</td>\n",
       "      <td>OAS2_0002_MR1</td>\n",
       "      <td>Demented</td>\n",
       "      <td>0</td>\n",
       "      <td>M</td>\n",
       "      <td>R</td>\n",
       "      <td>75</td>\n",
       "      <td>12</td>\n",
       "      <td>NaN</td>\n",
       "      <td>23.0</td>\n",
       "      <td>0.5</td>\n",
       "      <td>1678</td>\n",
       "      <td>0.736</td>\n",
       "      <td>1.046</td>\n",
       "    </tr>\n",
       "    <tr>\n",
       "      <th>5</th>\n",
       "      <td>OAS2_0004</td>\n",
       "      <td>OAS2_0004_MR1</td>\n",
       "      <td>Nondemented</td>\n",
       "      <td>0</td>\n",
       "      <td>F</td>\n",
       "      <td>R</td>\n",
       "      <td>88</td>\n",
       "      <td>18</td>\n",
       "      <td>3.0</td>\n",
       "      <td>28.0</td>\n",
       "      <td>0.0</td>\n",
       "      <td>1215</td>\n",
       "      <td>0.710</td>\n",
       "      <td>1.444</td>\n",
       "    </tr>\n",
       "    <tr>\n",
       "      <th>7</th>\n",
       "      <td>OAS2_0005</td>\n",
       "      <td>OAS2_0005_MR1</td>\n",
       "      <td>Nondemented</td>\n",
       "      <td>0</td>\n",
       "      <td>M</td>\n",
       "      <td>R</td>\n",
       "      <td>80</td>\n",
       "      <td>12</td>\n",
       "      <td>4.0</td>\n",
       "      <td>28.0</td>\n",
       "      <td>0.0</td>\n",
       "      <td>1689</td>\n",
       "      <td>0.712</td>\n",
       "      <td>1.039</td>\n",
       "    </tr>\n",
       "    <tr>\n",
       "      <th>10</th>\n",
       "      <td>OAS2_0007</td>\n",
       "      <td>OAS2_0007_MR1</td>\n",
       "      <td>Demented</td>\n",
       "      <td>0</td>\n",
       "      <td>M</td>\n",
       "      <td>R</td>\n",
       "      <td>71</td>\n",
       "      <td>16</td>\n",
       "      <td>NaN</td>\n",
       "      <td>28.0</td>\n",
       "      <td>0.5</td>\n",
       "      <td>1357</td>\n",
       "      <td>0.748</td>\n",
       "      <td>1.293</td>\n",
       "    </tr>\n",
       "    <tr>\n",
       "      <th>...</th>\n",
       "      <td>...</td>\n",
       "      <td>...</td>\n",
       "      <td>...</td>\n",
       "      <td>...</td>\n",
       "      <td>...</td>\n",
       "      <td>...</td>\n",
       "      <td>...</td>\n",
       "      <td>...</td>\n",
       "      <td>...</td>\n",
       "      <td>...</td>\n",
       "      <td>...</td>\n",
       "      <td>...</td>\n",
       "      <td>...</td>\n",
       "      <td>...</td>\n",
       "    </tr>\n",
       "    <tr>\n",
       "      <th>359</th>\n",
       "      <td>OAS2_0182</td>\n",
       "      <td>OAS2_0182_MR1</td>\n",
       "      <td>Demented</td>\n",
       "      <td>0</td>\n",
       "      <td>M</td>\n",
       "      <td>R</td>\n",
       "      <td>73</td>\n",
       "      <td>12</td>\n",
       "      <td>NaN</td>\n",
       "      <td>23.0</td>\n",
       "      <td>0.5</td>\n",
       "      <td>1661</td>\n",
       "      <td>0.698</td>\n",
       "      <td>1.056</td>\n",
       "    </tr>\n",
       "    <tr>\n",
       "      <th>361</th>\n",
       "      <td>OAS2_0183</td>\n",
       "      <td>OAS2_0183_MR1</td>\n",
       "      <td>Nondemented</td>\n",
       "      <td>0</td>\n",
       "      <td>F</td>\n",
       "      <td>R</td>\n",
       "      <td>66</td>\n",
       "      <td>13</td>\n",
       "      <td>2.0</td>\n",
       "      <td>30.0</td>\n",
       "      <td>0.0</td>\n",
       "      <td>1495</td>\n",
       "      <td>0.746</td>\n",
       "      <td>1.174</td>\n",
       "    </tr>\n",
       "    <tr>\n",
       "      <th>365</th>\n",
       "      <td>OAS2_0184</td>\n",
       "      <td>OAS2_0184_MR1</td>\n",
       "      <td>Demented</td>\n",
       "      <td>0</td>\n",
       "      <td>F</td>\n",
       "      <td>R</td>\n",
       "      <td>72</td>\n",
       "      <td>16</td>\n",
       "      <td>3.0</td>\n",
       "      <td>24.0</td>\n",
       "      <td>0.5</td>\n",
       "      <td>1354</td>\n",
       "      <td>0.733</td>\n",
       "      <td>1.296</td>\n",
       "    </tr>\n",
       "    <tr>\n",
       "      <th>367</th>\n",
       "      <td>OAS2_0185</td>\n",
       "      <td>OAS2_0185_MR1</td>\n",
       "      <td>Demented</td>\n",
       "      <td>0</td>\n",
       "      <td>M</td>\n",
       "      <td>R</td>\n",
       "      <td>80</td>\n",
       "      <td>16</td>\n",
       "      <td>1.0</td>\n",
       "      <td>28.0</td>\n",
       "      <td>0.5</td>\n",
       "      <td>1704</td>\n",
       "      <td>0.711</td>\n",
       "      <td>1.030</td>\n",
       "    </tr>\n",
       "    <tr>\n",
       "      <th>370</th>\n",
       "      <td>OAS2_0186</td>\n",
       "      <td>OAS2_0186_MR1</td>\n",
       "      <td>Nondemented</td>\n",
       "      <td>0</td>\n",
       "      <td>F</td>\n",
       "      <td>R</td>\n",
       "      <td>61</td>\n",
       "      <td>13</td>\n",
       "      <td>2.0</td>\n",
       "      <td>30.0</td>\n",
       "      <td>0.0</td>\n",
       "      <td>1319</td>\n",
       "      <td>0.801</td>\n",
       "      <td>1.331</td>\n",
       "    </tr>\n",
       "  </tbody>\n",
       "</table>\n",
       "<p>150 rows × 14 columns</p>\n",
       "</div>"
      ],
      "text/plain": [
       "    Subject ID         MRI ID        Group  MR Delay M/F Hand  Age  EDUC  SES  \\\n",
       "0    OAS2_0001  OAS2_0001_MR1  Nondemented         0   M    R   87    14  2.0   \n",
       "2    OAS2_0002  OAS2_0002_MR1     Demented         0   M    R   75    12  NaN   \n",
       "5    OAS2_0004  OAS2_0004_MR1  Nondemented         0   F    R   88    18  3.0   \n",
       "7    OAS2_0005  OAS2_0005_MR1  Nondemented         0   M    R   80    12  4.0   \n",
       "10   OAS2_0007  OAS2_0007_MR1     Demented         0   M    R   71    16  NaN   \n",
       "..         ...            ...          ...       ...  ..  ...  ...   ...  ...   \n",
       "359  OAS2_0182  OAS2_0182_MR1     Demented         0   M    R   73    12  NaN   \n",
       "361  OAS2_0183  OAS2_0183_MR1  Nondemented         0   F    R   66    13  2.0   \n",
       "365  OAS2_0184  OAS2_0184_MR1     Demented         0   F    R   72    16  3.0   \n",
       "367  OAS2_0185  OAS2_0185_MR1     Demented         0   M    R   80    16  1.0   \n",
       "370  OAS2_0186  OAS2_0186_MR1  Nondemented         0   F    R   61    13  2.0   \n",
       "\n",
       "     MMSE  CDR  eTIV   nWBV    ASF  \n",
       "0    27.0  0.0  1987  0.696  0.883  \n",
       "2    23.0  0.5  1678  0.736  1.046  \n",
       "5    28.0  0.0  1215  0.710  1.444  \n",
       "7    28.0  0.0  1689  0.712  1.039  \n",
       "10   28.0  0.5  1357  0.748  1.293  \n",
       "..    ...  ...   ...    ...    ...  \n",
       "359  23.0  0.5  1661  0.698  1.056  \n",
       "361  30.0  0.0  1495  0.746  1.174  \n",
       "365  24.0  0.5  1354  0.733  1.296  \n",
       "367  28.0  0.5  1704  0.711  1.030  \n",
       "370  30.0  0.0  1319  0.801  1.331  \n",
       "\n",
       "[150 rows x 14 columns]"
      ]
     },
     "metadata": {},
     "output_type": "display_data"
    },
    {
     "data": {
      "text/html": [
       "<div>\n",
       "<style scoped>\n",
       "    .dataframe tbody tr th:only-of-type {\n",
       "        vertical-align: middle;\n",
       "    }\n",
       "\n",
       "    .dataframe tbody tr th {\n",
       "        vertical-align: top;\n",
       "    }\n",
       "\n",
       "    .dataframe thead th {\n",
       "        text-align: right;\n",
       "    }\n",
       "</style>\n",
       "<table border=\"1\" class=\"dataframe\">\n",
       "  <thead>\n",
       "    <tr style=\"text-align: right;\">\n",
       "      <th></th>\n",
       "      <th>Subject ID</th>\n",
       "      <th>MRI ID</th>\n",
       "      <th>Group</th>\n",
       "      <th>MR Delay</th>\n",
       "      <th>M/F</th>\n",
       "      <th>Hand</th>\n",
       "      <th>Age</th>\n",
       "      <th>EDUC</th>\n",
       "      <th>SES</th>\n",
       "      <th>MMSE</th>\n",
       "      <th>CDR</th>\n",
       "      <th>eTIV</th>\n",
       "      <th>nWBV</th>\n",
       "      <th>ASF</th>\n",
       "    </tr>\n",
       "  </thead>\n",
       "  <tbody>\n",
       "    <tr>\n",
       "      <th>1</th>\n",
       "      <td>OAS2_0001</td>\n",
       "      <td>OAS2_0001_MR2</td>\n",
       "      <td>Nondemented</td>\n",
       "      <td>457</td>\n",
       "      <td>M</td>\n",
       "      <td>R</td>\n",
       "      <td>88</td>\n",
       "      <td>14</td>\n",
       "      <td>2.0</td>\n",
       "      <td>30.0</td>\n",
       "      <td>0.0</td>\n",
       "      <td>2004</td>\n",
       "      <td>0.681</td>\n",
       "      <td>0.876</td>\n",
       "    </tr>\n",
       "    <tr>\n",
       "      <th>3</th>\n",
       "      <td>OAS2_0002</td>\n",
       "      <td>OAS2_0002_MR2</td>\n",
       "      <td>Demented</td>\n",
       "      <td>560</td>\n",
       "      <td>M</td>\n",
       "      <td>R</td>\n",
       "      <td>76</td>\n",
       "      <td>12</td>\n",
       "      <td>NaN</td>\n",
       "      <td>28.0</td>\n",
       "      <td>0.5</td>\n",
       "      <td>1738</td>\n",
       "      <td>0.713</td>\n",
       "      <td>1.010</td>\n",
       "    </tr>\n",
       "    <tr>\n",
       "      <th>6</th>\n",
       "      <td>OAS2_0004</td>\n",
       "      <td>OAS2_0004_MR2</td>\n",
       "      <td>Nondemented</td>\n",
       "      <td>538</td>\n",
       "      <td>F</td>\n",
       "      <td>R</td>\n",
       "      <td>90</td>\n",
       "      <td>18</td>\n",
       "      <td>3.0</td>\n",
       "      <td>27.0</td>\n",
       "      <td>0.0</td>\n",
       "      <td>1200</td>\n",
       "      <td>0.718</td>\n",
       "      <td>1.462</td>\n",
       "    </tr>\n",
       "    <tr>\n",
       "      <th>8</th>\n",
       "      <td>OAS2_0005</td>\n",
       "      <td>OAS2_0005_MR2</td>\n",
       "      <td>Nondemented</td>\n",
       "      <td>1010</td>\n",
       "      <td>M</td>\n",
       "      <td>R</td>\n",
       "      <td>83</td>\n",
       "      <td>12</td>\n",
       "      <td>4.0</td>\n",
       "      <td>29.0</td>\n",
       "      <td>0.5</td>\n",
       "      <td>1701</td>\n",
       "      <td>0.711</td>\n",
       "      <td>1.032</td>\n",
       "    </tr>\n",
       "    <tr>\n",
       "      <th>14</th>\n",
       "      <td>OAS2_0008</td>\n",
       "      <td>OAS2_0008_MR2</td>\n",
       "      <td>Nondemented</td>\n",
       "      <td>742</td>\n",
       "      <td>F</td>\n",
       "      <td>R</td>\n",
       "      <td>95</td>\n",
       "      <td>14</td>\n",
       "      <td>2.0</td>\n",
       "      <td>29.0</td>\n",
       "      <td>0.0</td>\n",
       "      <td>1257</td>\n",
       "      <td>0.703</td>\n",
       "      <td>1.396</td>\n",
       "    </tr>\n",
       "    <tr>\n",
       "      <th>...</th>\n",
       "      <td>...</td>\n",
       "      <td>...</td>\n",
       "      <td>...</td>\n",
       "      <td>...</td>\n",
       "      <td>...</td>\n",
       "      <td>...</td>\n",
       "      <td>...</td>\n",
       "      <td>...</td>\n",
       "      <td>...</td>\n",
       "      <td>...</td>\n",
       "      <td>...</td>\n",
       "      <td>...</td>\n",
       "      <td>...</td>\n",
       "      <td>...</td>\n",
       "    </tr>\n",
       "    <tr>\n",
       "      <th>360</th>\n",
       "      <td>OAS2_0182</td>\n",
       "      <td>OAS2_0182_MR2</td>\n",
       "      <td>Demented</td>\n",
       "      <td>776</td>\n",
       "      <td>M</td>\n",
       "      <td>R</td>\n",
       "      <td>75</td>\n",
       "      <td>12</td>\n",
       "      <td>NaN</td>\n",
       "      <td>20.0</td>\n",
       "      <td>0.5</td>\n",
       "      <td>1654</td>\n",
       "      <td>0.696</td>\n",
       "      <td>1.061</td>\n",
       "    </tr>\n",
       "    <tr>\n",
       "      <th>362</th>\n",
       "      <td>OAS2_0183</td>\n",
       "      <td>OAS2_0183_MR2</td>\n",
       "      <td>Nondemented</td>\n",
       "      <td>182</td>\n",
       "      <td>F</td>\n",
       "      <td>R</td>\n",
       "      <td>66</td>\n",
       "      <td>13</td>\n",
       "      <td>2.0</td>\n",
       "      <td>30.0</td>\n",
       "      <td>0.0</td>\n",
       "      <td>1506</td>\n",
       "      <td>0.740</td>\n",
       "      <td>1.165</td>\n",
       "    </tr>\n",
       "    <tr>\n",
       "      <th>366</th>\n",
       "      <td>OAS2_0184</td>\n",
       "      <td>OAS2_0184_MR2</td>\n",
       "      <td>Demented</td>\n",
       "      <td>553</td>\n",
       "      <td>F</td>\n",
       "      <td>R</td>\n",
       "      <td>73</td>\n",
       "      <td>16</td>\n",
       "      <td>3.0</td>\n",
       "      <td>21.0</td>\n",
       "      <td>1.0</td>\n",
       "      <td>1351</td>\n",
       "      <td>0.708</td>\n",
       "      <td>1.299</td>\n",
       "    </tr>\n",
       "    <tr>\n",
       "      <th>368</th>\n",
       "      <td>OAS2_0185</td>\n",
       "      <td>OAS2_0185_MR2</td>\n",
       "      <td>Demented</td>\n",
       "      <td>842</td>\n",
       "      <td>M</td>\n",
       "      <td>R</td>\n",
       "      <td>82</td>\n",
       "      <td>16</td>\n",
       "      <td>1.0</td>\n",
       "      <td>28.0</td>\n",
       "      <td>0.5</td>\n",
       "      <td>1693</td>\n",
       "      <td>0.694</td>\n",
       "      <td>1.037</td>\n",
       "    </tr>\n",
       "    <tr>\n",
       "      <th>371</th>\n",
       "      <td>OAS2_0186</td>\n",
       "      <td>OAS2_0186_MR2</td>\n",
       "      <td>Nondemented</td>\n",
       "      <td>763</td>\n",
       "      <td>F</td>\n",
       "      <td>R</td>\n",
       "      <td>63</td>\n",
       "      <td>13</td>\n",
       "      <td>2.0</td>\n",
       "      <td>30.0</td>\n",
       "      <td>0.0</td>\n",
       "      <td>1327</td>\n",
       "      <td>0.796</td>\n",
       "      <td>1.323</td>\n",
       "    </tr>\n",
       "  </tbody>\n",
       "</table>\n",
       "<p>144 rows × 14 columns</p>\n",
       "</div>"
      ],
      "text/plain": [
       "    Subject ID         MRI ID        Group  MR Delay M/F Hand  Age  EDUC  SES  \\\n",
       "1    OAS2_0001  OAS2_0001_MR2  Nondemented       457   M    R   88    14  2.0   \n",
       "3    OAS2_0002  OAS2_0002_MR2     Demented       560   M    R   76    12  NaN   \n",
       "6    OAS2_0004  OAS2_0004_MR2  Nondemented       538   F    R   90    18  3.0   \n",
       "8    OAS2_0005  OAS2_0005_MR2  Nondemented      1010   M    R   83    12  4.0   \n",
       "14   OAS2_0008  OAS2_0008_MR2  Nondemented       742   F    R   95    14  2.0   \n",
       "..         ...            ...          ...       ...  ..  ...  ...   ...  ...   \n",
       "360  OAS2_0182  OAS2_0182_MR2     Demented       776   M    R   75    12  NaN   \n",
       "362  OAS2_0183  OAS2_0183_MR2  Nondemented       182   F    R   66    13  2.0   \n",
       "366  OAS2_0184  OAS2_0184_MR2     Demented       553   F    R   73    16  3.0   \n",
       "368  OAS2_0185  OAS2_0185_MR2     Demented       842   M    R   82    16  1.0   \n",
       "371  OAS2_0186  OAS2_0186_MR2  Nondemented       763   F    R   63    13  2.0   \n",
       "\n",
       "     MMSE  CDR  eTIV   nWBV    ASF  \n",
       "1    30.0  0.0  2004  0.681  0.876  \n",
       "3    28.0  0.5  1738  0.713  1.010  \n",
       "6    27.0  0.0  1200  0.718  1.462  \n",
       "8    29.0  0.5  1701  0.711  1.032  \n",
       "14   29.0  0.0  1257  0.703  1.396  \n",
       "..    ...  ...   ...    ...    ...  \n",
       "360  20.0  0.5  1654  0.696  1.061  \n",
       "362  30.0  0.0  1506  0.740  1.165  \n",
       "366  21.0  1.0  1351  0.708  1.299  \n",
       "368  28.0  0.5  1693  0.694  1.037  \n",
       "371  30.0  0.0  1327  0.796  1.323  \n",
       "\n",
       "[144 rows x 14 columns]"
      ]
     },
     "metadata": {},
     "output_type": "display_data"
    },
    {
     "data": {
      "text/html": [
       "<div>\n",
       "<style scoped>\n",
       "    .dataframe tbody tr th:only-of-type {\n",
       "        vertical-align: middle;\n",
       "    }\n",
       "\n",
       "    .dataframe tbody tr th {\n",
       "        vertical-align: top;\n",
       "    }\n",
       "\n",
       "    .dataframe thead th {\n",
       "        text-align: right;\n",
       "    }\n",
       "</style>\n",
       "<table border=\"1\" class=\"dataframe\">\n",
       "  <thead>\n",
       "    <tr style=\"text-align: right;\">\n",
       "      <th></th>\n",
       "      <th>Subject ID</th>\n",
       "      <th>MRI ID</th>\n",
       "      <th>Group</th>\n",
       "      <th>MR Delay</th>\n",
       "      <th>M/F</th>\n",
       "      <th>Hand</th>\n",
       "      <th>Age</th>\n",
       "      <th>EDUC</th>\n",
       "      <th>SES</th>\n",
       "      <th>MMSE</th>\n",
       "      <th>CDR</th>\n",
       "      <th>eTIV</th>\n",
       "      <th>nWBV</th>\n",
       "      <th>ASF</th>\n",
       "    </tr>\n",
       "  </thead>\n",
       "  <tbody>\n",
       "    <tr>\n",
       "      <th>4</th>\n",
       "      <td>OAS2_0002</td>\n",
       "      <td>OAS2_0002_MR3</td>\n",
       "      <td>Demented</td>\n",
       "      <td>1895</td>\n",
       "      <td>M</td>\n",
       "      <td>R</td>\n",
       "      <td>80</td>\n",
       "      <td>12</td>\n",
       "      <td>NaN</td>\n",
       "      <td>22.0</td>\n",
       "      <td>0.5</td>\n",
       "      <td>1698</td>\n",
       "      <td>0.701</td>\n",
       "      <td>1.034</td>\n",
       "    </tr>\n",
       "    <tr>\n",
       "      <th>9</th>\n",
       "      <td>OAS2_0005</td>\n",
       "      <td>OAS2_0005_MR3</td>\n",
       "      <td>Nondemented</td>\n",
       "      <td>1603</td>\n",
       "      <td>M</td>\n",
       "      <td>R</td>\n",
       "      <td>85</td>\n",
       "      <td>12</td>\n",
       "      <td>4.0</td>\n",
       "      <td>30.0</td>\n",
       "      <td>0.0</td>\n",
       "      <td>1699</td>\n",
       "      <td>0.705</td>\n",
       "      <td>1.033</td>\n",
       "    </tr>\n",
       "    <tr>\n",
       "      <th>11</th>\n",
       "      <td>OAS2_0007</td>\n",
       "      <td>OAS2_0007_MR3</td>\n",
       "      <td>Demented</td>\n",
       "      <td>518</td>\n",
       "      <td>M</td>\n",
       "      <td>R</td>\n",
       "      <td>73</td>\n",
       "      <td>16</td>\n",
       "      <td>NaN</td>\n",
       "      <td>27.0</td>\n",
       "      <td>1.0</td>\n",
       "      <td>1365</td>\n",
       "      <td>0.727</td>\n",
       "      <td>1.286</td>\n",
       "    </tr>\n",
       "    <tr>\n",
       "      <th>21</th>\n",
       "      <td>OAS2_0012</td>\n",
       "      <td>OAS2_0012_MR3</td>\n",
       "      <td>Nondemented</td>\n",
       "      <td>1598</td>\n",
       "      <td>F</td>\n",
       "      <td>R</td>\n",
       "      <td>83</td>\n",
       "      <td>16</td>\n",
       "      <td>2.0</td>\n",
       "      <td>29.0</td>\n",
       "      <td>0.0</td>\n",
       "      <td>1323</td>\n",
       "      <td>0.718</td>\n",
       "      <td>1.327</td>\n",
       "    </tr>\n",
       "    <tr>\n",
       "      <th>24</th>\n",
       "      <td>OAS2_0013</td>\n",
       "      <td>OAS2_0013_MR3</td>\n",
       "      <td>Nondemented</td>\n",
       "      <td>1456</td>\n",
       "      <td>F</td>\n",
       "      <td>R</td>\n",
       "      <td>85</td>\n",
       "      <td>12</td>\n",
       "      <td>4.0</td>\n",
       "      <td>29.0</td>\n",
       "      <td>0.0</td>\n",
       "      <td>1225</td>\n",
       "      <td>0.710</td>\n",
       "      <td>1.433</td>\n",
       "    </tr>\n",
       "    <tr>\n",
       "      <th>30</th>\n",
       "      <td>OAS2_0017</td>\n",
       "      <td>OAS2_0017_MR3</td>\n",
       "      <td>Nondemented</td>\n",
       "      <td>617</td>\n",
       "      <td>M</td>\n",
       "      <td>R</td>\n",
       "      <td>81</td>\n",
       "      <td>12</td>\n",
       "      <td>3.0</td>\n",
       "      <td>27.0</td>\n",
       "      <td>0.5</td>\n",
       "      <td>1814</td>\n",
       "      <td>0.759</td>\n",
       "      <td>0.968</td>\n",
       "    </tr>\n",
       "    <tr>\n",
       "      <th>34</th>\n",
       "      <td>OAS2_0018</td>\n",
       "      <td>OAS2_0018_MR3</td>\n",
       "      <td>Converted</td>\n",
       "      <td>489</td>\n",
       "      <td>F</td>\n",
       "      <td>R</td>\n",
       "      <td>88</td>\n",
       "      <td>14</td>\n",
       "      <td>1.0</td>\n",
       "      <td>29.0</td>\n",
       "      <td>0.0</td>\n",
       "      <td>1398</td>\n",
       "      <td>0.713</td>\n",
       "      <td>1.255</td>\n",
       "    </tr>\n",
       "    <tr>\n",
       "      <th>38</th>\n",
       "      <td>OAS2_0020</td>\n",
       "      <td>OAS2_0020_MR3</td>\n",
       "      <td>Converted</td>\n",
       "      <td>1563</td>\n",
       "      <td>M</td>\n",
       "      <td>R</td>\n",
       "      <td>84</td>\n",
       "      <td>20</td>\n",
       "      <td>1.0</td>\n",
       "      <td>26.0</td>\n",
       "      <td>0.5</td>\n",
       "      <td>1597</td>\n",
       "      <td>0.666</td>\n",
       "      <td>1.099</td>\n",
       "    </tr>\n",
       "    <tr>\n",
       "      <th>49</th>\n",
       "      <td>OAS2_0027</td>\n",
       "      <td>OAS2_0027_MR3</td>\n",
       "      <td>Nondemented</td>\n",
       "      <td>1234</td>\n",
       "      <td>F</td>\n",
       "      <td>R</td>\n",
       "      <td>73</td>\n",
       "      <td>12</td>\n",
       "      <td>3.0</td>\n",
       "      <td>30.0</td>\n",
       "      <td>0.0</td>\n",
       "      <td>1358</td>\n",
       "      <td>0.775</td>\n",
       "      <td>1.293</td>\n",
       "    </tr>\n",
       "    <tr>\n",
       "      <th>59</th>\n",
       "      <td>OAS2_0031</td>\n",
       "      <td>OAS2_0031_MR3</td>\n",
       "      <td>Converted</td>\n",
       "      <td>1588</td>\n",
       "      <td>F</td>\n",
       "      <td>R</td>\n",
       "      <td>91</td>\n",
       "      <td>12</td>\n",
       "      <td>3.0</td>\n",
       "      <td>28.0</td>\n",
       "      <td>0.5</td>\n",
       "      <td>1463</td>\n",
       "      <td>0.696</td>\n",
       "      <td>1.199</td>\n",
       "    </tr>\n",
       "    <tr>\n",
       "      <th>64</th>\n",
       "      <td>OAS2_0034</td>\n",
       "      <td>OAS2_0034_MR3</td>\n",
       "      <td>Nondemented</td>\n",
       "      <td>1287</td>\n",
       "      <td>F</td>\n",
       "      <td>R</td>\n",
       "      <td>82</td>\n",
       "      <td>16</td>\n",
       "      <td>1.0</td>\n",
       "      <td>30.0</td>\n",
       "      <td>0.0</td>\n",
       "      <td>1460</td>\n",
       "      <td>0.695</td>\n",
       "      <td>1.202</td>\n",
       "    </tr>\n",
       "    <tr>\n",
       "      <th>69</th>\n",
       "      <td>OAS2_0036</td>\n",
       "      <td>OAS2_0036_MR3</td>\n",
       "      <td>Nondemented</td>\n",
       "      <td>713</td>\n",
       "      <td>F</td>\n",
       "      <td>R</td>\n",
       "      <td>70</td>\n",
       "      <td>13</td>\n",
       "      <td>4.0</td>\n",
       "      <td>30.0</td>\n",
       "      <td>0.0</td>\n",
       "      <td>1361</td>\n",
       "      <td>0.783</td>\n",
       "      <td>1.290</td>\n",
       "    </tr>\n",
       "    <tr>\n",
       "      <th>74</th>\n",
       "      <td>OAS2_0037</td>\n",
       "      <td>OAS2_0037_MR3</td>\n",
       "      <td>Demented</td>\n",
       "      <td>2029</td>\n",
       "      <td>M</td>\n",
       "      <td>R</td>\n",
       "      <td>88</td>\n",
       "      <td>12</td>\n",
       "      <td>4.0</td>\n",
       "      <td>26.0</td>\n",
       "      <td>0.5</td>\n",
       "      <td>1483</td>\n",
       "      <td>0.709</td>\n",
       "      <td>1.184</td>\n",
       "    </tr>\n",
       "    <tr>\n",
       "      <th>80</th>\n",
       "      <td>OAS2_0040</td>\n",
       "      <td>OAS2_0040_MR3</td>\n",
       "      <td>Demented</td>\n",
       "      <td>1204</td>\n",
       "      <td>M</td>\n",
       "      <td>R</td>\n",
       "      <td>88</td>\n",
       "      <td>6</td>\n",
       "      <td>4.0</td>\n",
       "      <td>23.0</td>\n",
       "      <td>0.5</td>\n",
       "      <td>1348</td>\n",
       "      <td>0.713</td>\n",
       "      <td>1.302</td>\n",
       "    </tr>\n",
       "    <tr>\n",
       "      <th>83</th>\n",
       "      <td>OAS2_0041</td>\n",
       "      <td>OAS2_0041_MR3</td>\n",
       "      <td>Converted</td>\n",
       "      <td>1331</td>\n",
       "      <td>F</td>\n",
       "      <td>R</td>\n",
       "      <td>75</td>\n",
       "      <td>16</td>\n",
       "      <td>1.0</td>\n",
       "      <td>28.0</td>\n",
       "      <td>0.5</td>\n",
       "      <td>1314</td>\n",
       "      <td>0.760</td>\n",
       "      <td>1.335</td>\n",
       "    </tr>\n",
       "    <tr>\n",
       "      <th>90</th>\n",
       "      <td>OAS2_0044</td>\n",
       "      <td>OAS2_0044_MR3</td>\n",
       "      <td>Demented</td>\n",
       "      <td>866</td>\n",
       "      <td>M</td>\n",
       "      <td>R</td>\n",
       "      <td>71</td>\n",
       "      <td>14</td>\n",
       "      <td>4.0</td>\n",
       "      <td>22.0</td>\n",
       "      <td>1.0</td>\n",
       "      <td>1332</td>\n",
       "      <td>0.679</td>\n",
       "      <td>1.317</td>\n",
       "    </tr>\n",
       "    <tr>\n",
       "      <th>99</th>\n",
       "      <td>OAS2_0048</td>\n",
       "      <td>OAS2_0048_MR3</td>\n",
       "      <td>Demented</td>\n",
       "      <td>647</td>\n",
       "      <td>M</td>\n",
       "      <td>R</td>\n",
       "      <td>68</td>\n",
       "      <td>16</td>\n",
       "      <td>1.0</td>\n",
       "      <td>19.0</td>\n",
       "      <td>1.0</td>\n",
       "      <td>1712</td>\n",
       "      <td>0.691</td>\n",
       "      <td>1.025</td>\n",
       "    </tr>\n",
       "    <tr>\n",
       "      <th>104</th>\n",
       "      <td>OAS2_0049</td>\n",
       "      <td>OAS2_0049_MR3</td>\n",
       "      <td>Nondemented</td>\n",
       "      <td>687</td>\n",
       "      <td>F</td>\n",
       "      <td>R</td>\n",
       "      <td>71</td>\n",
       "      <td>16</td>\n",
       "      <td>3.0</td>\n",
       "      <td>30.0</td>\n",
       "      <td>0.0</td>\n",
       "      <td>1503</td>\n",
       "      <td>0.788</td>\n",
       "      <td>1.168</td>\n",
       "    </tr>\n",
       "    <tr>\n",
       "      <th>109</th>\n",
       "      <td>OAS2_0051</td>\n",
       "      <td>OAS2_0051_MR3</td>\n",
       "      <td>Nondemented</td>\n",
       "      <td>1526</td>\n",
       "      <td>F</td>\n",
       "      <td>R</td>\n",
       "      <td>97</td>\n",
       "      <td>23</td>\n",
       "      <td>1.0</td>\n",
       "      <td>30.0</td>\n",
       "      <td>0.0</td>\n",
       "      <td>1483</td>\n",
       "      <td>0.689</td>\n",
       "      <td>1.184</td>\n",
       "    </tr>\n",
       "    <tr>\n",
       "      <th>122</th>\n",
       "      <td>OAS2_0057</td>\n",
       "      <td>OAS2_0057_MR3</td>\n",
       "      <td>Nondemented</td>\n",
       "      <td>1340</td>\n",
       "      <td>F</td>\n",
       "      <td>R</td>\n",
       "      <td>85</td>\n",
       "      <td>12</td>\n",
       "      <td>2.0</td>\n",
       "      <td>30.0</td>\n",
       "      <td>0.0</td>\n",
       "      <td>1580</td>\n",
       "      <td>0.739</td>\n",
       "      <td>1.111</td>\n",
       "    </tr>\n",
       "    <tr>\n",
       "      <th>125</th>\n",
       "      <td>OAS2_0058</td>\n",
       "      <td>OAS2_0058_MR3</td>\n",
       "      <td>Demented</td>\n",
       "      <td>764</td>\n",
       "      <td>M</td>\n",
       "      <td>R</td>\n",
       "      <td>80</td>\n",
       "      <td>14</td>\n",
       "      <td>3.0</td>\n",
       "      <td>29.0</td>\n",
       "      <td>0.5</td>\n",
       "      <td>1324</td>\n",
       "      <td>0.695</td>\n",
       "      <td>1.326</td>\n",
       "    </tr>\n",
       "    <tr>\n",
       "      <th>130</th>\n",
       "      <td>OAS2_0061</td>\n",
       "      <td>OAS2_0061_MR3</td>\n",
       "      <td>Nondemented</td>\n",
       "      <td>1651</td>\n",
       "      <td>M</td>\n",
       "      <td>R</td>\n",
       "      <td>72</td>\n",
       "      <td>18</td>\n",
       "      <td>1.0</td>\n",
       "      <td>30.0</td>\n",
       "      <td>0.0</td>\n",
       "      <td>1681</td>\n",
       "      <td>0.729</td>\n",
       "      <td>1.044</td>\n",
       "    </tr>\n",
       "    <tr>\n",
       "      <th>133</th>\n",
       "      <td>OAS2_0062</td>\n",
       "      <td>OAS2_0062_MR3</td>\n",
       "      <td>Nondemented</td>\n",
       "      <td>1351</td>\n",
       "      <td>F</td>\n",
       "      <td>R</td>\n",
       "      <td>83</td>\n",
       "      <td>18</td>\n",
       "      <td>2.0</td>\n",
       "      <td>29.0</td>\n",
       "      <td>0.0</td>\n",
       "      <td>1667</td>\n",
       "      <td>0.688</td>\n",
       "      <td>1.053</td>\n",
       "    </tr>\n",
       "    <tr>\n",
       "      <th>138</th>\n",
       "      <td>OAS2_0064</td>\n",
       "      <td>OAS2_0064_MR3</td>\n",
       "      <td>Demented</td>\n",
       "      <td>1282</td>\n",
       "      <td>F</td>\n",
       "      <td>R</td>\n",
       "      <td>82</td>\n",
       "      <td>8</td>\n",
       "      <td>5.0</td>\n",
       "      <td>18.0</td>\n",
       "      <td>0.5</td>\n",
       "      <td>1464</td>\n",
       "      <td>0.682</td>\n",
       "      <td>1.199</td>\n",
       "    </tr>\n",
       "    <tr>\n",
       "      <th>143</th>\n",
       "      <td>OAS2_0067</td>\n",
       "      <td>OAS2_0067_MR3</td>\n",
       "      <td>Nondemented</td>\n",
       "      <td>1438</td>\n",
       "      <td>M</td>\n",
       "      <td>R</td>\n",
       "      <td>71</td>\n",
       "      <td>12</td>\n",
       "      <td>4.0</td>\n",
       "      <td>29.0</td>\n",
       "      <td>0.0</td>\n",
       "      <td>1455</td>\n",
       "      <td>0.724</td>\n",
       "      <td>1.206</td>\n",
       "    </tr>\n",
       "    <tr>\n",
       "      <th>151</th>\n",
       "      <td>OAS2_0070</td>\n",
       "      <td>OAS2_0070_MR3</td>\n",
       "      <td>Nondemented</td>\n",
       "      <td>1415</td>\n",
       "      <td>M</td>\n",
       "      <td>R</td>\n",
       "      <td>84</td>\n",
       "      <td>17</td>\n",
       "      <td>1.0</td>\n",
       "      <td>29.0</td>\n",
       "      <td>0.0</td>\n",
       "      <td>1707</td>\n",
       "      <td>0.717</td>\n",
       "      <td>1.028</td>\n",
       "    </tr>\n",
       "    <tr>\n",
       "      <th>158</th>\n",
       "      <td>OAS2_0073</td>\n",
       "      <td>OAS2_0073_MR3</td>\n",
       "      <td>Nondemented</td>\n",
       "      <td>1705</td>\n",
       "      <td>F</td>\n",
       "      <td>R</td>\n",
       "      <td>75</td>\n",
       "      <td>14</td>\n",
       "      <td>3.0</td>\n",
       "      <td>28.0</td>\n",
       "      <td>0.0</td>\n",
       "      <td>1507</td>\n",
       "      <td>0.782</td>\n",
       "      <td>1.164</td>\n",
       "    </tr>\n",
       "    <tr>\n",
       "      <th>165</th>\n",
       "      <td>OAS2_0076</td>\n",
       "      <td>OAS2_0076_MR3</td>\n",
       "      <td>Nondemented</td>\n",
       "      <td>1663</td>\n",
       "      <td>F</td>\n",
       "      <td>R</td>\n",
       "      <td>71</td>\n",
       "      <td>18</td>\n",
       "      <td>2.0</td>\n",
       "      <td>30.0</td>\n",
       "      <td>0.0</td>\n",
       "      <td>1520</td>\n",
       "      <td>0.718</td>\n",
       "      <td>1.155</td>\n",
       "    </tr>\n",
       "    <tr>\n",
       "      <th>170</th>\n",
       "      <td>OAS2_0078</td>\n",
       "      <td>OAS2_0078_MR3</td>\n",
       "      <td>Nondemented</td>\n",
       "      <td>1019</td>\n",
       "      <td>M</td>\n",
       "      <td>R</td>\n",
       "      <td>92</td>\n",
       "      <td>16</td>\n",
       "      <td>1.0</td>\n",
       "      <td>30.0</td>\n",
       "      <td>0.0</td>\n",
       "      <td>1662</td>\n",
       "      <td>0.682</td>\n",
       "      <td>1.056</td>\n",
       "    </tr>\n",
       "    <tr>\n",
       "      <th>173</th>\n",
       "      <td>OAS2_0079</td>\n",
       "      <td>OAS2_0079_MR3</td>\n",
       "      <td>Demented</td>\n",
       "      <td>1435</td>\n",
       "      <td>F</td>\n",
       "      <td>R</td>\n",
       "      <td>73</td>\n",
       "      <td>12</td>\n",
       "      <td>4.0</td>\n",
       "      <td>16.0</td>\n",
       "      <td>1.0</td>\n",
       "      <td>1478</td>\n",
       "      <td>0.696</td>\n",
       "      <td>1.188</td>\n",
       "    </tr>\n",
       "    <tr>\n",
       "      <th>176</th>\n",
       "      <td>OAS2_0080</td>\n",
       "      <td>OAS2_0080_MR3</td>\n",
       "      <td>Demented</td>\n",
       "      <td>1209</td>\n",
       "      <td>M</td>\n",
       "      <td>R</td>\n",
       "      <td>69</td>\n",
       "      <td>15</td>\n",
       "      <td>2.0</td>\n",
       "      <td>28.0</td>\n",
       "      <td>0.5</td>\n",
       "      <td>1546</td>\n",
       "      <td>0.724</td>\n",
       "      <td>1.135</td>\n",
       "    </tr>\n",
       "    <tr>\n",
       "      <th>188</th>\n",
       "      <td>OAS2_0089</td>\n",
       "      <td>OAS2_0089_MR3</td>\n",
       "      <td>Demented</td>\n",
       "      <td>563</td>\n",
       "      <td>M</td>\n",
       "      <td>R</td>\n",
       "      <td>72</td>\n",
       "      <td>12</td>\n",
       "      <td>2.0</td>\n",
       "      <td>27.0</td>\n",
       "      <td>1.0</td>\n",
       "      <td>1432</td>\n",
       "      <td>0.684</td>\n",
       "      <td>1.226</td>\n",
       "    </tr>\n",
       "    <tr>\n",
       "      <th>191</th>\n",
       "      <td>OAS2_0090</td>\n",
       "      <td>OAS2_0090_MR3</td>\n",
       "      <td>Nondemented</td>\n",
       "      <td>1345</td>\n",
       "      <td>M</td>\n",
       "      <td>R</td>\n",
       "      <td>76</td>\n",
       "      <td>18</td>\n",
       "      <td>2.0</td>\n",
       "      <td>30.0</td>\n",
       "      <td>0.0</td>\n",
       "      <td>1550</td>\n",
       "      <td>0.758</td>\n",
       "      <td>1.133</td>\n",
       "    </tr>\n",
       "    <tr>\n",
       "      <th>200</th>\n",
       "      <td>OAS2_0095</td>\n",
       "      <td>OAS2_0095_MR3</td>\n",
       "      <td>Nondemented</td>\n",
       "      <td>1412</td>\n",
       "      <td>M</td>\n",
       "      <td>R</td>\n",
       "      <td>74</td>\n",
       "      <td>18</td>\n",
       "      <td>1.0</td>\n",
       "      <td>29.0</td>\n",
       "      <td>0.0</td>\n",
       "      <td>1814</td>\n",
       "      <td>0.679</td>\n",
       "      <td>0.967</td>\n",
       "    </tr>\n",
       "    <tr>\n",
       "      <th>211</th>\n",
       "      <td>OAS2_0100</td>\n",
       "      <td>OAS2_0100_MR3</td>\n",
       "      <td>Nondemented</td>\n",
       "      <td>1752</td>\n",
       "      <td>F</td>\n",
       "      <td>R</td>\n",
       "      <td>82</td>\n",
       "      <td>11</td>\n",
       "      <td>4.0</td>\n",
       "      <td>30.0</td>\n",
       "      <td>0.0</td>\n",
       "      <td>1590</td>\n",
       "      <td>0.760</td>\n",
       "      <td>1.104</td>\n",
       "    </tr>\n",
       "    <tr>\n",
       "      <th>214</th>\n",
       "      <td>OAS2_0101</td>\n",
       "      <td>OAS2_0101_MR3</td>\n",
       "      <td>Nondemented</td>\n",
       "      <td>1631</td>\n",
       "      <td>F</td>\n",
       "      <td>R</td>\n",
       "      <td>76</td>\n",
       "      <td>18</td>\n",
       "      <td>2.0</td>\n",
       "      <td>30.0</td>\n",
       "      <td>0.0</td>\n",
       "      <td>1379</td>\n",
       "      <td>0.757</td>\n",
       "      <td>1.273</td>\n",
       "    </tr>\n",
       "    <tr>\n",
       "      <th>217</th>\n",
       "      <td>OAS2_0102</td>\n",
       "      <td>OAS2_0102_MR3</td>\n",
       "      <td>Demented</td>\n",
       "      <td>1387</td>\n",
       "      <td>M</td>\n",
       "      <td>R</td>\n",
       "      <td>86</td>\n",
       "      <td>15</td>\n",
       "      <td>3.0</td>\n",
       "      <td>30.0</td>\n",
       "      <td>0.5</td>\n",
       "      <td>1498</td>\n",
       "      <td>0.681</td>\n",
       "      <td>1.171</td>\n",
       "    </tr>\n",
       "    <tr>\n",
       "      <th>220</th>\n",
       "      <td>OAS2_0103</td>\n",
       "      <td>OAS2_0103_MR3</td>\n",
       "      <td>Converted</td>\n",
       "      <td>2002</td>\n",
       "      <td>F</td>\n",
       "      <td>R</td>\n",
       "      <td>75</td>\n",
       "      <td>16</td>\n",
       "      <td>1.0</td>\n",
       "      <td>30.0</td>\n",
       "      <td>0.5</td>\n",
       "      <td>1419</td>\n",
       "      <td>0.731</td>\n",
       "      <td>1.236</td>\n",
       "    </tr>\n",
       "    <tr>\n",
       "      <th>243</th>\n",
       "      <td>OAS2_0117</td>\n",
       "      <td>OAS2_0117_MR3</td>\n",
       "      <td>Nondemented</td>\n",
       "      <td>1345</td>\n",
       "      <td>M</td>\n",
       "      <td>R</td>\n",
       "      <td>76</td>\n",
       "      <td>20</td>\n",
       "      <td>2.0</td>\n",
       "      <td>30.0</td>\n",
       "      <td>0.0</td>\n",
       "      <td>1823</td>\n",
       "      <td>0.739</td>\n",
       "      <td>0.963</td>\n",
       "    </tr>\n",
       "    <tr>\n",
       "      <th>249</th>\n",
       "      <td>OAS2_0119</td>\n",
       "      <td>OAS2_0119_MR3</td>\n",
       "      <td>Nondemented</td>\n",
       "      <td>1713</td>\n",
       "      <td>F</td>\n",
       "      <td>R</td>\n",
       "      <td>85</td>\n",
       "      <td>15</td>\n",
       "      <td>2.0</td>\n",
       "      <td>30.0</td>\n",
       "      <td>0.0</td>\n",
       "      <td>1488</td>\n",
       "      <td>0.741</td>\n",
       "      <td>1.180</td>\n",
       "    </tr>\n",
       "    <tr>\n",
       "      <th>260</th>\n",
       "      <td>OAS2_0126</td>\n",
       "      <td>OAS2_0126_MR3</td>\n",
       "      <td>Nondemented</td>\n",
       "      <td>1192</td>\n",
       "      <td>F</td>\n",
       "      <td>R</td>\n",
       "      <td>77</td>\n",
       "      <td>12</td>\n",
       "      <td>3.0</td>\n",
       "      <td>29.0</td>\n",
       "      <td>0.0</td>\n",
       "      <td>1344</td>\n",
       "      <td>0.740</td>\n",
       "      <td>1.306</td>\n",
       "    </tr>\n",
       "    <tr>\n",
       "      <th>263</th>\n",
       "      <td>OAS2_0127</td>\n",
       "      <td>OAS2_0127_MR3</td>\n",
       "      <td>Converted</td>\n",
       "      <td>1042</td>\n",
       "      <td>M</td>\n",
       "      <td>R</td>\n",
       "      <td>81</td>\n",
       "      <td>18</td>\n",
       "      <td>1.0</td>\n",
       "      <td>29.0</td>\n",
       "      <td>0.5</td>\n",
       "      <td>1647</td>\n",
       "      <td>0.717</td>\n",
       "      <td>1.066</td>\n",
       "    </tr>\n",
       "    <tr>\n",
       "      <th>270</th>\n",
       "      <td>OAS2_0129</td>\n",
       "      <td>OAS2_0129_MR3</td>\n",
       "      <td>Nondemented</td>\n",
       "      <td>1591</td>\n",
       "      <td>F</td>\n",
       "      <td>R</td>\n",
       "      <td>82</td>\n",
       "      <td>18</td>\n",
       "      <td>1.0</td>\n",
       "      <td>29.0</td>\n",
       "      <td>0.0</td>\n",
       "      <td>1442</td>\n",
       "      <td>0.644</td>\n",
       "      <td>1.217</td>\n",
       "    </tr>\n",
       "    <tr>\n",
       "      <th>274</th>\n",
       "      <td>OAS2_0133</td>\n",
       "      <td>OAS2_0133_MR3</td>\n",
       "      <td>Converted</td>\n",
       "      <td>1006</td>\n",
       "      <td>F</td>\n",
       "      <td>R</td>\n",
       "      <td>81</td>\n",
       "      <td>12</td>\n",
       "      <td>3.0</td>\n",
       "      <td>28.0</td>\n",
       "      <td>0.5</td>\n",
       "      <td>1495</td>\n",
       "      <td>0.687</td>\n",
       "      <td>1.174</td>\n",
       "    </tr>\n",
       "    <tr>\n",
       "      <th>287</th>\n",
       "      <td>OAS2_0140</td>\n",
       "      <td>OAS2_0140_MR3</td>\n",
       "      <td>Demented</td>\n",
       "      <td>1655</td>\n",
       "      <td>F</td>\n",
       "      <td>R</td>\n",
       "      <td>81</td>\n",
       "      <td>16</td>\n",
       "      <td>3.0</td>\n",
       "      <td>25.0</td>\n",
       "      <td>0.5</td>\n",
       "      <td>1396</td>\n",
       "      <td>0.687</td>\n",
       "      <td>1.257</td>\n",
       "    </tr>\n",
       "    <tr>\n",
       "      <th>294</th>\n",
       "      <td>OAS2_0143</td>\n",
       "      <td>OAS2_0143_MR3</td>\n",
       "      <td>Nondemented</td>\n",
       "      <td>1553</td>\n",
       "      <td>F</td>\n",
       "      <td>R</td>\n",
       "      <td>93</td>\n",
       "      <td>18</td>\n",
       "      <td>2.0</td>\n",
       "      <td>29.0</td>\n",
       "      <td>0.0</td>\n",
       "      <td>1744</td>\n",
       "      <td>0.723</td>\n",
       "      <td>1.006</td>\n",
       "    </tr>\n",
       "    <tr>\n",
       "      <th>303</th>\n",
       "      <td>OAS2_0147</td>\n",
       "      <td>OAS2_0147_MR3</td>\n",
       "      <td>Nondemented</td>\n",
       "      <td>1204</td>\n",
       "      <td>F</td>\n",
       "      <td>R</td>\n",
       "      <td>80</td>\n",
       "      <td>13</td>\n",
       "      <td>2.0</td>\n",
       "      <td>28.0</td>\n",
       "      <td>0.0</td>\n",
       "      <td>1337</td>\n",
       "      <td>0.762</td>\n",
       "      <td>1.313</td>\n",
       "    </tr>\n",
       "    <tr>\n",
       "      <th>311</th>\n",
       "      <td>OAS2_0152</td>\n",
       "      <td>OAS2_0152_MR3</td>\n",
       "      <td>Nondemented</td>\n",
       "      <td>1329</td>\n",
       "      <td>F</td>\n",
       "      <td>R</td>\n",
       "      <td>69</td>\n",
       "      <td>18</td>\n",
       "      <td>2.0</td>\n",
       "      <td>29.0</td>\n",
       "      <td>0.0</td>\n",
       "      <td>1202</td>\n",
       "      <td>0.770</td>\n",
       "      <td>1.461</td>\n",
       "    </tr>\n",
       "    <tr>\n",
       "      <th>326</th>\n",
       "      <td>OAS2_0161</td>\n",
       "      <td>OAS2_0161_MR3</td>\n",
       "      <td>Nondemented</td>\n",
       "      <td>1033</td>\n",
       "      <td>M</td>\n",
       "      <td>R</td>\n",
       "      <td>80</td>\n",
       "      <td>16</td>\n",
       "      <td>1.0</td>\n",
       "      <td>29.0</td>\n",
       "      <td>0.0</td>\n",
       "      <td>1830</td>\n",
       "      <td>0.724</td>\n",
       "      <td>0.959</td>\n",
       "    </tr>\n",
       "    <tr>\n",
       "      <th>337</th>\n",
       "      <td>OAS2_0171</td>\n",
       "      <td>OAS2_0171_MR3</td>\n",
       "      <td>Nondemented</td>\n",
       "      <td>1695</td>\n",
       "      <td>M</td>\n",
       "      <td>R</td>\n",
       "      <td>81</td>\n",
       "      <td>16</td>\n",
       "      <td>3.0</td>\n",
       "      <td>30.0</td>\n",
       "      <td>0.0</td>\n",
       "      <td>1836</td>\n",
       "      <td>0.744</td>\n",
       "      <td>0.956</td>\n",
       "    </tr>\n",
       "    <tr>\n",
       "      <th>342</th>\n",
       "      <td>OAS2_0174</td>\n",
       "      <td>OAS2_0174_MR3</td>\n",
       "      <td>Nondemented</td>\n",
       "      <td>1555</td>\n",
       "      <td>M</td>\n",
       "      <td>R</td>\n",
       "      <td>64</td>\n",
       "      <td>12</td>\n",
       "      <td>4.0</td>\n",
       "      <td>30.0</td>\n",
       "      <td>0.0</td>\n",
       "      <td>1370</td>\n",
       "      <td>0.794</td>\n",
       "      <td>1.281</td>\n",
       "    </tr>\n",
       "    <tr>\n",
       "      <th>345</th>\n",
       "      <td>OAS2_0175</td>\n",
       "      <td>OAS2_0175_MR3</td>\n",
       "      <td>Demented</td>\n",
       "      <td>1343</td>\n",
       "      <td>M</td>\n",
       "      <td>R</td>\n",
       "      <td>73</td>\n",
       "      <td>16</td>\n",
       "      <td>4.0</td>\n",
       "      <td>28.0</td>\n",
       "      <td>0.5</td>\n",
       "      <td>1803</td>\n",
       "      <td>0.731</td>\n",
       "      <td>0.973</td>\n",
       "    </tr>\n",
       "    <tr>\n",
       "      <th>348</th>\n",
       "      <td>OAS2_0176</td>\n",
       "      <td>OAS2_0176_MR3</td>\n",
       "      <td>Converted</td>\n",
       "      <td>1631</td>\n",
       "      <td>M</td>\n",
       "      <td>R</td>\n",
       "      <td>89</td>\n",
       "      <td>16</td>\n",
       "      <td>2.0</td>\n",
       "      <td>30.0</td>\n",
       "      <td>0.5</td>\n",
       "      <td>1408</td>\n",
       "      <td>0.679</td>\n",
       "      <td>1.246</td>\n",
       "    </tr>\n",
       "    <tr>\n",
       "      <th>353</th>\n",
       "      <td>OAS2_0178</td>\n",
       "      <td>OAS2_0178_MR3</td>\n",
       "      <td>Nondemented</td>\n",
       "      <td>1447</td>\n",
       "      <td>F</td>\n",
       "      <td>R</td>\n",
       "      <td>93</td>\n",
       "      <td>14</td>\n",
       "      <td>2.0</td>\n",
       "      <td>30.0</td>\n",
       "      <td>0.0</td>\n",
       "      <td>1488</td>\n",
       "      <td>0.735</td>\n",
       "      <td>1.179</td>\n",
       "    </tr>\n",
       "    <tr>\n",
       "      <th>358</th>\n",
       "      <td>OAS2_0181</td>\n",
       "      <td>OAS2_0181_MR3</td>\n",
       "      <td>Demented</td>\n",
       "      <td>1107</td>\n",
       "      <td>F</td>\n",
       "      <td>R</td>\n",
       "      <td>77</td>\n",
       "      <td>12</td>\n",
       "      <td>NaN</td>\n",
       "      <td>NaN</td>\n",
       "      <td>1.0</td>\n",
       "      <td>1159</td>\n",
       "      <td>0.733</td>\n",
       "      <td>1.515</td>\n",
       "    </tr>\n",
       "    <tr>\n",
       "      <th>363</th>\n",
       "      <td>OAS2_0183</td>\n",
       "      <td>OAS2_0183_MR3</td>\n",
       "      <td>Nondemented</td>\n",
       "      <td>732</td>\n",
       "      <td>F</td>\n",
       "      <td>R</td>\n",
       "      <td>68</td>\n",
       "      <td>13</td>\n",
       "      <td>2.0</td>\n",
       "      <td>30.0</td>\n",
       "      <td>0.0</td>\n",
       "      <td>1506</td>\n",
       "      <td>0.740</td>\n",
       "      <td>1.165</td>\n",
       "    </tr>\n",
       "    <tr>\n",
       "      <th>369</th>\n",
       "      <td>OAS2_0185</td>\n",
       "      <td>OAS2_0185_MR3</td>\n",
       "      <td>Demented</td>\n",
       "      <td>2297</td>\n",
       "      <td>M</td>\n",
       "      <td>R</td>\n",
       "      <td>86</td>\n",
       "      <td>16</td>\n",
       "      <td>1.0</td>\n",
       "      <td>26.0</td>\n",
       "      <td>0.5</td>\n",
       "      <td>1688</td>\n",
       "      <td>0.675</td>\n",
       "      <td>1.040</td>\n",
       "    </tr>\n",
       "    <tr>\n",
       "      <th>372</th>\n",
       "      <td>OAS2_0186</td>\n",
       "      <td>OAS2_0186_MR3</td>\n",
       "      <td>Nondemented</td>\n",
       "      <td>1608</td>\n",
       "      <td>F</td>\n",
       "      <td>R</td>\n",
       "      <td>65</td>\n",
       "      <td>13</td>\n",
       "      <td>2.0</td>\n",
       "      <td>30.0</td>\n",
       "      <td>0.0</td>\n",
       "      <td>1333</td>\n",
       "      <td>0.801</td>\n",
       "      <td>1.317</td>\n",
       "    </tr>\n",
       "  </tbody>\n",
       "</table>\n",
       "</div>"
      ],
      "text/plain": [
       "    Subject ID         MRI ID        Group  MR Delay M/F Hand  Age  EDUC  SES  \\\n",
       "4    OAS2_0002  OAS2_0002_MR3     Demented      1895   M    R   80    12  NaN   \n",
       "9    OAS2_0005  OAS2_0005_MR3  Nondemented      1603   M    R   85    12  4.0   \n",
       "11   OAS2_0007  OAS2_0007_MR3     Demented       518   M    R   73    16  NaN   \n",
       "21   OAS2_0012  OAS2_0012_MR3  Nondemented      1598   F    R   83    16  2.0   \n",
       "24   OAS2_0013  OAS2_0013_MR3  Nondemented      1456   F    R   85    12  4.0   \n",
       "30   OAS2_0017  OAS2_0017_MR3  Nondemented       617   M    R   81    12  3.0   \n",
       "34   OAS2_0018  OAS2_0018_MR3    Converted       489   F    R   88    14  1.0   \n",
       "38   OAS2_0020  OAS2_0020_MR3    Converted      1563   M    R   84    20  1.0   \n",
       "49   OAS2_0027  OAS2_0027_MR3  Nondemented      1234   F    R   73    12  3.0   \n",
       "59   OAS2_0031  OAS2_0031_MR3    Converted      1588   F    R   91    12  3.0   \n",
       "64   OAS2_0034  OAS2_0034_MR3  Nondemented      1287   F    R   82    16  1.0   \n",
       "69   OAS2_0036  OAS2_0036_MR3  Nondemented       713   F    R   70    13  4.0   \n",
       "74   OAS2_0037  OAS2_0037_MR3     Demented      2029   M    R   88    12  4.0   \n",
       "80   OAS2_0040  OAS2_0040_MR3     Demented      1204   M    R   88     6  4.0   \n",
       "83   OAS2_0041  OAS2_0041_MR3    Converted      1331   F    R   75    16  1.0   \n",
       "90   OAS2_0044  OAS2_0044_MR3     Demented       866   M    R   71    14  4.0   \n",
       "99   OAS2_0048  OAS2_0048_MR3     Demented       647   M    R   68    16  1.0   \n",
       "104  OAS2_0049  OAS2_0049_MR3  Nondemented       687   F    R   71    16  3.0   \n",
       "109  OAS2_0051  OAS2_0051_MR3  Nondemented      1526   F    R   97    23  1.0   \n",
       "122  OAS2_0057  OAS2_0057_MR3  Nondemented      1340   F    R   85    12  2.0   \n",
       "125  OAS2_0058  OAS2_0058_MR3     Demented       764   M    R   80    14  3.0   \n",
       "130  OAS2_0061  OAS2_0061_MR3  Nondemented      1651   M    R   72    18  1.0   \n",
       "133  OAS2_0062  OAS2_0062_MR3  Nondemented      1351   F    R   83    18  2.0   \n",
       "138  OAS2_0064  OAS2_0064_MR3     Demented      1282   F    R   82     8  5.0   \n",
       "143  OAS2_0067  OAS2_0067_MR3  Nondemented      1438   M    R   71    12  4.0   \n",
       "151  OAS2_0070  OAS2_0070_MR3  Nondemented      1415   M    R   84    17  1.0   \n",
       "158  OAS2_0073  OAS2_0073_MR3  Nondemented      1705   F    R   75    14  3.0   \n",
       "165  OAS2_0076  OAS2_0076_MR3  Nondemented      1663   F    R   71    18  2.0   \n",
       "170  OAS2_0078  OAS2_0078_MR3  Nondemented      1019   M    R   92    16  1.0   \n",
       "173  OAS2_0079  OAS2_0079_MR3     Demented      1435   F    R   73    12  4.0   \n",
       "176  OAS2_0080  OAS2_0080_MR3     Demented      1209   M    R   69    15  2.0   \n",
       "188  OAS2_0089  OAS2_0089_MR3     Demented       563   M    R   72    12  2.0   \n",
       "191  OAS2_0090  OAS2_0090_MR3  Nondemented      1345   M    R   76    18  2.0   \n",
       "200  OAS2_0095  OAS2_0095_MR3  Nondemented      1412   M    R   74    18  1.0   \n",
       "211  OAS2_0100  OAS2_0100_MR3  Nondemented      1752   F    R   82    11  4.0   \n",
       "214  OAS2_0101  OAS2_0101_MR3  Nondemented      1631   F    R   76    18  2.0   \n",
       "217  OAS2_0102  OAS2_0102_MR3     Demented      1387   M    R   86    15  3.0   \n",
       "220  OAS2_0103  OAS2_0103_MR3    Converted      2002   F    R   75    16  1.0   \n",
       "243  OAS2_0117  OAS2_0117_MR3  Nondemented      1345   M    R   76    20  2.0   \n",
       "249  OAS2_0119  OAS2_0119_MR3  Nondemented      1713   F    R   85    15  2.0   \n",
       "260  OAS2_0126  OAS2_0126_MR3  Nondemented      1192   F    R   77    12  3.0   \n",
       "263  OAS2_0127  OAS2_0127_MR3    Converted      1042   M    R   81    18  1.0   \n",
       "270  OAS2_0129  OAS2_0129_MR3  Nondemented      1591   F    R   82    18  1.0   \n",
       "274  OAS2_0133  OAS2_0133_MR3    Converted      1006   F    R   81    12  3.0   \n",
       "287  OAS2_0140  OAS2_0140_MR3     Demented      1655   F    R   81    16  3.0   \n",
       "294  OAS2_0143  OAS2_0143_MR3  Nondemented      1553   F    R   93    18  2.0   \n",
       "303  OAS2_0147  OAS2_0147_MR3  Nondemented      1204   F    R   80    13  2.0   \n",
       "311  OAS2_0152  OAS2_0152_MR3  Nondemented      1329   F    R   69    18  2.0   \n",
       "326  OAS2_0161  OAS2_0161_MR3  Nondemented      1033   M    R   80    16  1.0   \n",
       "337  OAS2_0171  OAS2_0171_MR3  Nondemented      1695   M    R   81    16  3.0   \n",
       "342  OAS2_0174  OAS2_0174_MR3  Nondemented      1555   M    R   64    12  4.0   \n",
       "345  OAS2_0175  OAS2_0175_MR3     Demented      1343   M    R   73    16  4.0   \n",
       "348  OAS2_0176  OAS2_0176_MR3    Converted      1631   M    R   89    16  2.0   \n",
       "353  OAS2_0178  OAS2_0178_MR3  Nondemented      1447   F    R   93    14  2.0   \n",
       "358  OAS2_0181  OAS2_0181_MR3     Demented      1107   F    R   77    12  NaN   \n",
       "363  OAS2_0183  OAS2_0183_MR3  Nondemented       732   F    R   68    13  2.0   \n",
       "369  OAS2_0185  OAS2_0185_MR3     Demented      2297   M    R   86    16  1.0   \n",
       "372  OAS2_0186  OAS2_0186_MR3  Nondemented      1608   F    R   65    13  2.0   \n",
       "\n",
       "     MMSE  CDR  eTIV   nWBV    ASF  \n",
       "4    22.0  0.5  1698  0.701  1.034  \n",
       "9    30.0  0.0  1699  0.705  1.033  \n",
       "11   27.0  1.0  1365  0.727  1.286  \n",
       "21   29.0  0.0  1323  0.718  1.327  \n",
       "24   29.0  0.0  1225  0.710  1.433  \n",
       "30   27.0  0.5  1814  0.759  0.968  \n",
       "34   29.0  0.0  1398  0.713  1.255  \n",
       "38   26.0  0.5  1597  0.666  1.099  \n",
       "49   30.0  0.0  1358  0.775  1.293  \n",
       "59   28.0  0.5  1463  0.696  1.199  \n",
       "64   30.0  0.0  1460  0.695  1.202  \n",
       "69   30.0  0.0  1361  0.783  1.290  \n",
       "74   26.0  0.5  1483  0.709  1.184  \n",
       "80   23.0  0.5  1348  0.713  1.302  \n",
       "83   28.0  0.5  1314  0.760  1.335  \n",
       "90   22.0  1.0  1332  0.679  1.317  \n",
       "99   19.0  1.0  1712  0.691  1.025  \n",
       "104  30.0  0.0  1503  0.788  1.168  \n",
       "109  30.0  0.0  1483  0.689  1.184  \n",
       "122  30.0  0.0  1580  0.739  1.111  \n",
       "125  29.0  0.5  1324  0.695  1.326  \n",
       "130  30.0  0.0  1681  0.729  1.044  \n",
       "133  29.0  0.0  1667  0.688  1.053  \n",
       "138  18.0  0.5  1464  0.682  1.199  \n",
       "143  29.0  0.0  1455  0.724  1.206  \n",
       "151  29.0  0.0  1707  0.717  1.028  \n",
       "158  28.0  0.0  1507  0.782  1.164  \n",
       "165  30.0  0.0  1520  0.718  1.155  \n",
       "170  30.0  0.0  1662  0.682  1.056  \n",
       "173  16.0  1.0  1478  0.696  1.188  \n",
       "176  28.0  0.5  1546  0.724  1.135  \n",
       "188  27.0  1.0  1432  0.684  1.226  \n",
       "191  30.0  0.0  1550  0.758  1.133  \n",
       "200  29.0  0.0  1814  0.679  0.967  \n",
       "211  30.0  0.0  1590  0.760  1.104  \n",
       "214  30.0  0.0  1379  0.757  1.273  \n",
       "217  30.0  0.5  1498  0.681  1.171  \n",
       "220  30.0  0.5  1419  0.731  1.236  \n",
       "243  30.0  0.0  1823  0.739  0.963  \n",
       "249  30.0  0.0  1488  0.741  1.180  \n",
       "260  29.0  0.0  1344  0.740  1.306  \n",
       "263  29.0  0.5  1647  0.717  1.066  \n",
       "270  29.0  0.0  1442  0.644  1.217  \n",
       "274  28.0  0.5  1495  0.687  1.174  \n",
       "287  25.0  0.5  1396  0.687  1.257  \n",
       "294  29.0  0.0  1744  0.723  1.006  \n",
       "303  28.0  0.0  1337  0.762  1.313  \n",
       "311  29.0  0.0  1202  0.770  1.461  \n",
       "326  29.0  0.0  1830  0.724  0.959  \n",
       "337  30.0  0.0  1836  0.744  0.956  \n",
       "342  30.0  0.0  1370  0.794  1.281  \n",
       "345  28.0  0.5  1803  0.731  0.973  \n",
       "348  30.0  0.5  1408  0.679  1.246  \n",
       "353  30.0  0.0  1488  0.735  1.179  \n",
       "358   NaN  1.0  1159  0.733  1.515  \n",
       "363  30.0  0.0  1506  0.740  1.165  \n",
       "369  26.0  0.5  1688  0.675  1.040  \n",
       "372  30.0  0.0  1333  0.801  1.317  "
      ]
     },
     "metadata": {},
     "output_type": "display_data"
    }
   ],
   "source": [
    "# Tables created above displayed\n",
    "\n",
    "display(df_long_ids)\n",
    "display(df_long1)\n",
    "display(df_long2)\n",
    "display(df_long3)"
   ]
  },
  {
   "cell_type": "markdown",
   "metadata": {},
   "source": [
    "We want to check out the datatypes in each of our dataframes to ensure they are formatted in the way that makes the most sense. Here are the datatypes for this dataframe:"
   ]
  },
  {
   "cell_type": "code",
   "execution_count": 7,
   "metadata": {},
   "outputs": [
    {
     "data": {
      "text/plain": [
       "Subject ID     object\n",
       "MRI ID         object\n",
       "Group          object\n",
       "Visit           int64\n",
       "MR Delay        int64\n",
       "M/F            object\n",
       "Hand           object\n",
       "Age             int64\n",
       "EDUC            int64\n",
       "SES           float64\n",
       "MMSE          float64\n",
       "CDR           float64\n",
       "eTIV            int64\n",
       "nWBV          float64\n",
       "ASF           float64\n",
       "dtype: object"
      ]
     },
     "execution_count": 7,
     "metadata": {},
     "output_type": "execute_result"
    }
   ],
   "source": [
    "df_alhz_long.dtypes"
   ]
  },
  {
   "cell_type": "markdown",
   "metadata": {},
   "source": [
    "We also want to get a sense of what patients are being recorded in this data."
   ]
  },
  {
   "cell_type": "code",
   "execution_count": 8,
   "metadata": {},
   "outputs": [
    {
     "data": {
      "text/plain": [
       "Nondemented    190\n",
       "Demented       146\n",
       "Converted       37\n",
       "Name: Group, dtype: int64"
      ]
     },
     "execution_count": 8,
     "metadata": {},
     "output_type": "execute_result"
    }
   ],
   "source": [
    "# Looking at what type of patients make up this dataset\n",
    "df_alhz_long['Group'].value_counts()"
   ]
  },
  {
   "cell_type": "markdown",
   "metadata": {},
   "source": [
    "<mark> Talk a little more about how this is broken down between demented/nondemented individuals so we make sure to consider this in any analysis we do (if this is important to note? Idek anymore)</mark>\n",
    "\n",
    "\"Converted\" refers to individuals that were not initially diagnosed with Alzheimer's at the time of the first scan but were diagnosed with Alzheimer's at one of their later scans. "
   ]
  },
  {
   "cell_type": "markdown",
   "metadata": {},
   "source": [
    "#### Cross-Sectional Data:"
   ]
  },
  {
   "cell_type": "markdown",
   "metadata": {},
   "source": [
    "The MRI and Alzheimer's study also includes cross-sectional data from the same research lab, which is included below:"
   ]
  },
  {
   "cell_type": "code",
   "execution_count": 9,
   "metadata": {
    "colab": {
     "base_uri": "https://localhost:8080/",
     "height": 204
    },
    "id": "e9z7jpsRG0d9",
    "outputId": "52d769a8-90bd-4aa2-a3e0-87d829eef9fa",
    "scrolled": true
   },
   "outputs": [
    {
     "data": {
      "text/html": [
       "<div>\n",
       "<style scoped>\n",
       "    .dataframe tbody tr th:only-of-type {\n",
       "        vertical-align: middle;\n",
       "    }\n",
       "\n",
       "    .dataframe tbody tr th {\n",
       "        vertical-align: top;\n",
       "    }\n",
       "\n",
       "    .dataframe thead th {\n",
       "        text-align: right;\n",
       "    }\n",
       "</style>\n",
       "<table border=\"1\" class=\"dataframe\">\n",
       "  <thead>\n",
       "    <tr style=\"text-align: right;\">\n",
       "      <th></th>\n",
       "      <th>ID</th>\n",
       "      <th>M/F</th>\n",
       "      <th>Hand</th>\n",
       "      <th>Age</th>\n",
       "      <th>Educ</th>\n",
       "      <th>SES</th>\n",
       "      <th>MMSE</th>\n",
       "      <th>CDR</th>\n",
       "      <th>eTIV</th>\n",
       "      <th>nWBV</th>\n",
       "      <th>ASF</th>\n",
       "      <th>Delay</th>\n",
       "    </tr>\n",
       "  </thead>\n",
       "  <tbody>\n",
       "    <tr>\n",
       "      <th>0</th>\n",
       "      <td>OAS1_0001_MR1</td>\n",
       "      <td>F</td>\n",
       "      <td>R</td>\n",
       "      <td>74</td>\n",
       "      <td>2.0</td>\n",
       "      <td>3.0</td>\n",
       "      <td>29.0</td>\n",
       "      <td>0.0</td>\n",
       "      <td>1344</td>\n",
       "      <td>0.743</td>\n",
       "      <td>1.306</td>\n",
       "      <td>NaN</td>\n",
       "    </tr>\n",
       "    <tr>\n",
       "      <th>1</th>\n",
       "      <td>OAS1_0002_MR1</td>\n",
       "      <td>F</td>\n",
       "      <td>R</td>\n",
       "      <td>55</td>\n",
       "      <td>4.0</td>\n",
       "      <td>1.0</td>\n",
       "      <td>29.0</td>\n",
       "      <td>0.0</td>\n",
       "      <td>1147</td>\n",
       "      <td>0.810</td>\n",
       "      <td>1.531</td>\n",
       "      <td>NaN</td>\n",
       "    </tr>\n",
       "    <tr>\n",
       "      <th>2</th>\n",
       "      <td>OAS1_0003_MR1</td>\n",
       "      <td>F</td>\n",
       "      <td>R</td>\n",
       "      <td>73</td>\n",
       "      <td>4.0</td>\n",
       "      <td>3.0</td>\n",
       "      <td>27.0</td>\n",
       "      <td>0.5</td>\n",
       "      <td>1454</td>\n",
       "      <td>0.708</td>\n",
       "      <td>1.207</td>\n",
       "      <td>NaN</td>\n",
       "    </tr>\n",
       "    <tr>\n",
       "      <th>3</th>\n",
       "      <td>OAS1_0004_MR1</td>\n",
       "      <td>M</td>\n",
       "      <td>R</td>\n",
       "      <td>28</td>\n",
       "      <td>NaN</td>\n",
       "      <td>NaN</td>\n",
       "      <td>NaN</td>\n",
       "      <td>NaN</td>\n",
       "      <td>1588</td>\n",
       "      <td>0.803</td>\n",
       "      <td>1.105</td>\n",
       "      <td>NaN</td>\n",
       "    </tr>\n",
       "    <tr>\n",
       "      <th>4</th>\n",
       "      <td>OAS1_0005_MR1</td>\n",
       "      <td>M</td>\n",
       "      <td>R</td>\n",
       "      <td>18</td>\n",
       "      <td>NaN</td>\n",
       "      <td>NaN</td>\n",
       "      <td>NaN</td>\n",
       "      <td>NaN</td>\n",
       "      <td>1737</td>\n",
       "      <td>0.848</td>\n",
       "      <td>1.010</td>\n",
       "      <td>NaN</td>\n",
       "    </tr>\n",
       "  </tbody>\n",
       "</table>\n",
       "</div>"
      ],
      "text/plain": [
       "              ID M/F Hand  Age  Educ  SES  MMSE  CDR  eTIV   nWBV    ASF  \\\n",
       "0  OAS1_0001_MR1   F    R   74   2.0  3.0  29.0  0.0  1344  0.743  1.306   \n",
       "1  OAS1_0002_MR1   F    R   55   4.0  1.0  29.0  0.0  1147  0.810  1.531   \n",
       "2  OAS1_0003_MR1   F    R   73   4.0  3.0  27.0  0.5  1454  0.708  1.207   \n",
       "3  OAS1_0004_MR1   M    R   28   NaN  NaN   NaN  NaN  1588  0.803  1.105   \n",
       "4  OAS1_0005_MR1   M    R   18   NaN  NaN   NaN  NaN  1737  0.848  1.010   \n",
       "\n",
       "   Delay  \n",
       "0    NaN  \n",
       "1    NaN  \n",
       "2    NaN  \n",
       "3    NaN  \n",
       "4    NaN  "
      ]
     },
     "execution_count": 9,
     "metadata": {},
     "output_type": "execute_result"
    }
   ],
   "source": [
    "# Read in the cross-sectional data and take a peek\n",
    "df_alhz_cross = pd.read_csv('./data/oasis_cross-sectional.csv')\n",
    "df_alhz_cross.head()"
   ]
  },
  {
   "cell_type": "markdown",
   "metadata": {},
   "source": [
    "Here are the datatypes of the dataframe:"
   ]
  },
  {
   "cell_type": "code",
   "execution_count": 10,
   "metadata": {
    "scrolled": false
   },
   "outputs": [
    {
     "data": {
      "text/plain": [
       "ID        object\n",
       "M/F       object\n",
       "Hand      object\n",
       "Age        int64\n",
       "Educ     float64\n",
       "SES      float64\n",
       "MMSE     float64\n",
       "CDR      float64\n",
       "eTIV       int64\n",
       "nWBV     float64\n",
       "ASF      float64\n",
       "Delay    float64\n",
       "dtype: object"
      ]
     },
     "execution_count": 10,
     "metadata": {},
     "output_type": "execute_result"
    }
   ],
   "source": [
    "df_alhz_cross.dtypes"
   ]
  },
  {
   "cell_type": "markdown",
   "metadata": {},
   "source": [
    "Note: This the cross-sectional data does not have a group column that classifies the patients as demented, nondemented or converted like the longitudinal dataset does. However, they still include the Clinical Dementia Rating (CDR) that describes the level of dementia. According to the CDR, these are the classifications:\n",
    "0 = no dementia, \n",
    "0.5 = very mild Alzheimer's Disease, \n",
    "1 = mild Alzheimer's Disease, \n",
    "2 = moderate Alzheimer's Disease.\n",
    "\n",
    "To make the data more easily comparable to the longitudinal data, we used this quantitative variable to create a categorical variable with the three states. \n",
    "\n",
    "<mark> This is one thing Culotta mentioned in his comments on Milestone 1. Maybe further describe this to address his concerns about it. See highlighted section below to read what he wrote. </mark>"
   ]
  },
  {
   "cell_type": "code",
   "execution_count": 11,
   "metadata": {},
   "outputs": [
    {
     "data": {
      "text/plain": [
       "Nondemented    135\n",
       "Demented       100\n",
       "Name: Group, dtype: int64"
      ]
     },
     "execution_count": 11,
     "metadata": {},
     "output_type": "execute_result"
    }
   ],
   "source": [
    "#Create a Group variable for cross-sectional data\n",
    "df_alhz_cross['Group'] = df_alhz_cross['CDR'].map({\n",
    "    0.0: 'Nondemented',\n",
    "    0.5: 'Demented',\n",
    "    1.0: 'Demented',\n",
    "    1.5:'Demented',\n",
    "    2.0:'Demented'\n",
    "})\n",
    "\n",
    "# Look at how many individuals fall into each category\n",
    "df_alhz_cross['Group'].value_counts()"
   ]
  },
  {
   "cell_type": "markdown",
   "metadata": {},
   "source": [
    "### Dataset 2: Metadata"
   ]
  },
  {
   "cell_type": "code",
   "execution_count": 12,
   "metadata": {},
   "outputs": [],
   "source": [
    "# Read in the data \n",
    "df_meta_complete = pd.read_csv('./data/sea-ad_cohort_donor_metadata_082222.csv')"
   ]
  },
  {
   "cell_type": "code",
   "execution_count": 13,
   "metadata": {},
   "outputs": [
    {
     "data": {
      "text/plain": [
       "Index(['Donor ID', 'Primary Study Name', 'Secondary Study Name',\n",
       "       'Age at Death', 'Sex', 'Race (choice=White)',\n",
       "       'Race (choice=Black/ African American)', 'Race (choice=Asian)',\n",
       "       'Race (choice=American Indian/ Alaska Native)',\n",
       "       'Race (choice=Native Hawaiian or Pacific Islander)',\n",
       "       'Race (choice=Unknown or unreported)', 'Race (choice=Other)',\n",
       "       'specify other race', 'Hispanic/Latino', 'Highest level of education',\n",
       "       'Years of education', 'APOE4 Status', 'Cognitive Status',\n",
       "       'Age of onset cognitive symptoms', 'Age of Dementia diagnosis',\n",
       "       'Known head injury', 'Have they had neuroimaging',\n",
       "       'Consensus Clinical Dx (choice=Alzheimers disease)',\n",
       "       'Consensus Clinical Dx (choice=Alzheimers Possible/ Probable)',\n",
       "       'Consensus Clinical Dx (choice=Ataxia)',\n",
       "       'Consensus Clinical Dx (choice=Corticobasal Degeneration)',\n",
       "       'Consensus Clinical Dx (choice=Control)',\n",
       "       'Consensus Clinical Dx (choice=Dementia with Lewy Bodies/ Lewy Body Disease)',\n",
       "       'Consensus Clinical Dx (choice=Frontotemporal lobar degeneration)',\n",
       "       'Consensus Clinical Dx (choice=Huntingtons disease)',\n",
       "       'Consensus Clinical Dx (choice=Motor Neuron disease)',\n",
       "       'Consensus Clinical Dx (choice=Multiple System Atrophy)',\n",
       "       'Consensus Clinical Dx (choice=Parkinsons disease)',\n",
       "       'Consensus Clinical Dx (choice=Parkinsons Cognitive Impairment - no dementia)',\n",
       "       'Consensus Clinical Dx (choice=Parkinsons Disease Dementia)',\n",
       "       'Consensus Clinical Dx (choice=Prion)',\n",
       "       'Consensus Clinical Dx (choice=Progressive Supranuclear Palsy)',\n",
       "       'Consensus Clinical Dx (choice=Taupathy)',\n",
       "       'Consensus Clinical Dx (choice=Vascular Dementia)',\n",
       "       'Consensus Clinical Dx (choice=Unknown)',\n",
       "       'Consensus Clinical Dx (choice=Other)',\n",
       "       'If other Consensus dx, describe', 'Last CASI Score',\n",
       "       'Interval from last CASI in months', 'Last MMSE Score',\n",
       "       'Interval from last MMSE in months', 'Last MOCA Score',\n",
       "       'Interval from last MOCA in months', 'PMI', 'Rapid Frozen Tissue Type',\n",
       "       'Ex Vivo Imaging', 'Fresh Brain Weight', 'Brain pH',\n",
       "       'Overall AD neuropathological Change', 'Thal', 'Braak', 'CERAD score',\n",
       "       'Overall CAA Score', 'Highest Lewy Body Disease',\n",
       "       'Total Microinfarcts (not observed grossly)',\n",
       "       'Total microinfarcts in screening sections', 'Atherosclerosis',\n",
       "       'Arteriolosclerosis', 'LATE', 'RIN'],\n",
       "      dtype='object')"
      ]
     },
     "execution_count": 13,
     "metadata": {},
     "output_type": "execute_result"
    }
   ],
   "source": [
    "# Get a sense of all the columns available in the data\n",
    "df_meta_complete.columns"
   ]
  },
  {
   "cell_type": "code",
   "execution_count": 14,
   "metadata": {},
   "outputs": [],
   "source": [
    "# Making a dataframe with only the columns we want to examine at this point\n",
    "df_meta = df_meta_complete[['Donor ID', 'Age at Death', 'Sex', 'Race (choice=White)', 'Race (choice=Black/ African American)', 'Race (choice=Asian)', 'Race (choice=American Indian/ Alaska Native)', 'Race (choice=Native Hawaiian or Pacific Islander)', 'Race (choice=Unknown or unreported)', 'Race (choice=Other)','Hispanic/Latino', 'Highest level of education', 'Years of education', 'Cognitive Status', 'Age of onset cognitive symptoms', 'Age of Dementia diagnosis', 'Known head injury', 'Fresh Brain Weight', 'Brain pH', 'Last MMSE Score']]"
   ]
  },
  {
   "cell_type": "markdown",
   "metadata": {},
   "source": [
    "Before completing our analysis, we wanted to clean up this dataframe to make it more easily readable. "
   ]
  },
  {
   "cell_type": "code",
   "execution_count": 15,
   "metadata": {},
   "outputs": [
    {
     "data": {
      "text/plain": [
       "Donor ID                            object\n",
       "Age at Death                        object\n",
       "Sex                                 object\n",
       "Hispanic/Latino                     object\n",
       "Highest level of education          object\n",
       "Years of education                   int64\n",
       "Cognitive Status                    object\n",
       "Age of onset cognitive symptoms     object\n",
       "Age of Dementia diagnosis           object\n",
       "Known head injury                   object\n",
       "Fresh Brain Weight                  object\n",
       "Brain pH                           float64\n",
       "Last MMSE Score                    float64\n",
       "Race                                object\n",
       "dtype: object"
      ]
     },
     "execution_count": 15,
     "metadata": {},
     "output_type": "execute_result"
    }
   ],
   "source": [
    "# Want to clean up the Race columns into one simple column\n",
    "df = pd.DataFrame()\n",
    "df[\"Race (choice=White)\"] = df_meta[\"Race (choice=White)\"].map({\n",
    "    'Checked': 1, \n",
    "    'Unchecked': 0\n",
    "})\n",
    "df[\"Race (choice=Black/ African American)\"] = df_meta[\"Race (choice=Black/ African American)\"].map({\n",
    "    'Checked': 1, \n",
    "    'Unchecked': 0\n",
    "})\n",
    "df[\"Race (choice=Asian)\"] = df_meta[\"Race (choice=Asian)\"].map({\n",
    "    'Checked': 1, \n",
    "    'Unchecked': 0\n",
    "})\n",
    "df[\"Race (choice=American Indian/ Alaska Native)\"] = df_meta[\"Race (choice=American Indian/ Alaska Native)\"].map({\n",
    "    'Checked': 1, \n",
    "    'Unchecked': 0\n",
    "})\n",
    "df[\"Race (choice=Native Hawaiian or Pacific Islander)\"] = df_meta[\"Race (choice=Native Hawaiian or Pacific Islander)\"].map({\n",
    "    'Checked': 1, \n",
    "    'Unchecked': 0\n",
    "})\n",
    "df[\"Race (choice=Unknown or unreported)\"] = df_meta[\"Race (choice=Unknown or unreported)\"].map({\n",
    "    'Checked': 1, \n",
    "    'Unchecked': 0\n",
    "})\n",
    "df[\"Race (choice=Other)\"] = df_meta[\"Race (choice=Other)\"].map({\n",
    "    'Checked': 1, \n",
    "    'Unchecked': 0\n",
    "})\n",
    "\n",
    "new_df = df.idxmax(axis=1)\n",
    "df_meta[\"Race\"] = new_df.values\n",
    "\n",
    "df_meta.drop(['Race (choice=White)', 'Race (choice=Black/ African American)', \"Race (choice=Asian)\", \"Race (choice=American Indian/ Alaska Native)\", \"Race (choice=Native Hawaiian or Pacific Islander)\", \"Race (choice=Unknown or unreported)\", \"Race (choice=Other)\"], axis=1, inplace=True)\n",
    "\n",
    "df_meta[\"Race\"] = df_meta[\"Race\"].map({\n",
    "    'Race (choice=White)': \"White\", \n",
    "    'Race (choice=Black/ African American)': \"Black/African American\", \n",
    "    'Race (choice=Asian)':'Asian',\n",
    "    'Race (choice=American Indian/ Alaska Native)':\"American Indian/Alaska Native\",\n",
    "    'Race (choice=Native Hawaiian or Pacific Islander)': 'Native Hawaiian/Pacific Islander',  \n",
    "    'Race (choice=Unknown or unreported)': \"Unknown/Unreported\",      \n",
    "    'Race (choice=Other)': \"Mixed\" # Determined this to be mixed given the the column \"specify other race\"\n",
    "})\n",
    "\n",
    "# Taking peak at reformatted data\n",
    "df_meta.head(5)\n",
    "\n",
    "# Checking the datatypes\n",
    "df_meta.dtypes"
   ]
  },
  {
   "cell_type": "markdown",
   "metadata": {},
   "source": [
    "***"
   ]
  },
  {
   "cell_type": "markdown",
   "metadata": {},
   "source": [
    "<a id='eda'></a>\n",
    "## Exploratory Data Analysis (EDA)"
   ]
  },
  {
   "cell_type": "markdown",
   "metadata": {},
   "source": [
    "<mark> **Notes from Professor Culotta to Address**: </mark>\n",
    "\n",
    "* Histogram of years of study to see if it's skewed - e.g. there may be 20% that span more than 5 years. \n",
    "    - Marisa: did this below, but now we need to add analysis\n",
    "* Is education status a component of how they calculate SES?\n",
    "* \"This allows us to hypothesize that women on average are older than men when they are affected by Alzheimer's\" account for women living longer overall somehow here\n",
    "* \"To make the data more easily comparable to the longitudinal data, we used this quantitative variable to create a categorical variables with the three states\" This could be tricky - is there an official definition of dementia we could use here? Worried that .5 would not be classified as dementia\n",
    "    - Marisa: answer to this: yes, it is mild dementia. I can go back through the article and quote it\n",
    "* \"The mean age of patients when they got their MRI scan was 51.3 years old, which is much younger than the previous dataset.\" Any idea why? This is a considerable difference that we should attempt to address "
   ]
  },
  {
   "cell_type": "markdown",
   "metadata": {},
   "source": [
    "### Questions for Previous Dataset (Longitudinal): "
   ]
  },
  {
   "cell_type": "markdown",
   "metadata": {},
   "source": [
    "#### What is the average level of education (variable 'EDUC') of demented vs non-demented vs converted individuals?"
   ]
  },
  {
   "cell_type": "code",
   "execution_count": 16,
   "metadata": {},
   "outputs": [
    {
     "data": {
      "text/plain": [
       "13.67123287671233"
      ]
     },
     "execution_count": 16,
     "metadata": {},
     "output_type": "execute_result"
    }
   ],
   "source": [
    "# Average Education level for demented individuals\n",
    "df_alhz_long[df_alhz_long.Group == \"Demented\"].EDUC.mean()"
   ]
  },
  {
   "cell_type": "code",
   "execution_count": 17,
   "metadata": {},
   "outputs": [
    {
     "data": {
      "text/plain": [
       "15.142105263157895"
      ]
     },
     "execution_count": 17,
     "metadata": {},
     "output_type": "execute_result"
    }
   ],
   "source": [
    "# Average Education level for nondemented individuals\n",
    "df_alhz_long[df_alhz_long.Group == \"Nondemented\"].EDUC.mean()"
   ]
  },
  {
   "cell_type": "code",
   "execution_count": 18,
   "metadata": {},
   "outputs": [
    {
     "data": {
      "text/plain": [
       "15.45945945945946"
      ]
     },
     "execution_count": 18,
     "metadata": {},
     "output_type": "execute_result"
    }
   ],
   "source": [
    "# Average Education level for converted individuals\n",
    "df_alhz_long[df_alhz_long.Group == \"Converted\"].EDUC.mean()"
   ]
  },
  {
   "cell_type": "markdown",
   "metadata": {},
   "source": [
    "One hypothesis we have based on this brief summary of education level is that education slows cognitive decline. This is suppored by the data above, where demented individuals have and average of 13.7 years, nondemented individuals have an average of 15.1 years, and converted individuals have 15.5 years. Looking at education differences among clinically demented vs nondemented individuals will help us determine how strongly education level may predict Alhzeimer's."
   ]
  },
  {
   "cell_type": "markdown",
   "metadata": {},
   "source": [
    "#### How are education and socioeconomic status related in this sample?"
   ]
  },
  {
   "cell_type": "code",
   "execution_count": 19,
   "metadata": {},
   "outputs": [
    {
     "data": {
      "text/plain": [
       "-0.7226472777909818"
      ]
     },
     "execution_count": 19,
     "metadata": {},
     "output_type": "execute_result"
    }
   ],
   "source": [
    "df_alhz_long[\"EDUC\"].corr(df_alhz_long[\"SES\"])"
   ]
  },
  {
   "cell_type": "markdown",
   "metadata": {},
   "source": [
    "At first glance, a strong negative correlation between education level and socioeconomic status was suprising. However, when we read the publication that came out alongside this dataset, they authors explained that 'SES' is ranked using the Hollingshead Index of Social Position and has 1 being the highest status, where 5 is the lowest. Therefore, this statistic shows that individuals from a higher socioeconomic status were likely to recieve more education than those of lower socioeconomic statuses. Through our further exploration, we hope to uncover the relationship between socioeconomic status, education, and dementia."
   ]
  },
  {
   "cell_type": "markdown",
   "metadata": {},
   "source": [
    "#### Over how many years did the study track each individual?\n",
    "\n",
    "To check for skewness in the age data from the longitudinal study, we decided to look at the difference from first to last visit for each of the individuals."
   ]
  },
  {
   "cell_type": "code",
   "execution_count": 20,
   "metadata": {
    "scrolled": true
   },
   "outputs": [
    {
     "data": {
      "text/html": [
       "<div>\n",
       "<style scoped>\n",
       "    .dataframe tbody tr th:only-of-type {\n",
       "        vertical-align: middle;\n",
       "    }\n",
       "\n",
       "    .dataframe tbody tr th {\n",
       "        vertical-align: top;\n",
       "    }\n",
       "\n",
       "    .dataframe thead th {\n",
       "        text-align: right;\n",
       "    }\n",
       "</style>\n",
       "<table border=\"1\" class=\"dataframe\">\n",
       "  <thead>\n",
       "    <tr style=\"text-align: right;\">\n",
       "      <th></th>\n",
       "      <th>Age of First Visit</th>\n",
       "      <th>Age of Last Visit</th>\n",
       "      <th>Difference</th>\n",
       "    </tr>\n",
       "    <tr>\n",
       "      <th>Subject ID</th>\n",
       "      <th></th>\n",
       "      <th></th>\n",
       "      <th></th>\n",
       "    </tr>\n",
       "  </thead>\n",
       "  <tbody>\n",
       "    <tr>\n",
       "      <th>OAS2_0001</th>\n",
       "      <td>87</td>\n",
       "      <td>88</td>\n",
       "      <td>1</td>\n",
       "    </tr>\n",
       "    <tr>\n",
       "      <th>OAS2_0002</th>\n",
       "      <td>75</td>\n",
       "      <td>80</td>\n",
       "      <td>5</td>\n",
       "    </tr>\n",
       "    <tr>\n",
       "      <th>OAS2_0004</th>\n",
       "      <td>88</td>\n",
       "      <td>90</td>\n",
       "      <td>2</td>\n",
       "    </tr>\n",
       "    <tr>\n",
       "      <th>OAS2_0005</th>\n",
       "      <td>80</td>\n",
       "      <td>85</td>\n",
       "      <td>5</td>\n",
       "    </tr>\n",
       "    <tr>\n",
       "      <th>OAS2_0007</th>\n",
       "      <td>71</td>\n",
       "      <td>75</td>\n",
       "      <td>4</td>\n",
       "    </tr>\n",
       "    <tr>\n",
       "      <th>...</th>\n",
       "      <td>...</td>\n",
       "      <td>...</td>\n",
       "      <td>...</td>\n",
       "    </tr>\n",
       "    <tr>\n",
       "      <th>OAS2_0182</th>\n",
       "      <td>73</td>\n",
       "      <td>75</td>\n",
       "      <td>2</td>\n",
       "    </tr>\n",
       "    <tr>\n",
       "      <th>OAS2_0183</th>\n",
       "      <td>66</td>\n",
       "      <td>72</td>\n",
       "      <td>6</td>\n",
       "    </tr>\n",
       "    <tr>\n",
       "      <th>OAS2_0184</th>\n",
       "      <td>72</td>\n",
       "      <td>73</td>\n",
       "      <td>1</td>\n",
       "    </tr>\n",
       "    <tr>\n",
       "      <th>OAS2_0185</th>\n",
       "      <td>80</td>\n",
       "      <td>86</td>\n",
       "      <td>6</td>\n",
       "    </tr>\n",
       "    <tr>\n",
       "      <th>OAS2_0186</th>\n",
       "      <td>61</td>\n",
       "      <td>65</td>\n",
       "      <td>4</td>\n",
       "    </tr>\n",
       "  </tbody>\n",
       "</table>\n",
       "<p>150 rows × 3 columns</p>\n",
       "</div>"
      ],
      "text/plain": [
       "            Age of First Visit  Age of Last Visit  Difference\n",
       "Subject ID                                                   \n",
       "OAS2_0001                   87                 88           1\n",
       "OAS2_0002                   75                 80           5\n",
       "OAS2_0004                   88                 90           2\n",
       "OAS2_0005                   80                 85           5\n",
       "OAS2_0007                   71                 75           4\n",
       "...                        ...                ...         ...\n",
       "OAS2_0182                   73                 75           2\n",
       "OAS2_0183                   66                 72           6\n",
       "OAS2_0184                   72                 73           1\n",
       "OAS2_0185                   80                 86           6\n",
       "OAS2_0186                   61                 65           4\n",
       "\n",
       "[150 rows x 3 columns]"
      ]
     },
     "execution_count": 20,
     "metadata": {},
     "output_type": "execute_result"
    }
   ],
   "source": [
    "# Creating a new dataframe to hold these age-differences\n",
    "\n",
    "#get start and end dates for each proceeding\n",
    "gb = df_alhz_long.groupby(\"Subject ID\",sort=False)[\"Age\"]\n",
    "ages = gb.apply(min).to_frame().merge(gb.apply(max), on=\"Subject ID\").rename(\n",
    "    columns={\"Age_x\": \"Age of First Visit\", \"Age_y\": \"Age of Last Visit\"})\n",
    "ages['Difference'] = (ages[\"Age of Last Visit\"] - ages[\"Age of First Visit\"])\n",
    "ages"
   ]
  },
  {
   "cell_type": "code",
   "execution_count": 21,
   "metadata": {},
   "outputs": [
    {
     "data": {
      "text/plain": [
       "<AxesSubplot: ylabel='Frequency'>"
      ]
     },
     "execution_count": 21,
     "metadata": {},
     "output_type": "execute_result"
    },
    {
     "data": {
      "image/png": "[encoded data removed]",
      "text/plain": [
       "<Figure size 640x480 with 1 Axes>"
      ]
     },
     "metadata": {},
     "output_type": "display_data"
    }
   ],
   "source": [
    "# Putting these differences into a histogram\n",
    "\n",
    "ages_sorted = ages.sort_values('Difference')\n",
    "ages_sorted.Difference.plot.hist(alpha=.5, legend=True, xlabel='Years from First to Last Visit')\n"
   ]
  },
  {
   "cell_type": "markdown",
   "metadata": {},
   "source": [
    "<mark> **Add Analysis of this graph here**: </mark>\n",
    "\n",
    "From this histogram, we can see that the longitudinal study did not cover the same number of years for each patient. The study ranged from one visit (which would have a span of 1 year here), to up to three visit spanning up to seven years. Because we are looking to build a model that is predicts risk of Alzheimer's, not age of onset, we plan to just use the data from the first visit (since the first visit had the greatest number of participants)."
   ]
  },
  {
   "cell_type": "markdown",
   "metadata": {},
   "source": [
    "#### How old were people in this dataset when they had their first MRI scan for dementia?"
   ]
  },
  {
   "cell_type": "code",
   "execution_count": 22,
   "metadata": {},
   "outputs": [
    {
     "data": {
      "text/plain": [
       "75.44666666666667"
      ]
     },
     "execution_count": 22,
     "metadata": {},
     "output_type": "execute_result"
    }
   ],
   "source": [
    "# Filtering data to get just the first visit\n",
    "first_visit = df_alhz_long[df_alhz_long.Visit == 1]\n",
    "\n",
    "#Take mean of age of filtered data\n",
    "first_visit.Age.mean()"
   ]
  },
  {
   "cell_type": "code",
   "execution_count": 23,
   "metadata": {},
   "outputs": [
    {
     "data": {
      "text/plain": [
       "7.54542100058457"
      ]
     },
     "execution_count": 23,
     "metadata": {},
     "output_type": "execute_result"
    }
   ],
   "source": [
    "# Take standard deviation of age of filtered data\n",
    "first_visit.Age.std()"
   ]
  },
  {
   "cell_type": "markdown",
   "metadata": {},
   "source": [
    "The mean age of patients on their first visit was 74.4 years old, and this dataset had a standard deviation of 7.5. This shows that this dataset focuses heavily on Alhzeimer's and dementia in older individuals, rather than also considering early onset Alzheimer's. Looking at age allows us to understand the timeframe for dementia onset. "
   ]
  },
  {
   "cell_type": "markdown",
   "metadata": {},
   "source": [
    "#### How does the number of females vs males with dementia compare in this dataset?"
   ]
  },
  {
   "cell_type": "code",
   "execution_count": 24,
   "metadata": {},
   "outputs": [
    {
     "data": {
      "text/plain": [
       "M/F\n",
       "F    AxesSubplot(0.125,0.11;0.775x0.77)\n",
       "M    AxesSubplot(0.125,0.11;0.775x0.77)\n",
       "Name: Age, dtype: object"
      ]
     },
     "execution_count": 24,
     "metadata": {},
     "output_type": "execute_result"
    },
    {
     "data": {
      "image/png": "[encoded data removed]",
      "text/plain": [
       "<Figure size 640x480 with 1 Axes>"
      ]
     },
     "metadata": {},
     "output_type": "display_data"
    }
   ],
   "source": [
    "# Creating new dataframe with ages in accending order\n",
    "age_accending_dementia = df_alhz_long.sort_values('Age')\n",
    "age_accending_dementia = age_accending_dementia[age_accending_dementia.Group == \"Demented\"]\n",
    "age_accending_dementia.groupby(\"M/F\").Age.plot.hist(alpha=.5, density=True, legend=True, xlabel='Age of Indv. with Dementia')"
   ]
  },
  {
   "cell_type": "markdown",
   "metadata": {},
   "source": [
    "Compared to the male data, the female data appears to be more right-skewed. This allows us to hypothesize that women on average are older than men when they are affected by Alhzeimer's. This is relevant to our main goal as one of the variables we are focusing on is gendered differences in Alzheimer's."
   ]
  },
  {
   "cell_type": "markdown",
   "metadata": {},
   "source": [
    "### Questions for Previous Dataset (Cross Sectional):"
   ]
  },
  {
   "cell_type": "markdown",
   "metadata": {},
   "source": [
    "#### What is the average level of education (variable 'EDUC') of demented vs non-demented vs converted individuals?"
   ]
  },
  {
   "cell_type": "code",
   "execution_count": 25,
   "metadata": {},
   "outputs": [
    {
     "data": {
      "text/plain": [
       "2.82"
      ]
     },
     "execution_count": 25,
     "metadata": {},
     "output_type": "execute_result"
    }
   ],
   "source": [
    "# Average Education level for demented individuals\n",
    "df_alhz_cross[df_alhz_cross.Group == \"Demented\"].Educ.mean()"
   ]
  },
  {
   "cell_type": "code",
   "execution_count": 26,
   "metadata": {},
   "outputs": [
    {
     "data": {
      "text/plain": [
       "3.4444444444444446"
      ]
     },
     "execution_count": 26,
     "metadata": {},
     "output_type": "execute_result"
    }
   ],
   "source": [
    "# Average Education level for nondemented individuals\n",
    "df_alhz_cross[df_alhz_cross.Group == \"Nondemented\"].Educ.mean()"
   ]
  },
  {
   "cell_type": "markdown",
   "metadata": {},
   "source": [
    "This is consisted with the dataframe above, showing that on average nondemented individuals had a higher education level than the demented individuals. This does appear to be on a different scale, which we address in our commentary below. "
   ]
  },
  {
   "cell_type": "markdown",
   "metadata": {},
   "source": [
    "#### How are education and socioeconomic status related in this sample?"
   ]
  },
  {
   "cell_type": "code",
   "execution_count": 27,
   "metadata": {},
   "outputs": [
    {
     "data": {
      "text/plain": [
       "-0.7423610355426756"
      ]
     },
     "execution_count": 27,
     "metadata": {},
     "output_type": "execute_result"
    }
   ],
   "source": [
    "df_alhz_cross[\"Educ\"].corr(df_alhz_cross[\"SES\"])"
   ]
  },
  {
   "cell_type": "markdown",
   "metadata": {},
   "source": [
    "Similar to the longitudinal data, this statistic shows that individuals from a higher socioeconomic status were likely to recieve more education than those of lower socioeconomic statuses. The correlation is also very similar, with it being -0.74 in the cross-sectional data compared to -0.72 in the longitudinal data. "
   ]
  },
  {
   "cell_type": "markdown",
   "metadata": {},
   "source": [
    "#### How old were people in this dataset when they had their MRI to scan for dementia?"
   ]
  },
  {
   "cell_type": "code",
   "execution_count": 28,
   "metadata": {},
   "outputs": [
    {
     "data": {
      "text/plain": [
       "51.357798165137616"
      ]
     },
     "execution_count": 28,
     "metadata": {},
     "output_type": "execute_result"
    }
   ],
   "source": [
    "#Take mean of age\n",
    "df_alhz_cross.Age.mean()"
   ]
  },
  {
   "cell_type": "code",
   "execution_count": 29,
   "metadata": {},
   "outputs": [
    {
     "data": {
      "text/plain": [
       "25.269862268101587"
      ]
     },
     "execution_count": 29,
     "metadata": {},
     "output_type": "execute_result"
    }
   ],
   "source": [
    "# Take standard deviation of age\n",
    "df_alhz_cross.Age.std()"
   ]
  },
  {
   "cell_type": "markdown",
   "metadata": {},
   "source": [
    "The mean age of patients when they got their MRI scan was 51.3 years old, which is much younger than the previous dataset. This dataset also had a much bigger spread in regards to age, with the standard deviation of 25.3. This tells us that the cross-sectional dataset could contain cases of early onset Alzheimer's. This will allow us to look at a wider range of Alhzeimer's onset data."
   ]
  },
  {
   "cell_type": "markdown",
   "metadata": {},
   "source": [
    "#### How does the number of females vs males with dementia compare in this dataset?"
   ]
  },
  {
   "cell_type": "code",
   "execution_count": 30,
   "metadata": {},
   "outputs": [
    {
     "data": {
      "text/plain": [
       "M/F\n",
       "F    AxesSubplot(0.125,0.11;0.775x0.77)\n",
       "M    AxesSubplot(0.125,0.11;0.775x0.77)\n",
       "Name: Age, dtype: object"
      ]
     },
     "execution_count": 30,
     "metadata": {},
     "output_type": "execute_result"
    },
    {
     "data": {
      "image/png": "[encoded data removed]",
      "text/plain": [
       "<Figure size 640x480 with 1 Axes>"
      ]
     },
     "metadata": {},
     "output_type": "display_data"
    }
   ],
   "source": [
    "# Creating new dataframe with ages in accending order\n",
    "age_accending_cross = df_alhz_cross.sort_values('Age')\n",
    "age_accending = age_accending_cross[age_accending_cross.Group == \"Demented\"]\n",
    "age_accending.groupby(\"M/F\").Age.plot.hist(alpha=.5, density=True, legend=True, xlabel='Age of Indv. with Dementia')"
   ]
  },
  {
   "cell_type": "markdown",
   "metadata": {},
   "source": [
    "From this graphic, we see that females have a wider range of ages. This differs from the longtidudinal data and indicates that we have to dig deeper before drawing conclusions on our gender hypothesis."
   ]
  },
  {
   "cell_type": "markdown",
   "metadata": {},
   "source": [
    "## Dataset 2 EDA"
   ]
  },
  {
   "cell_type": "markdown",
   "metadata": {},
   "source": [
    "For our milestone 2 dataset, we were interested in introducing more data related to patients with and without dementia to gain a further picture of what features may be related to cognitive decline. This dataset includes a variety of features ranging from the age of the onset of symptoms, the age of death, education levels, sex, brain weight and pH, and several cognitive test scores. Several of these same features were present in our MRI dataset, so we hope this will allow us to be able to examine these two datasets together."
   ]
  },
  {
   "cell_type": "markdown",
   "metadata": {},
   "source": [
    "### Dataset 2: Metadata"
   ]
  },
  {
   "cell_type": "code",
   "execution_count": 31,
   "metadata": {},
   "outputs": [
    {
     "data": {
      "text/plain": [
       "Female    51\n",
       "Male      33\n",
       "Name: Sex, dtype: int64"
      ]
     },
     "execution_count": 31,
     "metadata": {},
     "output_type": "execute_result"
    }
   ],
   "source": [
    " df_meta.Sex.value_counts()"
   ]
  },
  {
   "cell_type": "markdown",
   "metadata": {},
   "source": [
    "We see that this dataframe is slightly skewed in terms of sex. There are more females than males."
   ]
  },
  {
   "cell_type": "code",
   "execution_count": 32,
   "metadata": {},
   "outputs": [
    {
     "data": {
      "text/plain": [
       "White    81\n",
       "Asian     3\n",
       "Name: Race, dtype: int64"
      ]
     },
     "execution_count": 32,
     "metadata": {},
     "output_type": "execute_result"
    }
   ],
   "source": [
    "df_meta.Race.value_counts()"
   ]
  },
  {
   "cell_type": "markdown",
   "metadata": {},
   "source": [
    "More drastic of a skew than with sex, this dataset is almost entirely white patients, which may pose some constraints on our ability to generalize. We will keep this in mind when making any statements regarding race using this dataset, and note that this is one piece of potential missing data."
   ]
  },
  {
   "cell_type": "markdown",
   "metadata": {},
   "source": [
    "#### Distribution of Dementia by Age and Sex"
   ]
  },
  {
   "cell_type": "code",
   "execution_count": 33,
   "metadata": {},
   "outputs": [
    {
     "data": {
      "text/plain": [
       "No dementia    42\n",
       "Dementia       42\n",
       "Name: Cognitive Status, dtype: int64"
      ]
     },
     "execution_count": 33,
     "metadata": {},
     "output_type": "execute_result"
    }
   ],
   "source": [
    "# Distribution of patients with and without dementia\n",
    "df_meta[\"Cognitive Status\"].value_counts()"
   ]
  },
  {
   "cell_type": "code",
   "execution_count": 34,
   "metadata": {},
   "outputs": [
    {
     "name": "stdout",
     "output_type": "stream",
     "text": [
      "Female:\n",
      "Dementia       27\n",
      "No dementia    24\n",
      "Name: Cognitive Status, dtype: int64\n",
      "\n",
      "Male:\n",
      "No dementia    18\n",
      "Dementia       15\n",
      "Name: Cognitive Status, dtype: int64\n"
     ]
    }
   ],
   "source": [
    "# ...and now grouped by sex\n",
    "print(\"Female:\")\n",
    "print(df_meta[df_meta[\"Sex\"] == \"Female\"][\"Cognitive Status\"].value_counts())\n",
    "print(\"\\nMale:\")\n",
    "print(df_meta[df_meta[\"Sex\"] == \"Male\"][\"Cognitive Status\"].value_counts())"
   ]
  },
  {
   "cell_type": "markdown",
   "metadata": {},
   "source": [
    "We see that although there are more females than males in the dataset, there is a difference of 3 between the number of donors with dementia and without dementia for both sexes. For males, there are more donors without dementia while for females there are more donors with dementia. This is information we will have to keep in mind for the rest of our EDA while comparing between sexes."
   ]
  },
  {
   "cell_type": "markdown",
   "metadata": {},
   "source": [
    "#### Brain pH for Dementia v. No dementia"
   ]
  },
  {
   "cell_type": "code",
   "execution_count": 35,
   "metadata": {},
   "outputs": [
    {
     "data": {
      "text/plain": [
       "Cognitive Status\n",
       "Dementia       AxesSubplot(0.125,0.11;0.775x0.77)\n",
       "No dementia    AxesSubplot(0.125,0.11;0.775x0.77)\n",
       "Name: Brain pH, dtype: object"
      ]
     },
     "execution_count": 35,
     "metadata": {},
     "output_type": "execute_result"
    },
    {
     "data": {
      "image/png": "[encoded data removed]",
      "text/plain": [
       "<Figure size 640x480 with 1 Axes>"
      ]
     },
     "metadata": {},
     "output_type": "display_data"
    }
   ],
   "source": [
    "df_meta.groupby(\"Cognitive Status\")['Brain pH'].plot.hist(alpha=.5, density=True, legend=True, xlabel = \"Brain pH\")"
   ]
  },
  {
   "cell_type": "markdown",
   "metadata": {},
   "source": [
    "Based on this exploratory graph, there are several observations that can be made about brain pH as it relates to dementia diagnosis. For individuals with dementia, the mode appears at individuals with pH around 6.2-6.3, whereas individuals without dementia appear to have a peak for individuals with a brain pH around 6.9. Ignoring the distinct outlier in the dementia patients, the spread of patients with and without dementia is around 1.5. However, the maximum pH for individuals without dementia is higher at around 7.6, whereas the max pH for individuals with dementia falls at around 7.2. We wanted to consider brain pH as it relates to dementia because brain pH may be a potential indicating factor for dementia, and we know that females tend to have a lower brain pH. "
   ]
  },
  {
   "cell_type": "markdown",
   "metadata": {},
   "source": [
    "To dive further, we wanted to look at the differences between individuals with and without dementia and their pH levels by sex. "
   ]
  },
  {
   "cell_type": "code",
   "execution_count": 36,
   "metadata": {},
   "outputs": [
    {
     "data": {
      "text/plain": [
       "Sex\n",
       "Female    AxesSubplot(0.125,0.11;0.775x0.77)\n",
       "Male      AxesSubplot(0.125,0.11;0.775x0.77)\n",
       "Name: Brain pH, dtype: object"
      ]
     },
     "execution_count": 36,
     "metadata": {},
     "output_type": "execute_result"
    },
    {
     "data": {
      "image/png": "[encoded data removed]",
      "text/plain": [
       "<Figure size 640x480 with 1 Axes>"
      ]
     },
     "metadata": {},
     "output_type": "display_data"
    }
   ],
   "source": [
    "df_meta_nodementia = df_meta[df_meta[\"Cognitive Status\"] != \"Dementia\"]\n",
    "df_meta_dementia = df_meta[df_meta[\"Cognitive Status\"] == \"Dementia\"]\n",
    "\n",
    "df_meta_nodementia.groupby(\"Sex\")['Brain pH'].plot.hist(alpha=.5, density=True, legend=True, xlabel = \"Brain pH\", title = \"pH Level and Sex for Individuals without Dementia\", bins=30, range=[4.0, 8.0])"
   ]
  },
  {
   "cell_type": "code",
   "execution_count": 37,
   "metadata": {},
   "outputs": [
    {
     "data": {
      "text/plain": [
       "Sex\n",
       "Female    AxesSubplot(0.125,0.11;0.775x0.77)\n",
       "Male      AxesSubplot(0.125,0.11;0.775x0.77)\n",
       "Name: Brain pH, dtype: object"
      ]
     },
     "execution_count": 37,
     "metadata": {},
     "output_type": "execute_result"
    },
    {
     "data": {
      "image/png": "[encoded data removed]",
      "text/plain": [
       "<Figure size 640x480 with 1 Axes>"
      ]
     },
     "metadata": {},
     "output_type": "display_data"
    }
   ],
   "source": [
    "# now fow dementia\n",
    "df_meta_dementia.groupby(\"Sex\")['Brain pH'].plot.hist(alpha=.5, density=True, legend=True, xlabel = \"Brain pH\", title = \"pH Level and Sex for Individuals with Dementia\", bins=30, range=[4.0, 8.0])"
   ]
  },
  {
   "cell_type": "markdown",
   "metadata": {},
   "source": [
    "From these two plots, it appears that brain pH is lower in the individuals with dementia. For instance, although males tend to lean towards a higher pH in both the demented and non-demented group, in the non-demented group the highest male brain pH is around 7.6 where it is around 7.3 in the demented group. Females tended to have a slightly lower brain pH in both groups, with the non-demented group having a low of about 6.0 and the demented group having a lot of around 4.4. We found this particularly interesting that females appear to have a slightly lower baseline pH compared to men and that brain pH appears to fall with dementia. At this point, we have to keep digging further to see if brain pH is a good predictor for dementia. If so, we will do more research on pH between females and males to see if baseline brain pH could contribute to the likelihood of developing dementia."
   ]
  },
  {
   "cell_type": "markdown",
   "metadata": {},
   "source": [
    "#### Examining the Relationship between Education and Dementia"
   ]
  },
  {
   "cell_type": "markdown",
   "metadata": {},
   "source": [
    "One of our focuses in the previous dataset was on education and dementia, so we wanted to continue that analysis here. "
   ]
  },
  {
   "cell_type": "code",
   "execution_count": 38,
   "metadata": {},
   "outputs": [
    {
     "name": "stdout",
     "output_type": "stream",
     "text": [
      "Highest Education Level\n",
      "Graduate (PhD/Masters)       25\n",
      "Bachelors                    22\n",
      "High School                  18\n",
      "Trade School/ Tech School    15\n",
      "Professional                  4\n",
      "Name: Highest level of education, dtype: int64\n",
      "\n",
      "Years of Education\n",
      "16    17\n",
      "18    13\n",
      "12    12\n",
      "21    10\n",
      "15     8\n",
      "14     8\n",
      "17     7\n",
      "13     4\n",
      "20     3\n",
      "19     2\n",
      "Name: Years of education, dtype: int64\n"
     ]
    }
   ],
   "source": [
    "print(\"Highest Education Level\")\n",
    "print(df_meta[\"Highest level of education\"].value_counts())\n",
    "print(\"\\nYears of Education\")\n",
    "print(df_meta[\"Years of education\"].value_counts())"
   ]
  },
  {
   "cell_type": "markdown",
   "metadata": {},
   "source": [
    "All of the individuals in this dataset have had a fair amount of education (at least through high school), so we are unable to assess how extremely low levels of education may correlate with dementia. However, there is a large range in the type of education received as well as the number of years of education with a range of 9."
   ]
  },
  {
   "cell_type": "markdown",
   "metadata": {},
   "source": [
    "Average length of education for individuals with/without dementia:"
   ]
  },
  {
   "cell_type": "code",
   "execution_count": 39,
   "metadata": {},
   "outputs": [
    {
     "name": "stdout",
     "output_type": "stream",
     "text": [
      "The average number of years of education for individuals with dementia is 16.62\n",
      "The average number of years of education for individuals without dementia is 15.79\n"
     ]
    }
   ],
   "source": [
    "# Average Education level for demented individuals\n",
    "print(\"The average number of years of education for individuals with dementia is\", round(df_meta[df_meta[\"Cognitive Status\"] == \"Dementia\"][\"Years of education\"].mean(), 2))\n",
    "\n",
    "# Average Education level for non-demented individuals\n",
    "print(\"The average number of years of education for individuals without dementia is\", round(df_meta[df_meta[\"Cognitive Status\"] == \"No dementia\"][\"Years of education\"].mean(), 2))"
   ]
  },
  {
   "cell_type": "markdown",
   "metadata": {},
   "source": [
    "This differs from our previous dataset, where education was longer with individuals without dementia. "
   ]
  },
  {
   "cell_type": "code",
   "execution_count": 40,
   "metadata": {},
   "outputs": [
    {
     "name": "stdout",
     "output_type": "stream",
     "text": [
      "The average years of education for females is 15.98\n",
      "The average years of education for males is 16.55\n"
     ]
    }
   ],
   "source": [
    "# Average Education level for females\n",
    "print(\"The average years of education for females is\", round(df_meta[df_meta[\"Sex\"] == \"Female\"][\"Years of education\"].mean(), 2))\n",
    "\n",
    "# Average Education level for males\n",
    "print(\"The average years of education for males is\", round(df_meta[df_meta[\"Sex\"] == \"Male\"][\"Years of education\"].mean(), 2))"
   ]
  },
  {
   "cell_type": "code",
   "execution_count": 41,
   "metadata": {},
   "outputs": [
    {
     "name": "stdout",
     "output_type": "stream",
     "text": [
      "The average years of education for females with dementia is 16.44\n",
      "The average years of education for females without dementia is 15.46\n",
      "The average years of education for males with dementia is 16.93\n",
      "The average years of education for males without dementia is 16.22\n"
     ]
    }
   ],
   "source": [
    "# Average Education level for females\n",
    "print(\"The average years of education for females with dementia is\", end=' ')\n",
    "print(round(df_meta[(df_meta[\"Sex\"] == \"Female\") & (df_meta[\"Cognitive Status\"] == \"Dementia\")][\"Years of education\"].mean(),2))\n",
    "print(\"The average years of education for females without dementia is\", end=' ')\n",
    "print(round(df_meta[(df_meta[\"Sex\"] == \"Female\") & (df_meta[\"Cognitive Status\"] == \"No dementia\")][\"Years of education\"].mean(),2))\n",
    "\n",
    "# Average Education level for males\n",
    "print(\"The average years of education for males with dementia is\", end=' ')\n",
    "print(round(df_meta[(df_meta[\"Sex\"] == \"Male\") & (df_meta[\"Cognitive Status\"] == \"Dementia\")][\"Years of education\"].mean(),2))\n",
    "print(\"The average years of education for males without dementia is\", end=' ')\n",
    "print(round(df_meta[(df_meta[\"Sex\"] == \"Male\") & (df_meta[\"Cognitive Status\"] == \"No dementia\")][\"Years of education\"].mean(),2))"
   ]
  },
  {
   "cell_type": "markdown",
   "metadata": {},
   "source": [
    "The years of education does not vary much between females and males, which will be helpful in our analysis. Therefore, when we look at education we don’t have to worry as much about the distribution of sexes."
   ]
  },
  {
   "cell_type": "code",
   "execution_count": 42,
   "metadata": {},
   "outputs": [
    {
     "name": "stdout",
     "output_type": "stream",
     "text": [
      "Correlation between years of education and dementia from the meta data:\n",
      "0.15100381378815506\n",
      "Correlation between years of education and dementia from oasis study...\n",
      "based on the cross-sectional data: -0.23591049426349353\n",
      "based on the longitudinal data: -0.1930601002082625\n"
     ]
    }
   ],
   "source": [
    "# Correlation between education and dementia\n",
    "\n",
    "# create a numeric version of dementia column for this analysis\n",
    "\n",
    "df_meta[\"cog_status_num\"] = df_meta[\"Cognitive Status\"].map({\n",
    "    \"Dementia\": 1,\n",
    "    \"No dementia\": 0\n",
    "})\n",
    "\n",
    "\n",
    "df_alhz_cross['cog_status_num'] = df_alhz_cross['Group'].map({\n",
    "    'Nondemented': 0,\n",
    "    'Demented': 1\n",
    "})\n",
    "\n",
    "df_alhz_long['cog_status_num'] = df_alhz_long['Group'].map({\n",
    "    'Nondemented': 0,\n",
    "    'Converted': 1,\n",
    "    'Demented': 1\n",
    "})\n",
    "\n",
    "# correlation\n",
    "print(\"Correlation between years of education and dementia from the meta data:\")\n",
    "print(df_meta[\"Years of education\"].corr(df_meta[\"cog_status_num\"]))\n",
    "print(\"Correlation between years of education and dementia from oasis study...\")\n",
    "print(\"based on the cross-sectional data:\", df_alhz_cross[\"Educ\"].corr(df_alhz_cross[\"cog_status_num\"]))\n",
    "print(\"based on the longitudinal data:\", df_alhz_long[\"EDUC\"].corr(df_alhz_long[\"cog_status_num\"]))"
   ]
  },
  {
   "cell_type": "markdown",
   "metadata": {},
   "source": [
    "Once again, we see that this data may contradict our dataset from above. There appears to be a positive correlation in our new dataset between more education and the development of dementia, where it was the opposite in both datasets above. However, these correlations are still all relatively low, so we would need more data to truly determine the significance of education."
   ]
  },
  {
   "cell_type": "code",
   "execution_count": 43,
   "metadata": {},
   "outputs": [
    {
     "data": {
      "text/html": [
       "<div>\n",
       "<style scoped>\n",
       "    .dataframe tbody tr th:only-of-type {\n",
       "        vertical-align: middle;\n",
       "    }\n",
       "\n",
       "    .dataframe tbody tr th {\n",
       "        vertical-align: top;\n",
       "    }\n",
       "\n",
       "    .dataframe thead th {\n",
       "        text-align: right;\n",
       "    }\n",
       "</style>\n",
       "<table border=\"1\" class=\"dataframe\">\n",
       "  <thead>\n",
       "    <tr style=\"text-align: right;\">\n",
       "      <th></th>\n",
       "      <th>cog_status_num</th>\n",
       "      <th>Last MMSE Score</th>\n",
       "      <th>Female</th>\n",
       "      <th>Male</th>\n",
       "      <th>Years of education</th>\n",
       "    </tr>\n",
       "  </thead>\n",
       "  <tbody>\n",
       "    <tr>\n",
       "      <th>cog_status_num</th>\n",
       "      <td>1.000000</td>\n",
       "      <td>-0.498078</td>\n",
       "      <td>0.073127</td>\n",
       "      <td>-0.073127</td>\n",
       "      <td>0.151004</td>\n",
       "    </tr>\n",
       "    <tr>\n",
       "      <th>Last MMSE Score</th>\n",
       "      <td>-0.498078</td>\n",
       "      <td>1.000000</td>\n",
       "      <td>-0.070174</td>\n",
       "      <td>0.070174</td>\n",
       "      <td>-0.054593</td>\n",
       "    </tr>\n",
       "    <tr>\n",
       "      <th>Female</th>\n",
       "      <td>0.073127</td>\n",
       "      <td>-0.070174</td>\n",
       "      <td>1.000000</td>\n",
       "      <td>-1.000000</td>\n",
       "      <td>-0.100013</td>\n",
       "    </tr>\n",
       "    <tr>\n",
       "      <th>Male</th>\n",
       "      <td>-0.073127</td>\n",
       "      <td>0.070174</td>\n",
       "      <td>-1.000000</td>\n",
       "      <td>1.000000</td>\n",
       "      <td>0.100013</td>\n",
       "    </tr>\n",
       "    <tr>\n",
       "      <th>Years of education</th>\n",
       "      <td>0.151004</td>\n",
       "      <td>-0.054593</td>\n",
       "      <td>-0.100013</td>\n",
       "      <td>0.100013</td>\n",
       "      <td>1.000000</td>\n",
       "    </tr>\n",
       "  </tbody>\n",
       "</table>\n",
       "</div>"
      ],
      "text/plain": [
       "                    cog_status_num  Last MMSE Score    Female      Male  \\\n",
       "cog_status_num            1.000000        -0.498078  0.073127 -0.073127   \n",
       "Last MMSE Score          -0.498078         1.000000 -0.070174  0.070174   \n",
       "Female                    0.073127        -0.070174  1.000000 -1.000000   \n",
       "Male                     -0.073127         0.070174 -1.000000  1.000000   \n",
       "Years of education        0.151004        -0.054593 -0.100013  0.100013   \n",
       "\n",
       "                    Years of education  \n",
       "cog_status_num                0.151004  \n",
       "Last MMSE Score              -0.054593  \n",
       "Female                       -0.100013  \n",
       "Male                          0.100013  \n",
       "Years of education            1.000000  "
      ]
     },
     "execution_count": 43,
     "metadata": {},
     "output_type": "execute_result"
    }
   ],
   "source": [
    "df_meta_dummy = pd.concat([df_meta, pd.get_dummies(df_meta[\"Sex\"])], axis=1)\n",
    "# TO DO : make a correlation matrix between certain variables and dementia\n",
    "variables = [\"cog_status_num\", \n",
    "             \"Last MMSE Score\", \n",
    "             \"Female\",\n",
    "             \"Male\",\n",
    "             \"Years of education\"]\n",
    "df_meta_dummy[variables].corr()"
   ]
  },
  {
   "cell_type": "markdown",
   "metadata": {},
   "source": [
    "From this correlation matrix, we see that none of the correlation are strong, except to themselves and male/female, which is -1 (because you must be recorded as one or the other). This is to be expected since we are examining a complex disease that even neuroscientist are unsure of its causes. We also need to remember that all of our data comes from humans, who are extremely variable in their genetic makeup, environment, and lifestyle, all of which contribute to confounding variables. However, the highest correlation appears to be between “last MMSE score” and “cog_status_num”, which is a binary column with 1 representing dementia and 0 representing no dementia. This informs us that moving forward in our prediction models, we should look at including the last MME score since it has a negative correlation with the cognitive status of -0.498."
   ]
  },
  {
   "cell_type": "markdown",
   "metadata": {},
   "source": [
    "#### Looking at MMSE (Mini Mental State Examination) Scores for Males/Females With/Without Dementia "
   ]
  },
  {
   "cell_type": "markdown",
   "metadata": {},
   "source": [
    "The MMSE test is a means of measuring mental status and is one of the measures that might indicate dementia that is contained in both of our datasets. We wanted to attempt to compare the two datasets to see how findings differ. "
   ]
  },
  {
   "cell_type": "markdown",
   "metadata": {},
   "source": [
    "Using the Metadata dataset:"
   ]
  },
  {
   "cell_type": "code",
   "execution_count": 44,
   "metadata": {},
   "outputs": [
    {
     "name": "stdout",
     "output_type": "stream",
     "text": [
      "The average MMSE for females with dementia is 21.52\n",
      "The average MMSE for females without dementia is 27.52\n",
      "The average MMSE for males with dementia is 23.93\n",
      "The average MSSE for males without dementia is 25.89\n"
     ]
    }
   ],
   "source": [
    "# Average Education level for females\n",
    "print(\"The average MMSE for females with dementia is\", end=' ')\n",
    "female_d_mmse = df_meta[(df_meta[\"Sex\"] == \"Female\") & (df_meta[\"Cognitive Status\"] == \"Dementia\")][\"Last MMSE Score\"]\n",
    "print(round(female_d_mmse.mean(),2))\n",
    "print(\"The average MMSE for females without dementia is\", end=' ')\n",
    "female_nd_mmse = df_meta[(df_meta[\"Sex\"] == \"Female\") & (df_meta[\"Cognitive Status\"] == \"No dementia\")][\"Last MMSE Score\"]\n",
    "print(round(female_nd_mmse.mean(),2))\n",
    "\n",
    "\n",
    "# Average Education level for males\n",
    "print(\"The average MMSE for males with dementia is\", end=' ')\n",
    "male_d_mmse = df_meta[(df_meta[\"Sex\"] == \"Male\") & (df_meta[\"Cognitive Status\"] == \"Dementia\")][\"Last MMSE Score\"]\n",
    "print(round(male_d_mmse.mean(),2))\n",
    "print(\"The average MSSE for males without dementia is\", end=' ')\n",
    "male_nd_mmse = df_meta[(df_meta[\"Sex\"] == \"Male\") & (df_meta[\"Cognitive Status\"] == \"No dementia\")][\"Last MMSE Score\"]\n",
    "print(round(male_nd_mmse.mean(),2))"
   ]
  },
  {
   "cell_type": "markdown",
   "metadata": {},
   "source": [
    "Using our previous MRI dataset: "
   ]
  },
  {
   "cell_type": "code",
   "execution_count": 45,
   "metadata": {},
   "outputs": [
    {
     "name": "stdout",
     "output_type": "stream",
     "text": [
      "The overall average MMSE for females with dementia is 24.33\n",
      "The overall average MMSE for females without dementia is 29.09\n",
      "The overall average MMSE for males with dementia is 25.05\n",
      "The overall average MMSE for males without dementia is 28.51\n"
     ]
    }
   ],
   "source": [
    "# Now, adding in the other datasets\n",
    "df_alhz_cross[\"MMSE\"].dropna(inplace=True)\n",
    "df_alhz_long[\"MMSE\"].dropna(inplace=True)\n",
    "\n",
    "female_d_mmse_cross = df_alhz_cross[(df_alhz_cross[\"M/F\"] == \"F\") & (df_alhz_cross[\"Group\"] == \"Demented\")][\"MMSE\"]\n",
    "female_nd_mmse_cross = df_alhz_cross[(df_alhz_cross[\"M/F\"] == \"F\") & (df_alhz_cross[\"Group\"] == \"Nondemented\")][\"MMSE\"]\n",
    "female_d_mmse_long = df_alhz_long[(df_alhz_long[\"M/F\"] == \"F\") & ((df_alhz_long[\"Group\"] == \"Demented\") | (df_alhz_long[\"Group\"] == \"Converted\"))][\"MMSE\"]\n",
    "female_nd_mmse_long = df_alhz_long[(df_alhz_long[\"M/F\"] == \"F\") & (df_alhz_long[\"Group\"] == \"Nondemented\")][\"MMSE\"]\n",
    "\n",
    "male_d_mmse_cross = df_alhz_cross[(df_alhz_cross[\"M/F\"] == \"M\") & (df_alhz_cross[\"Group\"] == \"Demented\")][\"MMSE\"]\n",
    "male_nd_mmse_cross = df_alhz_cross[(df_alhz_cross[\"M/F\"] == \"M\") & (df_alhz_cross[\"Group\"] == \"Nondemented\")][\"MMSE\"]\n",
    "male_d_mmse_long = df_alhz_long[(df_alhz_long[\"M/F\"] == \"M\") & ((df_alhz_long[\"Group\"] == \"Demented\") | (df_alhz_long[\"Group\"] == \"Converted\"))][\"MMSE\"]\n",
    "male_nd_mmse_long = df_alhz_long[(df_alhz_long[\"M/F\"] == \"M\") & (df_alhz_long[\"Group\"] == \"Nondemented\")][\"MMSE\"]\n",
    "\n",
    "sum_female_d = female_d_mmse_long.append(female_d_mmse)\n",
    "sum_female_d = sum_female_d.append(female_d_mmse_cross)\n",
    "sum_female_nd = female_nd_mmse_long.append(female_nd_mmse)\n",
    "sum_female_nd = sum_female_nd.append(female_nd_mmse_cross)\n",
    "sum_male_d = male_d_mmse_long.append(male_d_mmse)\n",
    "sum_male_d = sum_male_d.append(male_d_mmse_cross)\n",
    "sum_male_nd = male_nd_mmse_long.append(male_nd_mmse)\n",
    "sum_male_nd = sum_male_nd.append(male_nd_mmse_cross)\n",
    "\n",
    "print(\"The overall average MMSE for females with dementia is\", end=' ')\n",
    "print(round(sum_female_d.mean(),2))\n",
    "print(\"The overall average MMSE for females without dementia is\", end=' ')\n",
    "print(round(sum_female_nd.mean(),2))\n",
    "print(\"The overall average MMSE for males with dementia is\", end=' ')\n",
    "print(round(sum_male_d.mean(),2))\n",
    "print(\"The overall average MMSE for males without dementia is\", end=' ')\n",
    "print(round(sum_male_nd.mean(),2))"
   ]
  },
  {
   "cell_type": "markdown",
   "metadata": {},
   "source": [
    "MMSE describes a patient’s mental state with a high score of 30 and a low of 0. Our quick dive into MMSE allowed us to see that there is a significant difference between the MMSE of individuals with and without dementia. We also were able to see that our new dataset contains individuals who had a lower score on average, since each respective mean was lower than the means of MMSE per group in the three combined datasets We will have to do a bit more research into exactly what a point in the MMSE score represents to better understand these differences."
   ]
  },
  {
   "cell_type": "markdown",
   "metadata": {},
   "source": [
    "#### Age of Diagnosis and Years of Education"
   ]
  },
  {
   "cell_type": "code",
   "execution_count": 46,
   "metadata": {},
   "outputs": [],
   "source": [
    "df_meta[\"Age of Dementia diagnosis\"] = df_meta[\"Age of Dementia diagnosis\"].replace(['90+'], '90')"
   ]
  },
  {
   "cell_type": "code",
   "execution_count": 47,
   "metadata": {},
   "outputs": [
    {
     "ename": "TypeError",
     "evalue": "'value' must be an instance of str or bytes, not a float",
     "output_type": "error",
     "traceback": [
      "\u001b[0;31m---------------------------------------------------------------------------\u001b[0m",
      "\u001b[0;31mTypeError\u001b[0m                                 Traceback (most recent call last)",
      "Cell \u001b[0;32mIn [47], line 3\u001b[0m\n\u001b[1;32m      1\u001b[0m \u001b[38;5;66;03m# Drop the rows where there is no age of dementia diagnosis \u001b[39;00m\n\u001b[1;32m      2\u001b[0m df_temp \u001b[38;5;241m=\u001b[39m df_meta[df_meta[\u001b[38;5;124m\"\u001b[39m\u001b[38;5;124mAge of Dementia diagnosis\u001b[39m\u001b[38;5;124m\"\u001b[39m] \u001b[38;5;241m!=\u001b[39m \u001b[38;5;241m0\u001b[39m]\n\u001b[0;32m----> 3\u001b[0m \u001b[43mdf_temp\u001b[49m\u001b[38;5;241;43m.\u001b[39;49m\u001b[43mplot\u001b[49m\u001b[38;5;241;43m.\u001b[39;49m\u001b[43mscatter\u001b[49m\u001b[43m(\u001b[49m\u001b[43mx\u001b[49m\u001b[38;5;241;43m=\u001b[39;49m\u001b[38;5;124;43m\"\u001b[39;49m\u001b[38;5;124;43mYears of education\u001b[39;49m\u001b[38;5;124;43m\"\u001b[39;49m\u001b[43m,\u001b[49m\u001b[43m \u001b[49m\u001b[43my\u001b[49m\u001b[38;5;241;43m=\u001b[39;49m\u001b[38;5;124;43m\"\u001b[39;49m\u001b[38;5;124;43mAge of Dementia diagnosis\u001b[39;49m\u001b[38;5;124;43m\"\u001b[39;49m\u001b[43m)\u001b[49m\n",
      "File \u001b[0;32m/Library/Frameworks/Python.framework/Versions/3.9/lib/python3.9/site-packages/pandas/plotting/_core.py:1719\u001b[0m, in \u001b[0;36mPlotAccessor.scatter\u001b[0;34m(self, x, y, s, c, **kwargs)\u001b[0m\n\u001b[1;32m   1716\u001b[0m \u001b[38;5;28;01melif\u001b[39;00m c \u001b[38;5;129;01mis\u001b[39;00m \u001b[38;5;129;01mnot\u001b[39;00m \u001b[38;5;28;01mNone\u001b[39;00m \u001b[38;5;129;01mor\u001b[39;00m color \u001b[38;5;129;01mis\u001b[39;00m \u001b[38;5;129;01mnot\u001b[39;00m \u001b[38;5;28;01mNone\u001b[39;00m:\n\u001b[1;32m   1717\u001b[0m     kwargs[\u001b[38;5;124m\"\u001b[39m\u001b[38;5;124mc\u001b[39m\u001b[38;5;124m\"\u001b[39m] \u001b[38;5;241m=\u001b[39m c \u001b[38;5;28;01mif\u001b[39;00m c \u001b[38;5;129;01mis\u001b[39;00m \u001b[38;5;129;01mnot\u001b[39;00m \u001b[38;5;28;01mNone\u001b[39;00m \u001b[38;5;28;01melse\u001b[39;00m color\n\u001b[0;32m-> 1719\u001b[0m \u001b[38;5;28;01mreturn\u001b[39;00m \u001b[38;5;28;43mself\u001b[39;49m\u001b[43m(\u001b[49m\u001b[43mkind\u001b[49m\u001b[38;5;241;43m=\u001b[39;49m\u001b[38;5;124;43m\"\u001b[39;49m\u001b[38;5;124;43mscatter\u001b[39;49m\u001b[38;5;124;43m\"\u001b[39;49m\u001b[43m,\u001b[49m\u001b[43m \u001b[49m\u001b[43mx\u001b[49m\u001b[38;5;241;43m=\u001b[39;49m\u001b[43mx\u001b[49m\u001b[43m,\u001b[49m\u001b[43m \u001b[49m\u001b[43my\u001b[49m\u001b[38;5;241;43m=\u001b[39;49m\u001b[43my\u001b[49m\u001b[43m,\u001b[49m\u001b[43m \u001b[49m\u001b[38;5;241;43m*\u001b[39;49m\u001b[38;5;241;43m*\u001b[39;49m\u001b[43mkwargs\u001b[49m\u001b[43m)\u001b[49m\n",
      "File \u001b[0;32m/Library/Frameworks/Python.framework/Versions/3.9/lib/python3.9/site-packages/pandas/plotting/_core.py:946\u001b[0m, in \u001b[0;36mPlotAccessor.__call__\u001b[0;34m(self, *args, **kwargs)\u001b[0m\n\u001b[1;32m    944\u001b[0m \u001b[38;5;28;01mif\u001b[39;00m kind \u001b[38;5;129;01min\u001b[39;00m \u001b[38;5;28mself\u001b[39m\u001b[38;5;241m.\u001b[39m_dataframe_kinds:\n\u001b[1;32m    945\u001b[0m     \u001b[38;5;28;01mif\u001b[39;00m \u001b[38;5;28misinstance\u001b[39m(data, ABCDataFrame):\n\u001b[0;32m--> 946\u001b[0m         \u001b[38;5;28;01mreturn\u001b[39;00m \u001b[43mplot_backend\u001b[49m\u001b[38;5;241;43m.\u001b[39;49m\u001b[43mplot\u001b[49m\u001b[43m(\u001b[49m\u001b[43mdata\u001b[49m\u001b[43m,\u001b[49m\u001b[43m \u001b[49m\u001b[43mx\u001b[49m\u001b[38;5;241;43m=\u001b[39;49m\u001b[43mx\u001b[49m\u001b[43m,\u001b[49m\u001b[43m \u001b[49m\u001b[43my\u001b[49m\u001b[38;5;241;43m=\u001b[39;49m\u001b[43my\u001b[49m\u001b[43m,\u001b[49m\u001b[43m \u001b[49m\u001b[43mkind\u001b[49m\u001b[38;5;241;43m=\u001b[39;49m\u001b[43mkind\u001b[49m\u001b[43m,\u001b[49m\u001b[43m \u001b[49m\u001b[38;5;241;43m*\u001b[39;49m\u001b[38;5;241;43m*\u001b[39;49m\u001b[43mkwargs\u001b[49m\u001b[43m)\u001b[49m\n\u001b[1;32m    947\u001b[0m     \u001b[38;5;28;01melse\u001b[39;00m:\n\u001b[1;32m    948\u001b[0m         \u001b[38;5;28;01mraise\u001b[39;00m \u001b[38;5;167;01mValueError\u001b[39;00m(\u001b[38;5;124mf\u001b[39m\u001b[38;5;124m\"\u001b[39m\u001b[38;5;124mplot kind \u001b[39m\u001b[38;5;132;01m{\u001b[39;00mkind\u001b[38;5;132;01m}\u001b[39;00m\u001b[38;5;124m can only be used for data frames\u001b[39m\u001b[38;5;124m\"\u001b[39m)\n",
      "File \u001b[0;32m/Library/Frameworks/Python.framework/Versions/3.9/lib/python3.9/site-packages/pandas/plotting/_matplotlib/__init__.py:71\u001b[0m, in \u001b[0;36mplot\u001b[0;34m(data, kind, **kwargs)\u001b[0m\n\u001b[1;32m     69\u001b[0m         kwargs[\u001b[38;5;124m\"\u001b[39m\u001b[38;5;124max\u001b[39m\u001b[38;5;124m\"\u001b[39m] \u001b[38;5;241m=\u001b[39m \u001b[38;5;28mgetattr\u001b[39m(ax, \u001b[38;5;124m\"\u001b[39m\u001b[38;5;124mleft_ax\u001b[39m\u001b[38;5;124m\"\u001b[39m, ax)\n\u001b[1;32m     70\u001b[0m plot_obj \u001b[38;5;241m=\u001b[39m PLOT_CLASSES[kind](data, \u001b[38;5;241m*\u001b[39m\u001b[38;5;241m*\u001b[39mkwargs)\n\u001b[0;32m---> 71\u001b[0m \u001b[43mplot_obj\u001b[49m\u001b[38;5;241;43m.\u001b[39;49m\u001b[43mgenerate\u001b[49m\u001b[43m(\u001b[49m\u001b[43m)\u001b[49m\n\u001b[1;32m     72\u001b[0m plot_obj\u001b[38;5;241m.\u001b[39mdraw()\n\u001b[1;32m     73\u001b[0m \u001b[38;5;28;01mreturn\u001b[39;00m plot_obj\u001b[38;5;241m.\u001b[39mresult\n",
      "File \u001b[0;32m/Library/Frameworks/Python.framework/Versions/3.9/lib/python3.9/site-packages/pandas/plotting/_matplotlib/core.py:453\u001b[0m, in \u001b[0;36mMPLPlot.generate\u001b[0;34m(self)\u001b[0m\n\u001b[1;32m    451\u001b[0m \u001b[38;5;28mself\u001b[39m\u001b[38;5;241m.\u001b[39m_compute_plot_data()\n\u001b[1;32m    452\u001b[0m \u001b[38;5;28mself\u001b[39m\u001b[38;5;241m.\u001b[39m_setup_subplots()\n\u001b[0;32m--> 453\u001b[0m \u001b[38;5;28;43mself\u001b[39;49m\u001b[38;5;241;43m.\u001b[39;49m\u001b[43m_make_plot\u001b[49m\u001b[43m(\u001b[49m\u001b[43m)\u001b[49m\n\u001b[1;32m    454\u001b[0m \u001b[38;5;28mself\u001b[39m\u001b[38;5;241m.\u001b[39m_add_table()\n\u001b[1;32m    455\u001b[0m \u001b[38;5;28mself\u001b[39m\u001b[38;5;241m.\u001b[39m_make_legend()\n",
      "File \u001b[0;32m/Library/Frameworks/Python.framework/Versions/3.9/lib/python3.9/site-packages/pandas/plotting/_matplotlib/core.py:1254\u001b[0m, in \u001b[0;36mScatterPlot._make_plot\u001b[0;34m(self)\u001b[0m\n\u001b[1;32m   1252\u001b[0m \u001b[38;5;28;01melse\u001b[39;00m:\n\u001b[1;32m   1253\u001b[0m     label \u001b[38;5;241m=\u001b[39m \u001b[38;5;28;01mNone\u001b[39;00m\n\u001b[0;32m-> 1254\u001b[0m scatter \u001b[38;5;241m=\u001b[39m \u001b[43max\u001b[49m\u001b[38;5;241;43m.\u001b[39;49m\u001b[43mscatter\u001b[49m\u001b[43m(\u001b[49m\n\u001b[1;32m   1255\u001b[0m \u001b[43m    \u001b[49m\u001b[43mdata\u001b[49m\u001b[43m[\u001b[49m\u001b[43mx\u001b[49m\u001b[43m]\u001b[49m\u001b[38;5;241;43m.\u001b[39;49m\u001b[43mvalues\u001b[49m\u001b[43m,\u001b[49m\n\u001b[1;32m   1256\u001b[0m \u001b[43m    \u001b[49m\u001b[43mdata\u001b[49m\u001b[43m[\u001b[49m\u001b[43my\u001b[49m\u001b[43m]\u001b[49m\u001b[38;5;241;43m.\u001b[39;49m\u001b[43mvalues\u001b[49m\u001b[43m,\u001b[49m\n\u001b[1;32m   1257\u001b[0m \u001b[43m    \u001b[49m\u001b[43mc\u001b[49m\u001b[38;5;241;43m=\u001b[39;49m\u001b[43mc_values\u001b[49m\u001b[43m,\u001b[49m\n\u001b[1;32m   1258\u001b[0m \u001b[43m    \u001b[49m\u001b[43mlabel\u001b[49m\u001b[38;5;241;43m=\u001b[39;49m\u001b[43mlabel\u001b[49m\u001b[43m,\u001b[49m\n\u001b[1;32m   1259\u001b[0m \u001b[43m    \u001b[49m\u001b[43mcmap\u001b[49m\u001b[38;5;241;43m=\u001b[39;49m\u001b[43mcmap\u001b[49m\u001b[43m,\u001b[49m\n\u001b[1;32m   1260\u001b[0m \u001b[43m    \u001b[49m\u001b[43mnorm\u001b[49m\u001b[38;5;241;43m=\u001b[39;49m\u001b[43mnorm\u001b[49m\u001b[43m,\u001b[49m\n\u001b[1;32m   1261\u001b[0m \u001b[43m    \u001b[49m\u001b[38;5;241;43m*\u001b[39;49m\u001b[38;5;241;43m*\u001b[39;49m\u001b[38;5;28;43mself\u001b[39;49m\u001b[38;5;241;43m.\u001b[39;49m\u001b[43mkwds\u001b[49m\u001b[43m,\u001b[49m\n\u001b[1;32m   1262\u001b[0m \u001b[43m\u001b[49m\u001b[43m)\u001b[49m\n\u001b[1;32m   1263\u001b[0m \u001b[38;5;28;01mif\u001b[39;00m cb:\n\u001b[1;32m   1264\u001b[0m     cbar_label \u001b[38;5;241m=\u001b[39m c \u001b[38;5;28;01mif\u001b[39;00m c_is_column \u001b[38;5;28;01melse\u001b[39;00m \u001b[38;5;124m\"\u001b[39m\u001b[38;5;124m\"\u001b[39m\n",
      "File \u001b[0;32m/Library/Frameworks/Python.framework/Versions/3.9/lib/python3.9/site-packages/matplotlib/__init__.py:1423\u001b[0m, in \u001b[0;36m_preprocess_data.<locals>.inner\u001b[0;34m(ax, data, *args, **kwargs)\u001b[0m\n\u001b[1;32m   1420\u001b[0m \u001b[38;5;129m@functools\u001b[39m\u001b[38;5;241m.\u001b[39mwraps(func)\n\u001b[1;32m   1421\u001b[0m \u001b[38;5;28;01mdef\u001b[39;00m \u001b[38;5;21minner\u001b[39m(ax, \u001b[38;5;241m*\u001b[39margs, data\u001b[38;5;241m=\u001b[39m\u001b[38;5;28;01mNone\u001b[39;00m, \u001b[38;5;241m*\u001b[39m\u001b[38;5;241m*\u001b[39mkwargs):\n\u001b[1;32m   1422\u001b[0m     \u001b[38;5;28;01mif\u001b[39;00m data \u001b[38;5;129;01mis\u001b[39;00m \u001b[38;5;28;01mNone\u001b[39;00m:\n\u001b[0;32m-> 1423\u001b[0m         \u001b[38;5;28;01mreturn\u001b[39;00m \u001b[43mfunc\u001b[49m\u001b[43m(\u001b[49m\u001b[43max\u001b[49m\u001b[43m,\u001b[49m\u001b[43m \u001b[49m\u001b[38;5;241;43m*\u001b[39;49m\u001b[38;5;28;43mmap\u001b[39;49m\u001b[43m(\u001b[49m\u001b[43msanitize_sequence\u001b[49m\u001b[43m,\u001b[49m\u001b[43m \u001b[49m\u001b[43margs\u001b[49m\u001b[43m)\u001b[49m\u001b[43m,\u001b[49m\u001b[43m \u001b[49m\u001b[38;5;241;43m*\u001b[39;49m\u001b[38;5;241;43m*\u001b[39;49m\u001b[43mkwargs\u001b[49m\u001b[43m)\u001b[49m\n\u001b[1;32m   1425\u001b[0m     bound \u001b[38;5;241m=\u001b[39m new_sig\u001b[38;5;241m.\u001b[39mbind(ax, \u001b[38;5;241m*\u001b[39margs, \u001b[38;5;241m*\u001b[39m\u001b[38;5;241m*\u001b[39mkwargs)\n\u001b[1;32m   1426\u001b[0m     auto_label \u001b[38;5;241m=\u001b[39m (bound\u001b[38;5;241m.\u001b[39marguments\u001b[38;5;241m.\u001b[39mget(label_namer)\n\u001b[1;32m   1427\u001b[0m                   \u001b[38;5;129;01mor\u001b[39;00m bound\u001b[38;5;241m.\u001b[39mkwargs\u001b[38;5;241m.\u001b[39mget(label_namer))\n",
      "File \u001b[0;32m/Library/Frameworks/Python.framework/Versions/3.9/lib/python3.9/site-packages/matplotlib/axes/_axes.py:4514\u001b[0m, in \u001b[0;36mAxes.scatter\u001b[0;34m(self, x, y, s, c, marker, cmap, norm, vmin, vmax, alpha, linewidths, edgecolors, plotnonfinite, **kwargs)\u001b[0m\n\u001b[1;32m   4404\u001b[0m \u001b[38;5;124;03m\"\"\"\u001b[39;00m\n\u001b[1;32m   4405\u001b[0m \u001b[38;5;124;03mA scatter plot of *y* vs. *x* with varying marker size and/or color.\u001b[39;00m\n\u001b[1;32m   4406\u001b[0m \n\u001b[0;32m   (...)\u001b[0m\n\u001b[1;32m   4511\u001b[0m \n\u001b[1;32m   4512\u001b[0m \u001b[38;5;124;03m\"\"\"\u001b[39;00m\n\u001b[1;32m   4513\u001b[0m \u001b[38;5;66;03m# Process **kwargs to handle aliases, conflicts with explicit kwargs:\u001b[39;00m\n\u001b[0;32m-> 4514\u001b[0m x, y \u001b[38;5;241m=\u001b[39m \u001b[38;5;28;43mself\u001b[39;49m\u001b[38;5;241;43m.\u001b[39;49m\u001b[43m_process_unit_info\u001b[49m\u001b[43m(\u001b[49m\u001b[43m[\u001b[49m\u001b[43m(\u001b[49m\u001b[38;5;124;43m\"\u001b[39;49m\u001b[38;5;124;43mx\u001b[39;49m\u001b[38;5;124;43m\"\u001b[39;49m\u001b[43m,\u001b[49m\u001b[43m \u001b[49m\u001b[43mx\u001b[49m\u001b[43m)\u001b[49m\u001b[43m,\u001b[49m\u001b[43m \u001b[49m\u001b[43m(\u001b[49m\u001b[38;5;124;43m\"\u001b[39;49m\u001b[38;5;124;43my\u001b[39;49m\u001b[38;5;124;43m\"\u001b[39;49m\u001b[43m,\u001b[49m\u001b[43m \u001b[49m\u001b[43my\u001b[49m\u001b[43m)\u001b[49m\u001b[43m]\u001b[49m\u001b[43m,\u001b[49m\u001b[43m \u001b[49m\u001b[43mkwargs\u001b[49m\u001b[43m)\u001b[49m\n\u001b[1;32m   4515\u001b[0m \u001b[38;5;66;03m# np.ma.ravel yields an ndarray, not a masked array,\u001b[39;00m\n\u001b[1;32m   4516\u001b[0m \u001b[38;5;66;03m# unless its argument is a masked array.\u001b[39;00m\n\u001b[1;32m   4517\u001b[0m x \u001b[38;5;241m=\u001b[39m np\u001b[38;5;241m.\u001b[39mma\u001b[38;5;241m.\u001b[39mravel(x)\n",
      "File \u001b[0;32m/Library/Frameworks/Python.framework/Versions/3.9/lib/python3.9/site-packages/matplotlib/axes/_base.py:2585\u001b[0m, in \u001b[0;36m_AxesBase._process_unit_info\u001b[0;34m(self, datasets, kwargs, convert)\u001b[0m\n\u001b[1;32m   2583\u001b[0m     \u001b[38;5;66;03m# Update from data if axis is already set but no unit is set yet.\u001b[39;00m\n\u001b[1;32m   2584\u001b[0m     \u001b[38;5;28;01mif\u001b[39;00m axis \u001b[38;5;129;01mis\u001b[39;00m \u001b[38;5;129;01mnot\u001b[39;00m \u001b[38;5;28;01mNone\u001b[39;00m \u001b[38;5;129;01mand\u001b[39;00m data \u001b[38;5;129;01mis\u001b[39;00m \u001b[38;5;129;01mnot\u001b[39;00m \u001b[38;5;28;01mNone\u001b[39;00m \u001b[38;5;129;01mand\u001b[39;00m \u001b[38;5;129;01mnot\u001b[39;00m axis\u001b[38;5;241m.\u001b[39mhave_units():\n\u001b[0;32m-> 2585\u001b[0m         \u001b[43maxis\u001b[49m\u001b[38;5;241;43m.\u001b[39;49m\u001b[43mupdate_units\u001b[49m\u001b[43m(\u001b[49m\u001b[43mdata\u001b[49m\u001b[43m)\u001b[49m\n\u001b[1;32m   2586\u001b[0m \u001b[38;5;28;01mfor\u001b[39;00m axis_name, axis \u001b[38;5;129;01min\u001b[39;00m axis_map\u001b[38;5;241m.\u001b[39mitems():\n\u001b[1;32m   2587\u001b[0m     \u001b[38;5;66;03m# Return if no axis is set.\u001b[39;00m\n\u001b[1;32m   2588\u001b[0m     \u001b[38;5;28;01mif\u001b[39;00m axis \u001b[38;5;129;01mis\u001b[39;00m \u001b[38;5;28;01mNone\u001b[39;00m:\n",
      "File \u001b[0;32m/Library/Frameworks/Python.framework/Versions/3.9/lib/python3.9/site-packages/matplotlib/axis.py:1608\u001b[0m, in \u001b[0;36mAxis.update_units\u001b[0;34m(self, data)\u001b[0m\n\u001b[1;32m   1606\u001b[0m neednew \u001b[38;5;241m=\u001b[39m \u001b[38;5;28mself\u001b[39m\u001b[38;5;241m.\u001b[39mconverter \u001b[38;5;241m!=\u001b[39m converter\n\u001b[1;32m   1607\u001b[0m \u001b[38;5;28mself\u001b[39m\u001b[38;5;241m.\u001b[39mconverter \u001b[38;5;241m=\u001b[39m converter\n\u001b[0;32m-> 1608\u001b[0m default \u001b[38;5;241m=\u001b[39m \u001b[38;5;28;43mself\u001b[39;49m\u001b[38;5;241;43m.\u001b[39;49m\u001b[43mconverter\u001b[49m\u001b[38;5;241;43m.\u001b[39;49m\u001b[43mdefault_units\u001b[49m\u001b[43m(\u001b[49m\u001b[43mdata\u001b[49m\u001b[43m,\u001b[49m\u001b[43m \u001b[49m\u001b[38;5;28;43mself\u001b[39;49m\u001b[43m)\u001b[49m\n\u001b[1;32m   1609\u001b[0m \u001b[38;5;28;01mif\u001b[39;00m default \u001b[38;5;129;01mis\u001b[39;00m \u001b[38;5;129;01mnot\u001b[39;00m \u001b[38;5;28;01mNone\u001b[39;00m \u001b[38;5;129;01mand\u001b[39;00m \u001b[38;5;28mself\u001b[39m\u001b[38;5;241m.\u001b[39munits \u001b[38;5;129;01mis\u001b[39;00m \u001b[38;5;28;01mNone\u001b[39;00m:\n\u001b[1;32m   1610\u001b[0m     \u001b[38;5;28mself\u001b[39m\u001b[38;5;241m.\u001b[39mset_units(default)\n",
      "File \u001b[0;32m/Library/Frameworks/Python.framework/Versions/3.9/lib/python3.9/site-packages/matplotlib/category.py:116\u001b[0m, in \u001b[0;36mStrCategoryConverter.default_units\u001b[0;34m(data, axis)\u001b[0m\n\u001b[1;32m    114\u001b[0m \u001b[38;5;66;03m# the conversion call stack is default_units -> axis_info -> convert\u001b[39;00m\n\u001b[1;32m    115\u001b[0m \u001b[38;5;28;01mif\u001b[39;00m axis\u001b[38;5;241m.\u001b[39munits \u001b[38;5;129;01mis\u001b[39;00m \u001b[38;5;28;01mNone\u001b[39;00m:\n\u001b[0;32m--> 116\u001b[0m     axis\u001b[38;5;241m.\u001b[39mset_units(\u001b[43mUnitData\u001b[49m\u001b[43m(\u001b[49m\u001b[43mdata\u001b[49m\u001b[43m)\u001b[49m)\n\u001b[1;32m    117\u001b[0m \u001b[38;5;28;01melse\u001b[39;00m:\n\u001b[1;32m    118\u001b[0m     axis\u001b[38;5;241m.\u001b[39munits\u001b[38;5;241m.\u001b[39mupdate(data)\n",
      "File \u001b[0;32m/Library/Frameworks/Python.framework/Versions/3.9/lib/python3.9/site-packages/matplotlib/category.py:192\u001b[0m, in \u001b[0;36mUnitData.__init__\u001b[0;34m(self, data)\u001b[0m\n\u001b[1;32m    190\u001b[0m \u001b[38;5;28mself\u001b[39m\u001b[38;5;241m.\u001b[39m_counter \u001b[38;5;241m=\u001b[39m itertools\u001b[38;5;241m.\u001b[39mcount()\n\u001b[1;32m    191\u001b[0m \u001b[38;5;28;01mif\u001b[39;00m data \u001b[38;5;129;01mis\u001b[39;00m \u001b[38;5;129;01mnot\u001b[39;00m \u001b[38;5;28;01mNone\u001b[39;00m:\n\u001b[0;32m--> 192\u001b[0m     \u001b[38;5;28;43mself\u001b[39;49m\u001b[38;5;241;43m.\u001b[39;49m\u001b[43mupdate\u001b[49m\u001b[43m(\u001b[49m\u001b[43mdata\u001b[49m\u001b[43m)\u001b[49m\n",
      "File \u001b[0;32m/Library/Frameworks/Python.framework/Versions/3.9/lib/python3.9/site-packages/matplotlib/category.py:227\u001b[0m, in \u001b[0;36mUnitData.update\u001b[0;34m(self, data)\u001b[0m\n\u001b[1;32m    224\u001b[0m convertible \u001b[38;5;241m=\u001b[39m \u001b[38;5;28;01mTrue\u001b[39;00m\n\u001b[1;32m    225\u001b[0m \u001b[38;5;28;01mfor\u001b[39;00m val \u001b[38;5;129;01min\u001b[39;00m OrderedDict\u001b[38;5;241m.\u001b[39mfromkeys(data):\n\u001b[1;32m    226\u001b[0m     \u001b[38;5;66;03m# OrderedDict just iterates over unique values in data.\u001b[39;00m\n\u001b[0;32m--> 227\u001b[0m     \u001b[43m_api\u001b[49m\u001b[38;5;241;43m.\u001b[39;49m\u001b[43mcheck_isinstance\u001b[49m\u001b[43m(\u001b[49m\u001b[43m(\u001b[49m\u001b[38;5;28;43mstr\u001b[39;49m\u001b[43m,\u001b[49m\u001b[43m \u001b[49m\u001b[38;5;28;43mbytes\u001b[39;49m\u001b[43m)\u001b[49m\u001b[43m,\u001b[49m\u001b[43m \u001b[49m\u001b[43mvalue\u001b[49m\u001b[38;5;241;43m=\u001b[39;49m\u001b[43mval\u001b[49m\u001b[43m)\u001b[49m\n\u001b[1;32m    228\u001b[0m     \u001b[38;5;28;01mif\u001b[39;00m convertible:\n\u001b[1;32m    229\u001b[0m         \u001b[38;5;66;03m# this will only be called so long as convertible is True.\u001b[39;00m\n\u001b[1;32m    230\u001b[0m         convertible \u001b[38;5;241m=\u001b[39m \u001b[38;5;28mself\u001b[39m\u001b[38;5;241m.\u001b[39m_str_is_convertible(val)\n",
      "File \u001b[0;32m/Library/Frameworks/Python.framework/Versions/3.9/lib/python3.9/site-packages/matplotlib/_api/__init__.py:93\u001b[0m, in \u001b[0;36mcheck_isinstance\u001b[0;34m(_types, **kwargs)\u001b[0m\n\u001b[1;32m     91\u001b[0m     names\u001b[38;5;241m.\u001b[39mremove(\u001b[38;5;124m\"\u001b[39m\u001b[38;5;124mNone\u001b[39m\u001b[38;5;124m\"\u001b[39m)\n\u001b[1;32m     92\u001b[0m     names\u001b[38;5;241m.\u001b[39mappend(\u001b[38;5;124m\"\u001b[39m\u001b[38;5;124mNone\u001b[39m\u001b[38;5;124m\"\u001b[39m)\n\u001b[0;32m---> 93\u001b[0m \u001b[38;5;28;01mraise\u001b[39;00m \u001b[38;5;167;01mTypeError\u001b[39;00m(\n\u001b[1;32m     94\u001b[0m     \u001b[38;5;124m\"\u001b[39m\u001b[38;5;132;01m{!r}\u001b[39;00m\u001b[38;5;124m must be an instance of \u001b[39m\u001b[38;5;132;01m{}\u001b[39;00m\u001b[38;5;124m, not a \u001b[39m\u001b[38;5;132;01m{}\u001b[39;00m\u001b[38;5;124m\"\u001b[39m\u001b[38;5;241m.\u001b[39mformat(\n\u001b[1;32m     95\u001b[0m         k,\n\u001b[1;32m     96\u001b[0m         \u001b[38;5;124m\"\u001b[39m\u001b[38;5;124m, \u001b[39m\u001b[38;5;124m\"\u001b[39m\u001b[38;5;241m.\u001b[39mjoin(names[:\u001b[38;5;241m-\u001b[39m\u001b[38;5;241m1\u001b[39m]) \u001b[38;5;241m+\u001b[39m \u001b[38;5;124m\"\u001b[39m\u001b[38;5;124m or \u001b[39m\u001b[38;5;124m\"\u001b[39m \u001b[38;5;241m+\u001b[39m names[\u001b[38;5;241m-\u001b[39m\u001b[38;5;241m1\u001b[39m]\n\u001b[1;32m     97\u001b[0m         \u001b[38;5;28;01mif\u001b[39;00m \u001b[38;5;28mlen\u001b[39m(names) \u001b[38;5;241m>\u001b[39m \u001b[38;5;241m1\u001b[39m \u001b[38;5;28;01melse\u001b[39;00m names[\u001b[38;5;241m0\u001b[39m],\n\u001b[1;32m     98\u001b[0m         type_name(\u001b[38;5;28mtype\u001b[39m(v))))\n",
      "\u001b[0;31mTypeError\u001b[0m: 'value' must be an instance of str or bytes, not a float"
     ]
    },
    {
     "data": {
      "image/png": "[encoded data removed]",
      "text/plain": [
       "<Figure size 640x480 with 1 Axes>"
      ]
     },
     "metadata": {},
     "output_type": "display_data"
    }
   ],
   "source": [
    "# Drop the rows where there is no age of dementia diagnosis \n",
    "df_temp = df_meta[df_meta[\"Age of Dementia diagnosis\"] != 0]\n",
    "df_temp.plot.scatter(x=\"Years of education\", y=\"Age of Dementia diagnosis\")"
   ]
  },
  {
   "cell_type": "markdown",
   "metadata": {},
   "source": [
    "This exploratory plot suggests that, in this dataset, there does not appear to be a correlation with years of education and the age of dementia diagnosis. We have to take this with a grain of salt because a large amount of the data had to be dropped because there was no age of diagnosis recorded. However, this is definitely something worth exploring more because it plays into our question regarding the correlations between education and dementia diagnosis. "
   ]
  },
  {
   "cell_type": "markdown",
   "metadata": {},
   "source": [
    "***"
   ]
  },
  {
   "cell_type": "markdown",
   "metadata": {},
   "source": [
    "<a id='model'></a>\n",
    "## Data Analysis and Modeling"
   ]
  },
  {
   "cell_type": "markdown",
   "metadata": {},
   "source": [
    "Our initial hope when beginning this project was to see if there were correlations between gender, socioeconomic status, level of education, and the onset of Alzheimer’s or other dementias. Through our EDA, we have seen that without massive amounts of data, it may be difficult to build a predictive model since each human is so variable. However, by exploring the strongest correlations and combining them, we still hope to be able to build a working model.\n",
    "\n",
    "Here are a few ideas:\n",
    "\n",
    "- We plan to use the gender and levels of education to predict the likelihood of developing dementia.\n",
    "- We want to test if there is a statistically significant correlation between age and the onset of Alzheimer’s or other forms of dementias for males and for females. "
   ]
  },
  {
   "cell_type": "markdown",
   "metadata": {},
   "source": [
    "## DRFAT MODELING HERE"
   ]
  },
  {
   "cell_type": "markdown",
   "metadata": {},
   "source": [
    "Ideas: \n",
    "- Dataframe with gender, cognitive status, and education\n",
    "\n",
    "- MMSE Score - look at the converted individuals to see where their mmse started and if a change in mmse is likely to affect them to become demented."
   ]
  },
  {
   "cell_type": "code",
   "execution_count": null,
   "metadata": {
    "scrolled": true
   },
   "outputs": [],
   "source": [
    "df_alhz_cross.head()"
   ]
  },
  {
   "cell_type": "code",
   "execution_count": 48,
   "metadata": {},
   "outputs": [],
   "source": [
    "# Connecting the datasets\n",
    "\n",
    "# Creating a cog status num for df_long1\n",
    "df_long1['cog_status_num'] = df_alhz_long['Group'].map({\n",
    "    'Nondemented': 0,\n",
    "    'Converted': 1,\n",
    "    'Demented': 1\n",
    "})\n",
    "\n",
    "# Creating temporary DFs with just the variables we want to look at\n",
    "cols = ['Subject ID', 'cog_status_num', 'M/F','Age', 'EDUC', 'SES', 'MMSE', 'CDR', 'eTIV', \n",
    "                    'nWBV', 'ASF']\n",
    "temp_long = df_long1[cols]\n",
    "cols = ['ID', 'cog_status_num', 'M/F', 'Age', 'Educ', 'SES', 'CDR', 'eTIV', \n",
    "                    'nWBV', 'ASF']\n",
    "temp_cross = df_alhz_cross[cols]\n",
    "cols = ['Donor ID', 'cog_status_num', 'Sex', 'Age of onset cognitive symptoms', 'Brain pH', 'Last MMSE Score', 'Highest level of education', 'Years of education']\n",
    "temp_meta = df_meta[cols]"
   ]
  },
  {
   "cell_type": "code",
   "execution_count": 49,
   "metadata": {},
   "outputs": [],
   "source": [
    "# Rename the column names to be consistent\n",
    "# Note: EDUC_Y = Years of education, EDUC_L = level of education\n",
    "temp_long.rename(columns = {'Subject ID':'ID',\n",
    "                           'M/F': 'Sex',\n",
    "                           'EDUC': 'EDUC_Y'}, inplace = True)\n",
    "temp_cross.rename(columns = {'M/F': 'Sex',\n",
    "                           'Educ': 'EDUC_L'}, inplace = True)\n",
    "temp_meta.rename(columns = {'Donor ID': 'ID',\n",
    "                           'Last MMSE Score': 'MMSE',\n",
    "                           'Highest level of education': 'EDUC_L',\n",
    "                           'Years of education': 'EDUC_Y'}, inplace = True)"
   ]
  },
  {
   "cell_type": "code",
   "execution_count": 50,
   "metadata": {},
   "outputs": [],
   "source": [
    "# Changing the columns to contain the same type\n",
    "temp_meta['Sex'] = temp_meta['Sex'].map({\n",
    "    'Male': 'M',\n",
    "    'Female': 'F'\n",
    "})"
   ]
  },
  {
   "cell_type": "code",
   "execution_count": 53,
   "metadata": {},
   "outputs": [
    {
     "data": {
      "text/html": [
       "<div>\n",
       "<style scoped>\n",
       "    .dataframe tbody tr th:only-of-type {\n",
       "        vertical-align: middle;\n",
       "    }\n",
       "\n",
       "    .dataframe tbody tr th {\n",
       "        vertical-align: top;\n",
       "    }\n",
       "\n",
       "    .dataframe thead th {\n",
       "        text-align: right;\n",
       "    }\n",
       "</style>\n",
       "<table border=\"1\" class=\"dataframe\">\n",
       "  <thead>\n",
       "    <tr style=\"text-align: right;\">\n",
       "      <th></th>\n",
       "      <th>ID</th>\n",
       "      <th>cog_status_num</th>\n",
       "      <th>Sex</th>\n",
       "      <th>Age</th>\n",
       "      <th>EDUC_Y</th>\n",
       "      <th>SES</th>\n",
       "      <th>MMSE</th>\n",
       "      <th>CDR</th>\n",
       "      <th>eTIV</th>\n",
       "      <th>nWBV</th>\n",
       "      <th>ASF</th>\n",
       "      <th>EDUC_L</th>\n",
       "      <th>Age of onset cognitive symptoms</th>\n",
       "      <th>Brain pH</th>\n",
       "      <th>Sex_binary</th>\n",
       "    </tr>\n",
       "  </thead>\n",
       "  <tbody>\n",
       "    <tr>\n",
       "      <th>0</th>\n",
       "      <td>OAS2_0001</td>\n",
       "      <td>0.0</td>\n",
       "      <td>M</td>\n",
       "      <td>87.0</td>\n",
       "      <td>14.0</td>\n",
       "      <td>2.0</td>\n",
       "      <td>27.0</td>\n",
       "      <td>0.0</td>\n",
       "      <td>1987.0</td>\n",
       "      <td>0.696</td>\n",
       "      <td>0.883</td>\n",
       "      <td>NaN</td>\n",
       "      <td>NaN</td>\n",
       "      <td>NaN</td>\n",
       "      <td>1</td>\n",
       "    </tr>\n",
       "    <tr>\n",
       "      <th>2</th>\n",
       "      <td>OAS2_0002</td>\n",
       "      <td>1.0</td>\n",
       "      <td>M</td>\n",
       "      <td>75.0</td>\n",
       "      <td>12.0</td>\n",
       "      <td>NaN</td>\n",
       "      <td>23.0</td>\n",
       "      <td>0.5</td>\n",
       "      <td>1678.0</td>\n",
       "      <td>0.736</td>\n",
       "      <td>1.046</td>\n",
       "      <td>NaN</td>\n",
       "      <td>NaN</td>\n",
       "      <td>NaN</td>\n",
       "      <td>1</td>\n",
       "    </tr>\n",
       "    <tr>\n",
       "      <th>5</th>\n",
       "      <td>OAS2_0004</td>\n",
       "      <td>0.0</td>\n",
       "      <td>F</td>\n",
       "      <td>88.0</td>\n",
       "      <td>18.0</td>\n",
       "      <td>3.0</td>\n",
       "      <td>28.0</td>\n",
       "      <td>0.0</td>\n",
       "      <td>1215.0</td>\n",
       "      <td>0.710</td>\n",
       "      <td>1.444</td>\n",
       "      <td>NaN</td>\n",
       "      <td>NaN</td>\n",
       "      <td>NaN</td>\n",
       "      <td>0</td>\n",
       "    </tr>\n",
       "    <tr>\n",
       "      <th>7</th>\n",
       "      <td>OAS2_0005</td>\n",
       "      <td>0.0</td>\n",
       "      <td>M</td>\n",
       "      <td>80.0</td>\n",
       "      <td>12.0</td>\n",
       "      <td>4.0</td>\n",
       "      <td>28.0</td>\n",
       "      <td>0.0</td>\n",
       "      <td>1689.0</td>\n",
       "      <td>0.712</td>\n",
       "      <td>1.039</td>\n",
       "      <td>NaN</td>\n",
       "      <td>NaN</td>\n",
       "      <td>NaN</td>\n",
       "      <td>1</td>\n",
       "    </tr>\n",
       "    <tr>\n",
       "      <th>10</th>\n",
       "      <td>OAS2_0007</td>\n",
       "      <td>1.0</td>\n",
       "      <td>M</td>\n",
       "      <td>71.0</td>\n",
       "      <td>16.0</td>\n",
       "      <td>NaN</td>\n",
       "      <td>28.0</td>\n",
       "      <td>0.5</td>\n",
       "      <td>1357.0</td>\n",
       "      <td>0.748</td>\n",
       "      <td>1.293</td>\n",
       "      <td>NaN</td>\n",
       "      <td>NaN</td>\n",
       "      <td>NaN</td>\n",
       "      <td>1</td>\n",
       "    </tr>\n",
       "    <tr>\n",
       "      <th>...</th>\n",
       "      <td>...</td>\n",
       "      <td>...</td>\n",
       "      <td>...</td>\n",
       "      <td>...</td>\n",
       "      <td>...</td>\n",
       "      <td>...</td>\n",
       "      <td>...</td>\n",
       "      <td>...</td>\n",
       "      <td>...</td>\n",
       "      <td>...</td>\n",
       "      <td>...</td>\n",
       "      <td>...</td>\n",
       "      <td>...</td>\n",
       "      <td>...</td>\n",
       "      <td>...</td>\n",
       "    </tr>\n",
       "    <tr>\n",
       "      <th>79</th>\n",
       "      <td>H21.33.043</td>\n",
       "      <td>1.0</td>\n",
       "      <td>F</td>\n",
       "      <td>NaN</td>\n",
       "      <td>16.0</td>\n",
       "      <td>NaN</td>\n",
       "      <td>29.0</td>\n",
       "      <td>NaN</td>\n",
       "      <td>NaN</td>\n",
       "      <td>NaN</td>\n",
       "      <td>NaN</td>\n",
       "      <td>Bachelors</td>\n",
       "      <td>90+</td>\n",
       "      <td>6.6</td>\n",
       "      <td>0</td>\n",
       "    </tr>\n",
       "    <tr>\n",
       "      <th>80</th>\n",
       "      <td>H21.33.044</td>\n",
       "      <td>1.0</td>\n",
       "      <td>F</td>\n",
       "      <td>NaN</td>\n",
       "      <td>15.0</td>\n",
       "      <td>NaN</td>\n",
       "      <td>21.0</td>\n",
       "      <td>NaN</td>\n",
       "      <td>NaN</td>\n",
       "      <td>NaN</td>\n",
       "      <td>NaN</td>\n",
       "      <td>Trade School/ Tech School</td>\n",
       "      <td>87</td>\n",
       "      <td>6.6</td>\n",
       "      <td>0</td>\n",
       "    </tr>\n",
       "    <tr>\n",
       "      <th>81</th>\n",
       "      <td>H21.33.045</td>\n",
       "      <td>1.0</td>\n",
       "      <td>F</td>\n",
       "      <td>NaN</td>\n",
       "      <td>12.0</td>\n",
       "      <td>NaN</td>\n",
       "      <td>17.0</td>\n",
       "      <td>NaN</td>\n",
       "      <td>NaN</td>\n",
       "      <td>NaN</td>\n",
       "      <td>NaN</td>\n",
       "      <td>High School</td>\n",
       "      <td>78</td>\n",
       "      <td>7.2</td>\n",
       "      <td>0</td>\n",
       "    </tr>\n",
       "    <tr>\n",
       "      <th>82</th>\n",
       "      <td>H21.33.046</td>\n",
       "      <td>1.0</td>\n",
       "      <td>M</td>\n",
       "      <td>NaN</td>\n",
       "      <td>17.0</td>\n",
       "      <td>NaN</td>\n",
       "      <td>22.0</td>\n",
       "      <td>NaN</td>\n",
       "      <td>NaN</td>\n",
       "      <td>NaN</td>\n",
       "      <td>NaN</td>\n",
       "      <td>Professional</td>\n",
       "      <td>90+</td>\n",
       "      <td>6.4</td>\n",
       "      <td>1</td>\n",
       "    </tr>\n",
       "    <tr>\n",
       "      <th>83</th>\n",
       "      <td>H21.33.047</td>\n",
       "      <td>0.0</td>\n",
       "      <td>M</td>\n",
       "      <td>NaN</td>\n",
       "      <td>21.0</td>\n",
       "      <td>NaN</td>\n",
       "      <td>26.0</td>\n",
       "      <td>NaN</td>\n",
       "      <td>NaN</td>\n",
       "      <td>NaN</td>\n",
       "      <td>NaN</td>\n",
       "      <td>Professional</td>\n",
       "      <td>NaN</td>\n",
       "      <td>7.2</td>\n",
       "      <td>1</td>\n",
       "    </tr>\n",
       "  </tbody>\n",
       "</table>\n",
       "<p>670 rows × 15 columns</p>\n",
       "</div>"
      ],
      "text/plain": [
       "            ID  cog_status_num Sex   Age  EDUC_Y  SES  MMSE  CDR    eTIV  \\\n",
       "0    OAS2_0001             0.0   M  87.0    14.0  2.0  27.0  0.0  1987.0   \n",
       "2    OAS2_0002             1.0   M  75.0    12.0  NaN  23.0  0.5  1678.0   \n",
       "5    OAS2_0004             0.0   F  88.0    18.0  3.0  28.0  0.0  1215.0   \n",
       "7    OAS2_0005             0.0   M  80.0    12.0  4.0  28.0  0.0  1689.0   \n",
       "10   OAS2_0007             1.0   M  71.0    16.0  NaN  28.0  0.5  1357.0   \n",
       "..         ...             ...  ..   ...     ...  ...   ...  ...     ...   \n",
       "79  H21.33.043             1.0   F   NaN    16.0  NaN  29.0  NaN     NaN   \n",
       "80  H21.33.044             1.0   F   NaN    15.0  NaN  21.0  NaN     NaN   \n",
       "81  H21.33.045             1.0   F   NaN    12.0  NaN  17.0  NaN     NaN   \n",
       "82  H21.33.046             1.0   M   NaN    17.0  NaN  22.0  NaN     NaN   \n",
       "83  H21.33.047             0.0   M   NaN    21.0  NaN  26.0  NaN     NaN   \n",
       "\n",
       "     nWBV    ASF                     EDUC_L Age of onset cognitive symptoms  \\\n",
       "0   0.696  0.883                        NaN                             NaN   \n",
       "2   0.736  1.046                        NaN                             NaN   \n",
       "5   0.710  1.444                        NaN                             NaN   \n",
       "7   0.712  1.039                        NaN                             NaN   \n",
       "10  0.748  1.293                        NaN                             NaN   \n",
       "..    ...    ...                        ...                             ...   \n",
       "79    NaN    NaN                  Bachelors                             90+   \n",
       "80    NaN    NaN  Trade School/ Tech School                              87   \n",
       "81    NaN    NaN                High School                              78   \n",
       "82    NaN    NaN               Professional                             90+   \n",
       "83    NaN    NaN               Professional                             NaN   \n",
       "\n",
       "    Brain pH  Sex_binary  \n",
       "0        NaN           1  \n",
       "2        NaN           1  \n",
       "5        NaN           0  \n",
       "7        NaN           1  \n",
       "10       NaN           1  \n",
       "..       ...         ...  \n",
       "79       6.6           0  \n",
       "80       6.6           0  \n",
       "81       7.2           0  \n",
       "82       6.4           1  \n",
       "83       7.2           1  \n",
       "\n",
       "[670 rows x 15 columns]"
      ]
     },
     "execution_count": 53,
     "metadata": {},
     "output_type": "execute_result"
    }
   ],
   "source": [
    "# now append all of them.  rename() \n",
    "alz_model_df = temp_long.append(temp_cross)\n",
    "alz_model_df = alz_model_df.append(temp_meta)\n",
    "alz_model_df['Sex_binary'] = alz_model_df['Sex'].map({\n",
    "    'M': 1,\n",
    "    'F': 0\n",
    "})\n",
    "alz_model_df"
   ]
  },
  {
   "cell_type": "code",
   "execution_count": null,
   "metadata": {},
   "outputs": [],
   "source": [
    "# downloading this dataframe to take a closer look at what is going on\n",
    "#alz_model_df.to_csv('model.csv')"
   ]
  },
  {
   "cell_type": "code",
   "execution_count": 63,
   "metadata": {},
   "outputs": [
    {
     "name": "stdout",
     "output_type": "stream",
     "text": [
      "     Sex_binary  EDUC_Y  SES  MMSE    eTIV    nWBV     ASF  Brain pH\n",
      "0           1.0    14.0  2.0  27.0  1987.0  0.6960  0.8830       6.8\n",
      "1           1.0    12.0  2.0  23.0  1678.0  0.7360  1.0460       7.0\n",
      "2           0.0    18.0  3.0  28.0  1215.0  0.7100  1.4440       6.6\n",
      "3           1.0    12.0  4.0  28.0  1689.0  0.7120  1.0390       6.8\n",
      "4           1.0    16.0  2.0  28.0  1357.0  0.7480  1.2930       6.6\n",
      "..          ...     ...  ...   ...     ...     ...     ...       ...\n",
      "464         0.0    16.0  1.5  29.0  1399.5  0.7255  1.2565       6.6\n",
      "465         0.0    15.0  2.0  21.0  1245.5  0.7765  1.4185       6.6\n",
      "466         0.0    12.0  2.0  17.0  1245.5  0.7765  1.4185       7.2\n",
      "467         1.0    17.0  3.0  22.0  1687.0  0.7040  1.0415       6.4\n",
      "468         1.0    21.0  3.0  26.0  1687.0  0.7040  1.0415       7.2\n",
      "\n",
      "[469 rows x 8 columns]\n"
     ]
    },
    {
     "data": {
      "text/html": [
       "<style>#sk-container-id-1 {color: black;background-color: white;}#sk-container-id-1 pre{padding: 0;}#sk-container-id-1 div.sk-toggleable {background-color: white;}#sk-container-id-1 label.sk-toggleable__label {cursor: pointer;display: block;width: 100%;margin-bottom: 0;padding: 0.3em;box-sizing: border-box;text-align: center;}#sk-container-id-1 label.sk-toggleable__label-arrow:before {content: \"▸\";float: left;margin-right: 0.25em;color: #696969;}#sk-container-id-1 label.sk-toggleable__label-arrow:hover:before {color: black;}#sk-container-id-1 div.sk-estimator:hover label.sk-toggleable__label-arrow:before {color: black;}#sk-container-id-1 div.sk-toggleable__content {max-height: 0;max-width: 0;overflow: hidden;text-align: left;background-color: #f0f8ff;}#sk-container-id-1 div.sk-toggleable__content pre {margin: 0.2em;color: black;border-radius: 0.25em;background-color: #f0f8ff;}#sk-container-id-1 input.sk-toggleable__control:checked~div.sk-toggleable__content {max-height: 200px;max-width: 100%;overflow: auto;}#sk-container-id-1 input.sk-toggleable__control:checked~label.sk-toggleable__label-arrow:before {content: \"▾\";}#sk-container-id-1 div.sk-estimator input.sk-toggleable__control:checked~label.sk-toggleable__label {background-color: #d4ebff;}#sk-container-id-1 div.sk-label input.sk-toggleable__control:checked~label.sk-toggleable__label {background-color: #d4ebff;}#sk-container-id-1 input.sk-hidden--visually {border: 0;clip: rect(1px 1px 1px 1px);clip: rect(1px, 1px, 1px, 1px);height: 1px;margin: -1px;overflow: hidden;padding: 0;position: absolute;width: 1px;}#sk-container-id-1 div.sk-estimator {font-family: monospace;background-color: #f0f8ff;border: 1px dotted black;border-radius: 0.25em;box-sizing: border-box;margin-bottom: 0.5em;}#sk-container-id-1 div.sk-estimator:hover {background-color: #d4ebff;}#sk-container-id-1 div.sk-parallel-item::after {content: \"\";width: 100%;border-bottom: 1px solid gray;flex-grow: 1;}#sk-container-id-1 div.sk-label:hover label.sk-toggleable__label {background-color: #d4ebff;}#sk-container-id-1 div.sk-serial::before {content: \"\";position: absolute;border-left: 1px solid gray;box-sizing: border-box;top: 0;bottom: 0;left: 50%;z-index: 0;}#sk-container-id-1 div.sk-serial {display: flex;flex-direction: column;align-items: center;background-color: white;padding-right: 0.2em;padding-left: 0.2em;position: relative;}#sk-container-id-1 div.sk-item {position: relative;z-index: 1;}#sk-container-id-1 div.sk-parallel {display: flex;align-items: stretch;justify-content: center;background-color: white;position: relative;}#sk-container-id-1 div.sk-item::before, #sk-container-id-1 div.sk-parallel-item::before {content: \"\";position: absolute;border-left: 1px solid gray;box-sizing: border-box;top: 0;bottom: 0;left: 50%;z-index: -1;}#sk-container-id-1 div.sk-parallel-item {display: flex;flex-direction: column;z-index: 1;position: relative;background-color: white;}#sk-container-id-1 div.sk-parallel-item:first-child::after {align-self: flex-end;width: 50%;}#sk-container-id-1 div.sk-parallel-item:last-child::after {align-self: flex-start;width: 50%;}#sk-container-id-1 div.sk-parallel-item:only-child::after {width: 0;}#sk-container-id-1 div.sk-dashed-wrapped {border: 1px dashed gray;margin: 0 0.4em 0.5em 0.4em;box-sizing: border-box;padding-bottom: 0.4em;background-color: white;}#sk-container-id-1 div.sk-label label {font-family: monospace;font-weight: bold;display: inline-block;line-height: 1.2em;}#sk-container-id-1 div.sk-label-container {text-align: center;}#sk-container-id-1 div.sk-container {/* jupyter's `normalize.less` sets `[hidden] { display: none; }` but bootstrap.min.css set `[hidden] { display: none !important; }` so we also need the `!important` here to be able to override the default hidden behavior on the sphinx rendered scikit-learn.org. See: https://github.com/scikit-learn/scikit-learn/issues/21755 */display: inline-block !important;position: relative;}#sk-container-id-1 div.sk-text-repr-fallback {display: none;}</style><div id=\"sk-container-id-1\" class=\"sk-top-container\"><div class=\"sk-text-repr-fallback\"><pre>KNeighborsClassifier(n_neighbors=9)</pre><b>In a Jupyter environment, please rerun this cell to show the HTML representation or trust the notebook. <br />On GitHub, the HTML representation is unable to render, please try loading this page with nbviewer.org.</b></div><div class=\"sk-container\" hidden><div class=\"sk-item\"><div class=\"sk-estimator sk-toggleable\"><input class=\"sk-toggleable__control sk-hidden--visually\" id=\"sk-estimator-id-1\" type=\"checkbox\" checked><label for=\"sk-estimator-id-1\" class=\"sk-toggleable__label sk-toggleable__label-arrow\">KNeighborsClassifier</label><div class=\"sk-toggleable__content\"><pre>KNeighborsClassifier(n_neighbors=9)</pre></div></div></div></div></div>"
      ],
      "text/plain": [
       "KNeighborsClassifier(n_neighbors=9)"
      ]
     },
     "execution_count": 63,
     "metadata": {},
     "output_type": "execute_result"
    }
   ],
   "source": [
    "from sklearn.preprocessing import StandardScaler\n",
    "from sklearn.neighbors import KNeighborsClassifier\n",
    "from sklearn.feature_extraction import DictVectorizer\n",
    "from sklearn.impute import KNNImputer\n",
    "\n",
    "# define features\n",
    "features = [\"Sex_binary\", \"EDUC_Y\", \"SES\", \"MMSE\", \"eTIV\", \"nWBV\", \"ASF\", \"Brain pH\"]\n",
    "\n",
    "# Imputation (eventually change this to multiple-imputation but for now just imputing the nearest neighbor's val.)\n",
    "nan = np.nan\n",
    "X = alz_model_df[features]\n",
    "imputer = KNNImputer(n_neighbors=2, weights=\"uniform\")\n",
    "X = imputer.fit_transform(X)\n",
    "df_X = pd.DataFrame(X, columns = features)\n",
    "print(df_X)\n",
    "\n",
    "# Drop rows whee the cog_status_num is unknown since that is what we are predicting.\n",
    "#alz_model_df.dropna(subset=['cog_status_num'], inplace=True)\n",
    "\n",
    "# define training data\n",
    "#X_train_dict = dict(enumerate(X.flatten(), 1))\n",
    "X_train_dict = df_X.to_dict(orient=\"records\")\n",
    "y_train = alz_model_df[\"cog_status_num\"]\n",
    "\n",
    "# Dummy encoding\n",
    "vec = DictVectorizer(sparse=False)\n",
    "vec.fit(X_train_dict)\n",
    "X_train = vec.transform(X_train_dict)\n",
    "#X_new = vec.transform(X_new_dict)\n",
    "\n",
    "# standardize the data\n",
    "scaler = StandardScaler()\n",
    "scaler.fit(X_train)\n",
    "X_train_sc = scaler.transform(X_train)\n",
    "\n",
    "# fit the 9-nearest neighbors model\n",
    "model = KNeighborsClassifier(n_neighbors=9)\n",
    "model.fit(X_train_sc, y_train)\n",
    "\n",
    "# define the test data (Scikit-Learn expects a matrix)\n",
    "#x_new = pd.DataFrame()\n",
    "#x_new[\"volatile acidity\"] = [0.85]\n",
    "#x_new[\"total sulfur dioxide\"] = [120]\n",
    "#x_new_sc = scaler.transform(x_new)\n",
    "\n",
    "# use the model to predict on the test data\n",
    "#model.predict(x_new_sc)"
   ]
  },
  {
   "cell_type": "code",
   "execution_count": null,
   "metadata": {},
   "outputs": [],
   "source": [
    "peek = ['Group', 'MMSE']\n",
    "df_long1[peek]"
   ]
  },
  {
   "cell_type": "markdown",
   "metadata": {},
   "source": [
    "<a id='final'></a>\n",
    "## Challenges and Final Thoughts\n"
   ]
  },
  {
   "cell_type": "markdown",
   "metadata": {},
   "source": [
    "<mark> We can move these thoughts up at the top under the \"Data Limitations\" section so that they are there before the reader goes through the entire notebook. We can then make this section more dedicated to our \"Insights\" - the last step in the Data Lifecycle"
   ]
  },
  {
   "cell_type": "markdown",
   "metadata": {},
   "source": [
    "#### Challenges with MRI Dataset: Comparisions Across Datasets\n",
    "1. ***Different Columns (Variables):*** The longitudinal data and cross-sectional data contained slightly different varibles from one another. For example, 'Group' only existed in one dataframe, so we had to map the Clinical Dementia Rating for each patient found in the cross-sectional data to their correpsonding group. \n",
    "2. ***'EDUC' Ambiguity:*** In the longitudinal data, the paper that was published alongside the dataset clearly states that Education Level means the number of years in formal education for that individual. However, in the cross-sectional data, the 'Educ' numbers are suspiciously low for being total years in formal education, education may be measured differently there. We must continue to dig into what the connection between these two variables may be.\n",
    "\n",
    "#### Challenges with Metadata Dataset:\n",
    "1. ***Relatively Small Sample Size:*** One of the biggest things we have taken out of our analysis of this dataset is that we have to be cautious how much weight we put on any conclusions from this dataset. Only 84 participants are included in this data. We really liked this source because there aren't a lot of sources available publicly that have information on education and gender as they relate to dementia. However, we do recognize that this is one downfall of this dataset. We hope that in our future work we will be able to mitigate this by working with both of our datasets, and if we decide it is necessary at that point, we will figure out another dataset to draw from. \n",
    "2. ***Lack of Knowledge in the Field:*** This dataset included a lot of test scores and other information that has the potential to be useful in our analyses. We did begin looking some of them up to get a better sense of what might be useful to use in the future, but since our previous EDA focused most on gender and education, we decided to stick to the columns relating to these for the time being. \n",
    "3. ***Missing Data*** One example of a piece of missing data is that for several of the age columns, the ages above 90 are grouped together whereas all the other ages are only representative of a singular year. This made it so that those columns were not integers which complicated our task of graphing and getting summary statistics. To deal with this, we changed those \"90+\" categories to all just be equal to 90, which might not be a long term solution but provided us with the ability to conduct our exploratory analyses.   "
   ]
  },
  {
   "cell_type": "markdown",
   "metadata": {},
   "source": [
    "***"
   ]
  },
  {
   "cell_type": "markdown",
   "metadata": {},
   "source": [
    "<a id='cite'></a>\n",
    "#### References\n",
    "\n",
    "Alzheimer’s disease and healthy aging indicators: Cognitive decline | Chronic disease and health promotion data & indicators. (n.d.).https://chronicdata.cdc.gov/Healthy-Aging/Alzheimer-s-Disease-and-Healthy-Aging-Indicators-C/jhd5-u276\n",
    "\n",
    "\n",
    "Daniel S. Marcus, Anthony F. Fotenos, John G. Csernansky, John C. Morris, Randy L. Buckner; Open Access Series of Imaging Studies: Longitudinal MRI Data in Nondemented and Demented Older Adults. J Cogn Neurosci 2010; 22 (12): 2677–2684. https://direct.mit.edu/jocn/article/22/12/2677/4983/Open-Access-Series-of-Imaging-Studies-Longitudinal\n",
    "\n",
    "Kavitha, C., Mani, V., Srividhya, S. R., Khalaf, O. I., & Tavera Romero, C. A. (2022). Early-stage alzheimer’s disease prediction using machine learning models. Frontiers in Public Health, 10. https://www.frontiersin.org/articles/10.3389/fpubh.2022.853294\n",
    "\n",
    "Marcus, D. S., Wang, T. H., Parker, J., Csernansky, J. G., Morris, J. C., & Buckner, R. L. (2007). Open access series of imaging studies (Oasis): Cross-sectional mri data in young, middle aged, nondemented, and demented older adults. Journal of Cognitive Neuroscience, 19(9), 1498–1507. https://doi.org/10.1162/jocn.2007.19.9.1498\n",
    "\n",
    "Mri and alzheimers. (n.d.). https://www.kaggle.com/datasets/jboysen/mri-and-alzheimers\n",
    "\n",
    "Seattle alzheimer's disease brain cell atlas: Donor metadata. https://portal.brain-map.org/explore/seattle-alzheimers-disease/seattle-alzheimers-disease-brain-cell-atlas-download?edit&language=en\n"
   ]
  },
  {
   "cell_type": "markdown",
   "metadata": {},
   "source": [
    "***"
   ]
  },
  {
   "cell_type": "markdown",
   "metadata": {},
   "source": [
    "[Back to Top](#top)"
   ]
  }
 ],
 "metadata": {
  "colab": {
   "provenance": []
  },
  "kernelspec": {
   "display_name": "Python 3 (ipykernel)",
   "language": "python",
   "name": "python3"
  },
  "language_info": {
   "codemirror_mode": {
    "name": "ipython",
    "version": 3
   },
   "file_extension": ".py",
   "mimetype": "text/x-python",
   "name": "python",
   "nbconvert_exporter": "python",
   "pygments_lexer": "ipython3",
   "version": "3.9.2"
  }
 },
 "nbformat": 4,
 "nbformat_minor": 1
}
