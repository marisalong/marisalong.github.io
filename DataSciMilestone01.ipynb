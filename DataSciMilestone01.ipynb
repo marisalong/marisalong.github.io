{
 "cells": [
  {
   "cell_type": "markdown",
   "metadata": {
    "id": "fJjiusiv_9w3"
   },
   "source": [
    "Group Members: Marisa Long and Anna Schoeny\n",
    "ADD LINK TO GITHUB\n",
    "## Topic: Alzheimer's Disease Datasets CHANGE NAME"
   ]
  },
  {
   "cell_type": "markdown",
   "metadata": {
    "id": "HVtXshpRBkan"
   },
   "source": [
    "First, some set up:\n",
    "NOTE: This only needs to be run if running this on google collab, not locally."
   ]
  },
  {
   "cell_type": "code",
   "execution_count": 12,
   "metadata": {
    "colab": {
     "base_uri": "https://localhost:8080/"
    },
    "id": "-FsyeX6bBJMt",
    "outputId": "525fdb74-76f5-4d32-ac84-5f1fb29e1747"
   },
   "outputs": [
    {
     "name": "stdout",
     "output_type": "stream",
     "text": [
      "Drive already mounted at /content/drive; to attempt to forcibly remount, call drive.mount(\"/content/drive\", force_remount=True).\n",
      "/content/drive/My Drive/cmps3160\n",
      "Already up to date.\n",
      "/content/drive/My Drive/cmps3160/_finaltutorial\n"
     ]
    }
   ],
   "source": [
    "# Mounting to drive and changing into our final tutorial folder\n",
    "from google.colab import drive\n",
    "drive.mount('/content/drive')\n",
    "%cd /content/drive/My Drive/cmps3160\n",
    "!git pull\n",
    "%cd _finaltutorial"
   ]
  },
  {
   "cell_type": "markdown",
   "metadata": {},
   "source": [
    "#### REMINDER: \n",
    "Make sure to **PULL** before working. Also, **PUSH** work when you do something meaningful!"
   ]
  },
  {
   "cell_type": "code",
   "execution_count": 4,
   "metadata": {},
   "outputs": [
    {
     "name": "stdout",
     "output_type": "stream",
     "text": [
      "/Users/marisamlong/Desktop/Tulane/cmps3160/_finaltutorial/marisalong.github.io\r\n"
     ]
    }
   ],
   "source": [
    "# this is just to double check that you are in the correct directory\n",
    "!pwd"
   ]
  },
  {
   "cell_type": "code",
   "execution_count": 31,
   "metadata": {
    "id": "5BESAGFRBWbI"
   },
   "outputs": [],
   "source": [
    "# importing necessary libraries for the analyzing the data\n",
    "import pandas as pd\n",
    "import matplotlib.pyplot as plt\n",
    "import numpy as np"
   ]
  },
  {
   "cell_type": "markdown",
   "metadata": {
    "id": "UwWbC29DArkQ"
   },
   "source": [
    "### Dataset 1: Alhzeimer's Disease and Healthy Aging \n",
    "Data from the CDC"
   ]
  },
  {
   "cell_type": "code",
   "execution_count": 35,
   "metadata": {
    "colab": {
     "base_uri": "https://localhost:8080/",
     "height": 688
    },
    "id": "hZ_TP6geAxhg",
    "outputId": "ed5c96a5-6cec-4fb6-c70d-01cf51db7d07",
    "scrolled": true
   },
   "outputs": [
    {
     "name": "stderr",
     "output_type": "stream",
     "text": [
      "/var/folders/yl/75wgtm7150z47_cyg623kjxh0000gn/T/ipykernel_54518/2759021523.py:2: DtypeWarning: Columns (17,18) have mixed types. Specify dtype option on import or set low_memory=False.\n",
      "  df_alhz_aging = pd.read_csv('./data/Alzheimer_s_Disease_and_Healthy_Aging_Data.csv')\n"
     ]
    },
    {
     "data": {
      "text/html": [
       "<div>\n",
       "<style scoped>\n",
       "    .dataframe tbody tr th:only-of-type {\n",
       "        vertical-align: middle;\n",
       "    }\n",
       "\n",
       "    .dataframe tbody tr th {\n",
       "        vertical-align: top;\n",
       "    }\n",
       "\n",
       "    .dataframe thead th {\n",
       "        text-align: right;\n",
       "    }\n",
       "</style>\n",
       "<table border=\"1\" class=\"dataframe\">\n",
       "  <thead>\n",
       "    <tr style=\"text-align: right;\">\n",
       "      <th></th>\n",
       "      <th>RowId</th>\n",
       "      <th>YearStart</th>\n",
       "      <th>YearEnd</th>\n",
       "      <th>LocationAbbr</th>\n",
       "      <th>LocationDesc</th>\n",
       "      <th>Datasource</th>\n",
       "      <th>Class</th>\n",
       "      <th>Topic</th>\n",
       "      <th>Question</th>\n",
       "      <th>Response</th>\n",
       "      <th>...</th>\n",
       "      <th>QuestionID</th>\n",
       "      <th>ResponseID</th>\n",
       "      <th>LocationID</th>\n",
       "      <th>StratificationCategoryID1</th>\n",
       "      <th>StratificationID1</th>\n",
       "      <th>StratificationCategoryID2</th>\n",
       "      <th>StratificationID2</th>\n",
       "      <th>StratificationCategoryID3</th>\n",
       "      <th>StratificationID3</th>\n",
       "      <th>Report</th>\n",
       "    </tr>\n",
       "  </thead>\n",
       "  <tbody>\n",
       "    <tr>\n",
       "      <th>0</th>\n",
       "      <td>NaN</td>\n",
       "      <td>2020</td>\n",
       "      <td>2020</td>\n",
       "      <td>HI</td>\n",
       "      <td>Hawaii</td>\n",
       "      <td>BRFSS</td>\n",
       "      <td>Overall Health</td>\n",
       "      <td>Arthritis among older adults</td>\n",
       "      <td>Percentage of older adults ever told they have...</td>\n",
       "      <td>NaN</td>\n",
       "      <td>...</td>\n",
       "      <td>Q43</td>\n",
       "      <td>NaN</td>\n",
       "      <td>15</td>\n",
       "      <td>AGE</td>\n",
       "      <td>5064</td>\n",
       "      <td>OVERALL</td>\n",
       "      <td>OVERALL</td>\n",
       "      <td>NaN</td>\n",
       "      <td>NaN</td>\n",
       "      <td>NaN</td>\n",
       "    </tr>\n",
       "    <tr>\n",
       "      <th>1</th>\n",
       "      <td>NaN</td>\n",
       "      <td>2017</td>\n",
       "      <td>2017</td>\n",
       "      <td>ID</td>\n",
       "      <td>Idaho</td>\n",
       "      <td>BRFSS</td>\n",
       "      <td>Mental Health</td>\n",
       "      <td>Lifetime diagnosis of depression</td>\n",
       "      <td>Percentage of older adults with a lifetime dia...</td>\n",
       "      <td>NaN</td>\n",
       "      <td>...</td>\n",
       "      <td>Q27</td>\n",
       "      <td>NaN</td>\n",
       "      <td>16</td>\n",
       "      <td>AGE</td>\n",
       "      <td>5064</td>\n",
       "      <td>OVERALL</td>\n",
       "      <td>OVERALL</td>\n",
       "      <td>NaN</td>\n",
       "      <td>NaN</td>\n",
       "      <td>NaN</td>\n",
       "    </tr>\n",
       "    <tr>\n",
       "      <th>2</th>\n",
       "      <td>NaN</td>\n",
       "      <td>2017</td>\n",
       "      <td>2017</td>\n",
       "      <td>ID</td>\n",
       "      <td>Idaho</td>\n",
       "      <td>BRFSS</td>\n",
       "      <td>Overall Health</td>\n",
       "      <td>Arthritis among older adults</td>\n",
       "      <td>Percentage of older adults ever told they have...</td>\n",
       "      <td>NaN</td>\n",
       "      <td>...</td>\n",
       "      <td>Q43</td>\n",
       "      <td>NaN</td>\n",
       "      <td>16</td>\n",
       "      <td>AGE</td>\n",
       "      <td>5064</td>\n",
       "      <td>OVERALL</td>\n",
       "      <td>OVERALL</td>\n",
       "      <td>NaN</td>\n",
       "      <td>NaN</td>\n",
       "      <td>NaN</td>\n",
       "    </tr>\n",
       "    <tr>\n",
       "      <th>3</th>\n",
       "      <td>NaN</td>\n",
       "      <td>2018</td>\n",
       "      <td>2018</td>\n",
       "      <td>ID</td>\n",
       "      <td>Idaho</td>\n",
       "      <td>BRFSS</td>\n",
       "      <td>Overall Health</td>\n",
       "      <td>Physically unhealthy days (mean number of days)</td>\n",
       "      <td>Physically unhealthy days (mean number of days...</td>\n",
       "      <td>NaN</td>\n",
       "      <td>...</td>\n",
       "      <td>Q08</td>\n",
       "      <td>NaN</td>\n",
       "      <td>16</td>\n",
       "      <td>AGE</td>\n",
       "      <td>5064</td>\n",
       "      <td>OVERALL</td>\n",
       "      <td>OVERALL</td>\n",
       "      <td>NaN</td>\n",
       "      <td>NaN</td>\n",
       "      <td>NaN</td>\n",
       "    </tr>\n",
       "    <tr>\n",
       "      <th>4</th>\n",
       "      <td>NaN</td>\n",
       "      <td>2020</td>\n",
       "      <td>2020</td>\n",
       "      <td>IN</td>\n",
       "      <td>Indiana</td>\n",
       "      <td>BRFSS</td>\n",
       "      <td>Mental Health</td>\n",
       "      <td>Lifetime diagnosis of depression</td>\n",
       "      <td>Percentage of older adults with a lifetime dia...</td>\n",
       "      <td>NaN</td>\n",
       "      <td>...</td>\n",
       "      <td>Q27</td>\n",
       "      <td>NaN</td>\n",
       "      <td>18</td>\n",
       "      <td>AGE</td>\n",
       "      <td>AGE_OVERALL</td>\n",
       "      <td>GENDER</td>\n",
       "      <td>MALE</td>\n",
       "      <td>NaN</td>\n",
       "      <td>NaN</td>\n",
       "      <td>NaN</td>\n",
       "    </tr>\n",
       "  </tbody>\n",
       "</table>\n",
       "<p>5 rows × 39 columns</p>\n",
       "</div>"
      ],
      "text/plain": [
       "   RowId  YearStart  YearEnd LocationAbbr LocationDesc Datasource  \\\n",
       "0    NaN       2020     2020           HI       Hawaii      BRFSS   \n",
       "1    NaN       2017     2017           ID        Idaho      BRFSS   \n",
       "2    NaN       2017     2017           ID        Idaho      BRFSS   \n",
       "3    NaN       2018     2018           ID        Idaho      BRFSS   \n",
       "4    NaN       2020     2020           IN      Indiana      BRFSS   \n",
       "\n",
       "            Class                                            Topic  \\\n",
       "0  Overall Health                     Arthritis among older adults   \n",
       "1   Mental Health                 Lifetime diagnosis of depression   \n",
       "2  Overall Health                     Arthritis among older adults   \n",
       "3  Overall Health  Physically unhealthy days (mean number of days)   \n",
       "4   Mental Health                 Lifetime diagnosis of depression   \n",
       "\n",
       "                                            Question  Response  ...  \\\n",
       "0  Percentage of older adults ever told they have...       NaN  ...   \n",
       "1  Percentage of older adults with a lifetime dia...       NaN  ...   \n",
       "2  Percentage of older adults ever told they have...       NaN  ...   \n",
       "3  Physically unhealthy days (mean number of days...       NaN  ...   \n",
       "4  Percentage of older adults with a lifetime dia...       NaN  ...   \n",
       "\n",
       "  QuestionID ResponseID LocationID  StratificationCategoryID1  \\\n",
       "0        Q43        NaN         15                        AGE   \n",
       "1        Q27        NaN         16                        AGE   \n",
       "2        Q43        NaN         16                        AGE   \n",
       "3        Q08        NaN         16                        AGE   \n",
       "4        Q27        NaN         18                        AGE   \n",
       "\n",
       "   StratificationID1 StratificationCategoryID2 StratificationID2  \\\n",
       "0               5064                   OVERALL           OVERALL   \n",
       "1               5064                   OVERALL           OVERALL   \n",
       "2               5064                   OVERALL           OVERALL   \n",
       "3               5064                   OVERALL           OVERALL   \n",
       "4        AGE_OVERALL                    GENDER              MALE   \n",
       "\n",
       "  StratificationCategoryID3  StratificationID3  Report  \n",
       "0                       NaN                NaN     NaN  \n",
       "1                       NaN                NaN     NaN  \n",
       "2                       NaN                NaN     NaN  \n",
       "3                       NaN                NaN     NaN  \n",
       "4                       NaN                NaN     NaN  \n",
       "\n",
       "[5 rows x 39 columns]"
      ]
     },
     "execution_count": 35,
     "metadata": {},
     "output_type": "execute_result"
    }
   ],
   "source": [
    "# Read in the data \n",
    "df_alhz_aging = pd.read_csv('./data/Alzheimer_s_Disease_and_Healthy_Aging_Data.csv')\n",
    "\n",
    "df_alhz_aging.head()"
   ]
  },
  {
   "cell_type": "code",
   "execution_count": 33,
   "metadata": {},
   "outputs": [],
   "source": [
    "# Cleaning column 18 to make all data types floats\n",
    "df_alhz_aging[\"High_Confidence_Limit\"] = df_alhz_aging[\"High_Confidence_Limit\"].replace('.', np.nan)\n",
    "df_alhz_aging[\"High_Confidence_Limit\"] = df_alhz_aging[\"High_Confidence_Limit\"].fillna(-1)\n",
    "df_alhz_aging[\"High_Confidence_Limit\"] = df_alhz_aging[\"High_Confidence_Limit\"].astype(float)\n",
    "df_alhz_aging[\"High_Confidence_Limit\"] = df_alhz_aging[\"High_Confidence_Limit\"].replace(-1, np.nan)\n",
    "\n",
    "# Cleaning column 17 to make all data types floats\n",
    "df_alhz_aging[\"Low_Confidence_Limit\"] = df_alhz_aging[\"Low_Confidence_Limit\"].replace('.', np.nan)\n",
    "df_alhz_aging[\"Low_Confidence_Limit\"] = df_alhz_aging[\"Low_Confidence_Limit\"].fillna(-1)\n",
    "df_alhz_aging[\"Low_Confidence_Limit\"] = df_alhz_aging[\"Low_Confidence_Limit\"].astype(float)\n",
    "df_alhz_aging[\"Low_Confidence_Limit\"] = df_alhz_aging[\"Low_Confidence_Limit\"].replace(-1, np.nan)\n"
   ]
  },
  {
   "cell_type": "code",
   "execution_count": 40,
   "metadata": {},
   "outputs": [
    {
     "data": {
      "text/plain": [
       "RowId                         float64\n",
       "YearStart                       int64\n",
       "YearEnd                         int64\n",
       "LocationAbbr                   object\n",
       "LocationDesc                   object\n",
       "Datasource                     object\n",
       "Class                          object\n",
       "Topic                          object\n",
       "Question                       object\n",
       "Response                      float64\n",
       "Data_Value_Unit                object\n",
       "DataValueTypeID                object\n",
       "Data_Value_Type                object\n",
       "Data_Value                    float64\n",
       "Data_Value_Alt                float64\n",
       "Data_Value_Footnote_Symbol     object\n",
       "Data_Value_Footnote            object\n",
       "Low_Confidence_Limit           object\n",
       "High_Confidence_Limit         float64\n",
       "Sample_Size                   float64\n",
       "StratificationCategory1        object\n",
       "Stratification1                object\n",
       "StratificationCategory2        object\n",
       "Stratification2                object\n",
       "StratificationCategory3       float64\n",
       "Stratification3               float64\n",
       "Geolocation                    object\n",
       "ClassID                        object\n",
       "TopicID                        object\n",
       "QuestionID                     object\n",
       "ResponseID                    float64\n",
       "LocationID                      int64\n",
       "StratificationCategoryID1      object\n",
       "StratificationID1              object\n",
       "StratificationCategoryID2      object\n",
       "StratificationID2              object\n",
       "StratificationCategoryID3     float64\n",
       "StratificationID3             float64\n",
       "Report                        float64\n",
       "dtype: object"
      ]
     },
     "execution_count": 40,
     "metadata": {},
     "output_type": "execute_result"
    }
   ],
   "source": [
    "df_alhz_aging.dtypes"
   ]
  },
  {
   "cell_type": "code",
   "execution_count": 8,
   "metadata": {},
   "outputs": [
    {
     "data": {
      "text/plain": [
       "<AxesSubplot: >"
      ]
     },
     "execution_count": 8,
     "metadata": {},
     "output_type": "execute_result"
    },
    {
     "data": {
      "image/png": "[encoded data removed]",
      "text/plain": [
       "<Figure size 640x480 with 1 Axes>"
      ]
     },
     "metadata": {},
     "output_type": "display_data"
    }
   ],
   "source": [
    "# Playing around with the data\n",
    "df_alhz_aging['LocationAbbr'].value_counts().plot.bar()"
   ]
  },
  {
   "cell_type": "markdown",
   "metadata": {
    "id": "U5GVlnvbA1DJ"
   },
   "source": [
    "### Dataset 2: MRI and Alzheimer's\n",
    "Data from OASIS project"
   ]
  },
  {
   "cell_type": "code",
   "execution_count": 4,
   "metadata": {
    "colab": {
     "base_uri": "https://localhost:8080/",
     "height": 204
    },
    "id": "uoLbuwCSFBtS",
    "outputId": "0b064005-0aba-4203-e8f7-437e095ff623"
   },
   "outputs": [
    {
     "data": {
      "text/html": [
       "<div>\n",
       "<style scoped>\n",
       "    .dataframe tbody tr th:only-of-type {\n",
       "        vertical-align: middle;\n",
       "    }\n",
       "\n",
       "    .dataframe tbody tr th {\n",
       "        vertical-align: top;\n",
       "    }\n",
       "\n",
       "    .dataframe thead th {\n",
       "        text-align: right;\n",
       "    }\n",
       "</style>\n",
       "<table border=\"1\" class=\"dataframe\">\n",
       "  <thead>\n",
       "    <tr style=\"text-align: right;\">\n",
       "      <th></th>\n",
       "      <th>Subject ID</th>\n",
       "      <th>MRI ID</th>\n",
       "      <th>Group</th>\n",
       "      <th>Visit</th>\n",
       "      <th>MR Delay</th>\n",
       "      <th>M/F</th>\n",
       "      <th>Hand</th>\n",
       "      <th>Age</th>\n",
       "      <th>EDUC</th>\n",
       "      <th>SES</th>\n",
       "      <th>MMSE</th>\n",
       "      <th>CDR</th>\n",
       "      <th>eTIV</th>\n",
       "      <th>nWBV</th>\n",
       "      <th>ASF</th>\n",
       "    </tr>\n",
       "  </thead>\n",
       "  <tbody>\n",
       "    <tr>\n",
       "      <th>0</th>\n",
       "      <td>OAS2_0001</td>\n",
       "      <td>OAS2_0001_MR1</td>\n",
       "      <td>Nondemented</td>\n",
       "      <td>1</td>\n",
       "      <td>0</td>\n",
       "      <td>M</td>\n",
       "      <td>R</td>\n",
       "      <td>87</td>\n",
       "      <td>14</td>\n",
       "      <td>2.0</td>\n",
       "      <td>27.0</td>\n",
       "      <td>0.0</td>\n",
       "      <td>1987</td>\n",
       "      <td>0.696</td>\n",
       "      <td>0.883</td>\n",
       "    </tr>\n",
       "    <tr>\n",
       "      <th>1</th>\n",
       "      <td>OAS2_0001</td>\n",
       "      <td>OAS2_0001_MR2</td>\n",
       "      <td>Nondemented</td>\n",
       "      <td>2</td>\n",
       "      <td>457</td>\n",
       "      <td>M</td>\n",
       "      <td>R</td>\n",
       "      <td>88</td>\n",
       "      <td>14</td>\n",
       "      <td>2.0</td>\n",
       "      <td>30.0</td>\n",
       "      <td>0.0</td>\n",
       "      <td>2004</td>\n",
       "      <td>0.681</td>\n",
       "      <td>0.876</td>\n",
       "    </tr>\n",
       "    <tr>\n",
       "      <th>2</th>\n",
       "      <td>OAS2_0002</td>\n",
       "      <td>OAS2_0002_MR1</td>\n",
       "      <td>Demented</td>\n",
       "      <td>1</td>\n",
       "      <td>0</td>\n",
       "      <td>M</td>\n",
       "      <td>R</td>\n",
       "      <td>75</td>\n",
       "      <td>12</td>\n",
       "      <td>NaN</td>\n",
       "      <td>23.0</td>\n",
       "      <td>0.5</td>\n",
       "      <td>1678</td>\n",
       "      <td>0.736</td>\n",
       "      <td>1.046</td>\n",
       "    </tr>\n",
       "    <tr>\n",
       "      <th>3</th>\n",
       "      <td>OAS2_0002</td>\n",
       "      <td>OAS2_0002_MR2</td>\n",
       "      <td>Demented</td>\n",
       "      <td>2</td>\n",
       "      <td>560</td>\n",
       "      <td>M</td>\n",
       "      <td>R</td>\n",
       "      <td>76</td>\n",
       "      <td>12</td>\n",
       "      <td>NaN</td>\n",
       "      <td>28.0</td>\n",
       "      <td>0.5</td>\n",
       "      <td>1738</td>\n",
       "      <td>0.713</td>\n",
       "      <td>1.010</td>\n",
       "    </tr>\n",
       "    <tr>\n",
       "      <th>4</th>\n",
       "      <td>OAS2_0002</td>\n",
       "      <td>OAS2_0002_MR3</td>\n",
       "      <td>Demented</td>\n",
       "      <td>3</td>\n",
       "      <td>1895</td>\n",
       "      <td>M</td>\n",
       "      <td>R</td>\n",
       "      <td>80</td>\n",
       "      <td>12</td>\n",
       "      <td>NaN</td>\n",
       "      <td>22.0</td>\n",
       "      <td>0.5</td>\n",
       "      <td>1698</td>\n",
       "      <td>0.701</td>\n",
       "      <td>1.034</td>\n",
       "    </tr>\n",
       "  </tbody>\n",
       "</table>\n",
       "</div>"
      ],
      "text/plain": [
       "  Subject ID         MRI ID        Group  Visit  MR Delay M/F Hand  Age  EDUC  \\\n",
       "0  OAS2_0001  OAS2_0001_MR1  Nondemented      1         0   M    R   87    14   \n",
       "1  OAS2_0001  OAS2_0001_MR2  Nondemented      2       457   M    R   88    14   \n",
       "2  OAS2_0002  OAS2_0002_MR1     Demented      1         0   M    R   75    12   \n",
       "3  OAS2_0002  OAS2_0002_MR2     Demented      2       560   M    R   76    12   \n",
       "4  OAS2_0002  OAS2_0002_MR3     Demented      3      1895   M    R   80    12   \n",
       "\n",
       "   SES  MMSE  CDR  eTIV   nWBV    ASF  \n",
       "0  2.0  27.0  0.0  1987  0.696  0.883  \n",
       "1  2.0  30.0  0.0  2004  0.681  0.876  \n",
       "2  NaN  23.0  0.5  1678  0.736  1.046  \n",
       "3  NaN  28.0  0.5  1738  0.713  1.010  \n",
       "4  NaN  22.0  0.5  1698  0.701  1.034  "
      ]
     },
     "execution_count": 4,
     "metadata": {},
     "output_type": "execute_result"
    }
   ],
   "source": [
    "# Read in the longitudinal data\n",
    "df_mri_alhz_long = pd.read_csv('./data/oasis_longitudinal.csv')\n",
    "df_mri_alhz_long.head()"
   ]
  },
  {
   "cell_type": "code",
   "execution_count": 5,
   "metadata": {
    "colab": {
     "base_uri": "https://localhost:8080/",
     "height": 204
    },
    "id": "e9z7jpsRG0d9",
    "outputId": "52d769a8-90bd-4aa2-a3e0-87d829eef9fa"
   },
   "outputs": [
    {
     "data": {
      "text/html": [
       "<div>\n",
       "<style scoped>\n",
       "    .dataframe tbody tr th:only-of-type {\n",
       "        vertical-align: middle;\n",
       "    }\n",
       "\n",
       "    .dataframe tbody tr th {\n",
       "        vertical-align: top;\n",
       "    }\n",
       "\n",
       "    .dataframe thead th {\n",
       "        text-align: right;\n",
       "    }\n",
       "</style>\n",
       "<table border=\"1\" class=\"dataframe\">\n",
       "  <thead>\n",
       "    <tr style=\"text-align: right;\">\n",
       "      <th></th>\n",
       "      <th>ID</th>\n",
       "      <th>M/F</th>\n",
       "      <th>Hand</th>\n",
       "      <th>Age</th>\n",
       "      <th>Educ</th>\n",
       "      <th>SES</th>\n",
       "      <th>MMSE</th>\n",
       "      <th>CDR</th>\n",
       "      <th>eTIV</th>\n",
       "      <th>nWBV</th>\n",
       "      <th>ASF</th>\n",
       "      <th>Delay</th>\n",
       "    </tr>\n",
       "  </thead>\n",
       "  <tbody>\n",
       "    <tr>\n",
       "      <th>0</th>\n",
       "      <td>OAS1_0001_MR1</td>\n",
       "      <td>F</td>\n",
       "      <td>R</td>\n",
       "      <td>74</td>\n",
       "      <td>2.0</td>\n",
       "      <td>3.0</td>\n",
       "      <td>29.0</td>\n",
       "      <td>0.0</td>\n",
       "      <td>1344</td>\n",
       "      <td>0.743</td>\n",
       "      <td>1.306</td>\n",
       "      <td>NaN</td>\n",
       "    </tr>\n",
       "    <tr>\n",
       "      <th>1</th>\n",
       "      <td>OAS1_0002_MR1</td>\n",
       "      <td>F</td>\n",
       "      <td>R</td>\n",
       "      <td>55</td>\n",
       "      <td>4.0</td>\n",
       "      <td>1.0</td>\n",
       "      <td>29.0</td>\n",
       "      <td>0.0</td>\n",
       "      <td>1147</td>\n",
       "      <td>0.810</td>\n",
       "      <td>1.531</td>\n",
       "      <td>NaN</td>\n",
       "    </tr>\n",
       "    <tr>\n",
       "      <th>2</th>\n",
       "      <td>OAS1_0003_MR1</td>\n",
       "      <td>F</td>\n",
       "      <td>R</td>\n",
       "      <td>73</td>\n",
       "      <td>4.0</td>\n",
       "      <td>3.0</td>\n",
       "      <td>27.0</td>\n",
       "      <td>0.5</td>\n",
       "      <td>1454</td>\n",
       "      <td>0.708</td>\n",
       "      <td>1.207</td>\n",
       "      <td>NaN</td>\n",
       "    </tr>\n",
       "    <tr>\n",
       "      <th>3</th>\n",
       "      <td>OAS1_0004_MR1</td>\n",
       "      <td>M</td>\n",
       "      <td>R</td>\n",
       "      <td>28</td>\n",
       "      <td>NaN</td>\n",
       "      <td>NaN</td>\n",
       "      <td>NaN</td>\n",
       "      <td>NaN</td>\n",
       "      <td>1588</td>\n",
       "      <td>0.803</td>\n",
       "      <td>1.105</td>\n",
       "      <td>NaN</td>\n",
       "    </tr>\n",
       "    <tr>\n",
       "      <th>4</th>\n",
       "      <td>OAS1_0005_MR1</td>\n",
       "      <td>M</td>\n",
       "      <td>R</td>\n",
       "      <td>18</td>\n",
       "      <td>NaN</td>\n",
       "      <td>NaN</td>\n",
       "      <td>NaN</td>\n",
       "      <td>NaN</td>\n",
       "      <td>1737</td>\n",
       "      <td>0.848</td>\n",
       "      <td>1.010</td>\n",
       "      <td>NaN</td>\n",
       "    </tr>\n",
       "  </tbody>\n",
       "</table>\n",
       "</div>"
      ],
      "text/plain": [
       "              ID M/F Hand  Age  Educ  SES  MMSE  CDR  eTIV   nWBV    ASF  \\\n",
       "0  OAS1_0001_MR1   F    R   74   2.0  3.0  29.0  0.0  1344  0.743  1.306   \n",
       "1  OAS1_0002_MR1   F    R   55   4.0  1.0  29.0  0.0  1147  0.810  1.531   \n",
       "2  OAS1_0003_MR1   F    R   73   4.0  3.0  27.0  0.5  1454  0.708  1.207   \n",
       "3  OAS1_0004_MR1   M    R   28   NaN  NaN   NaN  NaN  1588  0.803  1.105   \n",
       "4  OAS1_0005_MR1   M    R   18   NaN  NaN   NaN  NaN  1737  0.848  1.010   \n",
       "\n",
       "   Delay  \n",
       "0    NaN  \n",
       "1    NaN  \n",
       "2    NaN  \n",
       "3    NaN  \n",
       "4    NaN  "
      ]
     },
     "execution_count": 5,
     "metadata": {},
     "output_type": "execute_result"
    }
   ],
   "source": [
    "# Read in the cross-sectional data\n",
    "df_mri_alhz_cross = pd.read_csv('./data/oasis_cross-sectional.csv')\n",
    "df_mri_alhz_cross.head()"
   ]
  },
  {
   "cell_type": "code",
   "execution_count": null,
   "metadata": {},
   "outputs": [],
   "source": [
    "change"
   ]
  }
 ],
 "metadata": {
  "colab": {
   "provenance": []
  },
  "kernelspec": {
   "display_name": "Python 3 (ipykernel)",
   "language": "python",
   "name": "python3"
  },
  "language_info": {
   "codemirror_mode": {
    "name": "ipython",
    "version": 3
   },
   "file_extension": ".py",
   "mimetype": "text/x-python",
   "name": "python",
   "nbconvert_exporter": "python",
   "pygments_lexer": "ipython3",
   "version": "3.9.2"
  }
 },
 "nbformat": 4,
 "nbformat_minor": 1
}
