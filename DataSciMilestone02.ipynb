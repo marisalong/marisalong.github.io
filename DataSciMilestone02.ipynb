{
 "cells": [
  {
   "cell_type": "markdown",
   "metadata": {
    "id": "fJjiusiv_9w3"
   },
   "source": [
    "Group Members: Marisa Long and Anna Schoeny\\\n",
    "Link to Github: https://marisalong.github.io\n",
    "# Exploratory Analysis of Alzheimer's Disease Datasets"
   ]
  },
  {
   "cell_type": "markdown",
   "metadata": {},
   "source": [
    "## **Collaboration Plan**\n",
    "Our team's meeting plan is to collaborate together once a week to keep up with the milestones for the final project. We plan to ideally meet in person late morning/early afternoon on Sundays. Meeting in person once a week will ensure that we are able to adequately communicate and delegate what each of us are working on and assist each other as necessary. We created a shared Github repository as our means of maintaining version control and collaboration for the project. The project board within our repository includes our to-do tasks so we are able to track our progress. "
   ]
  },
  {
   "cell_type": "markdown",
   "metadata": {},
   "source": [
    "## **Discussion of Datasets**\n",
    "Our team is interested in working with datasets related to Alzheimer's disease measuring features of patients such as clinical dimension rating, years of education, normalized whole brain volume, age, socioeconomic status, and more. We are particularly interested in working with datasets relating to Alzheimer's because our families have both been personally impacted by the disease. "
   ]
  },
  {
   "cell_type": "markdown",
   "metadata": {},
   "source": [
    "The first dataset that we are working with is [MRI and Alzheimer's](https://www.kaggle.com/datasets/jboysen/mri-and-alzheimers) taken from the [Open Access Series of Imaging Studies (OASIS)](http://www.oasis-brains.org/). This dataset includes MRI comparisons of adults with Alzheimer's and healthy adults. This dataset was initially interesting to our team because the this dataset has a high data usability score as assigned by Kaggle, which represents user ratings on the documentation of the data. This high score indicates that the data is in a state ready for our analysis. This dataset also includes both cross-sectional and longitudinal MRI data. The cross-sectional data highlights 416 subjects ranging from age 18 to 96 and details 3 to 4 MRI scans for each subject. Approximately $1\\over4$ of the subjects had been diagnosed with Alzheimer's disease. The longitudinal data follows the same sample of 150 subjects aged 60 to 96. These subjects were scanned two or more times with at least a year between imaging sessions. 64 of the subjects were diagnosed with Alzheimer's disease by the time of the first scan with an additional 14 diagnosed at one of the later scan visits. Using this data, we are hoping to be able to answer questions regarding the ability to predict dementia in patients based on features such as socioeconomic status or education. For example:\n",
    "- Was education a predictive feature for individuals who had dementia at the time of their first scan or who were diagnosed with dementia over the course of the study? \n",
    "- Was scioeconomic status a predictor for Alhziemer's?\n",
    "\n",
    "#### Overarching Goal\n",
    "\n",
    "Our hope is that through asking questions of the data, we will be able to clearly display risk factors for dementia, especially pertaining to gender. We are interested in looking into the relationships between gender, age, education, and socioeconomic status and the onset of Alhzeimer's."
   ]
  },
  {
   "cell_type": "markdown",
   "metadata": {},
   "source": [
    "## Basic ETL (Extract, Transform, and Load) and EDA (Exploratory Data Analysis)\n",
    "#### REMINDER: Make sure to **PULL** before working. Also, **PUSH** work when you do something meaningful!"
   ]
  },
  {
   "cell_type": "code",
   "execution_count": 1,
   "metadata": {
    "scrolled": true
   },
   "outputs": [
    {
     "name": "stdout",
     "output_type": "stream",
     "text": [
      "/Users/annaschoeny/Desktop/TU/Senior/Sem1/DataScience/marisalong.github.io\r\n"
     ]
    }
   ],
   "source": [
    "# this is just to double check that you are in the correct directory\n",
    "!pwd"
   ]
  },
  {
   "cell_type": "code",
   "execution_count": 2,
   "metadata": {
    "id": "5BESAGFRBWbI"
   },
   "outputs": [],
   "source": [
    "# importing necessary libraries for the analyzing the data\n",
    "import pandas as pd\n",
    "import matplotlib.pyplot as plt\n",
    "import numpy as np"
   ]
  },
  {
   "cell_type": "markdown",
   "metadata": {
    "id": "U5GVlnvbA1DJ"
   },
   "source": [
    "### Dataset 1: MRI and Alzheimer's\n",
    "Data from OASIS project"
   ]
  },
  {
   "cell_type": "code",
   "execution_count": 3,
   "metadata": {
    "colab": {
     "base_uri": "https://localhost:8080/",
     "height": 204
    },
    "id": "uoLbuwCSFBtS",
    "outputId": "0b064005-0aba-4203-e8f7-437e095ff623"
   },
   "outputs": [
    {
     "data": {
      "text/html": [
       "<div>\n",
       "<style scoped>\n",
       "    .dataframe tbody tr th:only-of-type {\n",
       "        vertical-align: middle;\n",
       "    }\n",
       "\n",
       "    .dataframe tbody tr th {\n",
       "        vertical-align: top;\n",
       "    }\n",
       "\n",
       "    .dataframe thead th {\n",
       "        text-align: right;\n",
       "    }\n",
       "</style>\n",
       "<table border=\"1\" class=\"dataframe\">\n",
       "  <thead>\n",
       "    <tr style=\"text-align: right;\">\n",
       "      <th></th>\n",
       "      <th>Subject ID</th>\n",
       "      <th>MRI ID</th>\n",
       "      <th>Group</th>\n",
       "      <th>Visit</th>\n",
       "      <th>MR Delay</th>\n",
       "      <th>M/F</th>\n",
       "      <th>Hand</th>\n",
       "      <th>Age</th>\n",
       "      <th>EDUC</th>\n",
       "      <th>SES</th>\n",
       "      <th>MMSE</th>\n",
       "      <th>CDR</th>\n",
       "      <th>eTIV</th>\n",
       "      <th>nWBV</th>\n",
       "      <th>ASF</th>\n",
       "    </tr>\n",
       "  </thead>\n",
       "  <tbody>\n",
       "    <tr>\n",
       "      <th>0</th>\n",
       "      <td>OAS2_0001</td>\n",
       "      <td>OAS2_0001_MR1</td>\n",
       "      <td>Nondemented</td>\n",
       "      <td>1</td>\n",
       "      <td>0</td>\n",
       "      <td>M</td>\n",
       "      <td>R</td>\n",
       "      <td>87</td>\n",
       "      <td>14</td>\n",
       "      <td>2.0</td>\n",
       "      <td>27.0</td>\n",
       "      <td>0.0</td>\n",
       "      <td>1987</td>\n",
       "      <td>0.696</td>\n",
       "      <td>0.883</td>\n",
       "    </tr>\n",
       "    <tr>\n",
       "      <th>1</th>\n",
       "      <td>OAS2_0001</td>\n",
       "      <td>OAS2_0001_MR2</td>\n",
       "      <td>Nondemented</td>\n",
       "      <td>2</td>\n",
       "      <td>457</td>\n",
       "      <td>M</td>\n",
       "      <td>R</td>\n",
       "      <td>88</td>\n",
       "      <td>14</td>\n",
       "      <td>2.0</td>\n",
       "      <td>30.0</td>\n",
       "      <td>0.0</td>\n",
       "      <td>2004</td>\n",
       "      <td>0.681</td>\n",
       "      <td>0.876</td>\n",
       "    </tr>\n",
       "    <tr>\n",
       "      <th>2</th>\n",
       "      <td>OAS2_0002</td>\n",
       "      <td>OAS2_0002_MR1</td>\n",
       "      <td>Demented</td>\n",
       "      <td>1</td>\n",
       "      <td>0</td>\n",
       "      <td>M</td>\n",
       "      <td>R</td>\n",
       "      <td>75</td>\n",
       "      <td>12</td>\n",
       "      <td>NaN</td>\n",
       "      <td>23.0</td>\n",
       "      <td>0.5</td>\n",
       "      <td>1678</td>\n",
       "      <td>0.736</td>\n",
       "      <td>1.046</td>\n",
       "    </tr>\n",
       "    <tr>\n",
       "      <th>3</th>\n",
       "      <td>OAS2_0002</td>\n",
       "      <td>OAS2_0002_MR2</td>\n",
       "      <td>Demented</td>\n",
       "      <td>2</td>\n",
       "      <td>560</td>\n",
       "      <td>M</td>\n",
       "      <td>R</td>\n",
       "      <td>76</td>\n",
       "      <td>12</td>\n",
       "      <td>NaN</td>\n",
       "      <td>28.0</td>\n",
       "      <td>0.5</td>\n",
       "      <td>1738</td>\n",
       "      <td>0.713</td>\n",
       "      <td>1.010</td>\n",
       "    </tr>\n",
       "    <tr>\n",
       "      <th>4</th>\n",
       "      <td>OAS2_0002</td>\n",
       "      <td>OAS2_0002_MR3</td>\n",
       "      <td>Demented</td>\n",
       "      <td>3</td>\n",
       "      <td>1895</td>\n",
       "      <td>M</td>\n",
       "      <td>R</td>\n",
       "      <td>80</td>\n",
       "      <td>12</td>\n",
       "      <td>NaN</td>\n",
       "      <td>22.0</td>\n",
       "      <td>0.5</td>\n",
       "      <td>1698</td>\n",
       "      <td>0.701</td>\n",
       "      <td>1.034</td>\n",
       "    </tr>\n",
       "  </tbody>\n",
       "</table>\n",
       "</div>"
      ],
      "text/plain": [
       "  Subject ID         MRI ID        Group  Visit  MR Delay M/F Hand  Age  EDUC  \\\n",
       "0  OAS2_0001  OAS2_0001_MR1  Nondemented      1         0   M    R   87    14   \n",
       "1  OAS2_0001  OAS2_0001_MR2  Nondemented      2       457   M    R   88    14   \n",
       "2  OAS2_0002  OAS2_0002_MR1     Demented      1         0   M    R   75    12   \n",
       "3  OAS2_0002  OAS2_0002_MR2     Demented      2       560   M    R   76    12   \n",
       "4  OAS2_0002  OAS2_0002_MR3     Demented      3      1895   M    R   80    12   \n",
       "\n",
       "   SES  MMSE  CDR  eTIV   nWBV    ASF  \n",
       "0  2.0  27.0  0.0  1987  0.696  0.883  \n",
       "1  2.0  30.0  0.0  2004  0.681  0.876  \n",
       "2  NaN  23.0  0.5  1678  0.736  1.046  \n",
       "3  NaN  28.0  0.5  1738  0.713  1.010  \n",
       "4  NaN  22.0  0.5  1698  0.701  1.034  "
      ]
     },
     "execution_count": 3,
     "metadata": {},
     "output_type": "execute_result"
    }
   ],
   "source": [
    "# Read in the longitudinal data and take a peek\n",
    "df_alhz_long = pd.read_csv('./data/oasis_longitudinal.csv')\n",
    "df_alhz_long.head()"
   ]
  },
  {
   "cell_type": "markdown",
   "metadata": {},
   "source": [
    "Here are the datatypes for this dataframe:"
   ]
  },
  {
   "cell_type": "code",
   "execution_count": 4,
   "metadata": {},
   "outputs": [
    {
     "data": {
      "text/plain": [
       "Subject ID     object\n",
       "MRI ID         object\n",
       "Group          object\n",
       "Visit           int64\n",
       "MR Delay        int64\n",
       "M/F            object\n",
       "Hand           object\n",
       "Age             int64\n",
       "EDUC            int64\n",
       "SES           float64\n",
       "MMSE          float64\n",
       "CDR           float64\n",
       "eTIV            int64\n",
       "nWBV          float64\n",
       "ASF           float64\n",
       "dtype: object"
      ]
     },
     "execution_count": 4,
     "metadata": {},
     "output_type": "execute_result"
    }
   ],
   "source": [
    "df_alhz_long.dtypes"
   ]
  },
  {
   "cell_type": "code",
   "execution_count": 5,
   "metadata": {},
   "outputs": [
    {
     "data": {
      "text/plain": [
       "Nondemented    190\n",
       "Demented       146\n",
       "Converted       37\n",
       "Name: Group, dtype: int64"
      ]
     },
     "execution_count": 5,
     "metadata": {},
     "output_type": "execute_result"
    }
   ],
   "source": [
    "# Looking at what type of patients make up this dataset\n",
    "\n",
    "df_alhz_long['Group'].value_counts()"
   ]
  },
  {
   "cell_type": "markdown",
   "metadata": {},
   "source": [
    "### Questions for Dataset 2(a):"
   ]
  },
  {
   "cell_type": "markdown",
   "metadata": {},
   "source": [
    "#### What is the average level of education (variable 'EDUC') of demented vs non-demented vs converted individuals?"
   ]
  },
  {
   "cell_type": "code",
   "execution_count": 6,
   "metadata": {},
   "outputs": [
    {
     "data": {
      "text/plain": [
       "13.67123287671233"
      ]
     },
     "execution_count": 6,
     "metadata": {},
     "output_type": "execute_result"
    }
   ],
   "source": [
    "# Average Education level for demented individuals\n",
    "df_alhz_long[df_alhz_long.Group == \"Demented\"].EDUC.mean()"
   ]
  },
  {
   "cell_type": "code",
   "execution_count": 7,
   "metadata": {},
   "outputs": [
    {
     "data": {
      "text/plain": [
       "15.142105263157895"
      ]
     },
     "execution_count": 7,
     "metadata": {},
     "output_type": "execute_result"
    }
   ],
   "source": [
    "# Average Education level for nondemented individuals\n",
    "df_alhz_long[df_alhz_long.Group == \"Nondemented\"].EDUC.mean()"
   ]
  },
  {
   "cell_type": "code",
   "execution_count": 8,
   "metadata": {},
   "outputs": [
    {
     "data": {
      "text/plain": [
       "15.45945945945946"
      ]
     },
     "execution_count": 8,
     "metadata": {},
     "output_type": "execute_result"
    }
   ],
   "source": [
    "# Average Education level for converted individuals\n",
    "df_alhz_long[df_alhz_long.Group == \"Converted\"].EDUC.mean()"
   ]
  },
  {
   "cell_type": "markdown",
   "metadata": {},
   "source": [
    "One hypothesis we have based on this brief summary of education level is that education slows cognitive decline. This is suppored by the data above, where demented individuals have and average of 13.7 years, nondemented individuals have an average of 15.1 years, and converted individuals have 15.5 years. Looking at education differences among clinically demented vs nondemented individuals will help us determine how strongly education level may predict Alhzeimer's."
   ]
  },
  {
   "cell_type": "markdown",
   "metadata": {},
   "source": [
    "#### How are education and socioeconomic status related in this sample?"
   ]
  },
  {
   "cell_type": "code",
   "execution_count": 9,
   "metadata": {},
   "outputs": [
    {
     "data": {
      "text/plain": [
       "-0.7226472777909835"
      ]
     },
     "execution_count": 9,
     "metadata": {},
     "output_type": "execute_result"
    }
   ],
   "source": [
    "df_alhz_long[\"EDUC\"].corr(df_alhz_long[\"SES\"])"
   ]
  },
  {
   "cell_type": "markdown",
   "metadata": {},
   "source": [
    "At first glance, a strong negative correlation between education level and socioeconomic status was suprising. However, when we read the publication that came out alongside this dataset, they authors explained that 'SES' is ranked using the Hollingshead Index of Social Position and has 1 being the highest status, where 5 is the lowest. Therefore, this statistic shows that individuals from a higher socioeconomic status were likely to recieve more education than those of lower socioeconomic statuses. Through our further exploration, we hope to uncover the relationship between socioeconomic status, education, and dementia."
   ]
  },
  {
   "cell_type": "markdown",
   "metadata": {},
   "source": [
    "#### How old were people in this dataset when they had their first MRI scan for dementia?"
   ]
  },
  {
   "cell_type": "code",
   "execution_count": 10,
   "metadata": {},
   "outputs": [
    {
     "data": {
      "text/plain": [
       "75.44666666666667"
      ]
     },
     "execution_count": 10,
     "metadata": {},
     "output_type": "execute_result"
    }
   ],
   "source": [
    "# Filtering data to get just the first visit\n",
    "first_visit = df_alhz_long[df_alhz_long.Visit == 1]\n",
    "\n",
    "#Take mean of age of filtered data\n",
    "first_visit.Age.mean()"
   ]
  },
  {
   "cell_type": "code",
   "execution_count": 11,
   "metadata": {},
   "outputs": [
    {
     "data": {
      "text/plain": [
       "7.545421000584566"
      ]
     },
     "execution_count": 11,
     "metadata": {},
     "output_type": "execute_result"
    }
   ],
   "source": [
    "# Take standard deviation of age of filtered data\n",
    "first_visit.Age.std()"
   ]
  },
  {
   "cell_type": "markdown",
   "metadata": {},
   "source": [
    "The mean age of patients on their first visit was 74.4 years old, and this dataset had a standard deviation of 7.5. This shows that this dataset focuses heavily on Alhzeimer's and dementia in older individuals, rather than also considering early onset Alzheimer's. Looking at age allows us to understand the timeframe for dementia onset. "
   ]
  },
  {
   "cell_type": "markdown",
   "metadata": {},
   "source": [
    "#### How does the number of females vs males with dementia compare in this dataset?"
   ]
  },
  {
   "cell_type": "code",
   "execution_count": 12,
   "metadata": {},
   "outputs": [
    {
     "data": {
      "text/plain": [
       "M/F\n",
       "F    AxesSubplot(0.125,0.125;0.775x0.755)\n",
       "M    AxesSubplot(0.125,0.125;0.775x0.755)\n",
       "Name: Age, dtype: object"
      ]
     },
     "execution_count": 12,
     "metadata": {},
     "output_type": "execute_result"
    },
    {
     "data": {
      "image/png": "[encoded data removed]",
      "text/plain": [
       "<Figure size 432x288 with 1 Axes>"
      ]
     },
     "metadata": {
      "needs_background": "light"
     },
     "output_type": "display_data"
    }
   ],
   "source": [
    "# Creating new dataframe with ages in accending order\n",
    "age_accending_dementia = df_alhz_long.sort_values('Age')\n",
    "age_accending_dementia = age_accending_dementia[age_accending_dementia.Group == \"Demented\"]\n",
    "age_accending_dementia.groupby(\"M/F\").Age.plot.hist(alpha=.5, density=True, legend=True, xlabel='Age of Indv. with Dementia')"
   ]
  },
  {
   "cell_type": "markdown",
   "metadata": {},
   "source": [
    "Compared to the male data, the female data appears to be more right-skewed. This allows us to hypothesize that women on average are older than men when they are affected by Alhzeimer's. This is relevant to our main goal as one of the variables we are focusing on is gendered differences in Alzheimer's."
   ]
  },
  {
   "cell_type": "markdown",
   "metadata": {},
   "source": [
    "This dataset also includes cross-sectional data from the same research lab, which is included below:"
   ]
  },
  {
   "cell_type": "code",
   "execution_count": 13,
   "metadata": {
    "colab": {
     "base_uri": "https://localhost:8080/",
     "height": 204
    },
    "id": "e9z7jpsRG0d9",
    "outputId": "52d769a8-90bd-4aa2-a3e0-87d829eef9fa"
   },
   "outputs": [
    {
     "data": {
      "text/html": [
       "<div>\n",
       "<style scoped>\n",
       "    .dataframe tbody tr th:only-of-type {\n",
       "        vertical-align: middle;\n",
       "    }\n",
       "\n",
       "    .dataframe tbody tr th {\n",
       "        vertical-align: top;\n",
       "    }\n",
       "\n",
       "    .dataframe thead th {\n",
       "        text-align: right;\n",
       "    }\n",
       "</style>\n",
       "<table border=\"1\" class=\"dataframe\">\n",
       "  <thead>\n",
       "    <tr style=\"text-align: right;\">\n",
       "      <th></th>\n",
       "      <th>ID</th>\n",
       "      <th>M/F</th>\n",
       "      <th>Hand</th>\n",
       "      <th>Age</th>\n",
       "      <th>Educ</th>\n",
       "      <th>SES</th>\n",
       "      <th>MMSE</th>\n",
       "      <th>CDR</th>\n",
       "      <th>eTIV</th>\n",
       "      <th>nWBV</th>\n",
       "      <th>ASF</th>\n",
       "      <th>Delay</th>\n",
       "    </tr>\n",
       "  </thead>\n",
       "  <tbody>\n",
       "    <tr>\n",
       "      <th>0</th>\n",
       "      <td>OAS1_0001_MR1</td>\n",
       "      <td>F</td>\n",
       "      <td>R</td>\n",
       "      <td>74</td>\n",
       "      <td>2.0</td>\n",
       "      <td>3.0</td>\n",
       "      <td>29.0</td>\n",
       "      <td>0.0</td>\n",
       "      <td>1344</td>\n",
       "      <td>0.743</td>\n",
       "      <td>1.306</td>\n",
       "      <td>NaN</td>\n",
       "    </tr>\n",
       "    <tr>\n",
       "      <th>1</th>\n",
       "      <td>OAS1_0002_MR1</td>\n",
       "      <td>F</td>\n",
       "      <td>R</td>\n",
       "      <td>55</td>\n",
       "      <td>4.0</td>\n",
       "      <td>1.0</td>\n",
       "      <td>29.0</td>\n",
       "      <td>0.0</td>\n",
       "      <td>1147</td>\n",
       "      <td>0.810</td>\n",
       "      <td>1.531</td>\n",
       "      <td>NaN</td>\n",
       "    </tr>\n",
       "    <tr>\n",
       "      <th>2</th>\n",
       "      <td>OAS1_0003_MR1</td>\n",
       "      <td>F</td>\n",
       "      <td>R</td>\n",
       "      <td>73</td>\n",
       "      <td>4.0</td>\n",
       "      <td>3.0</td>\n",
       "      <td>27.0</td>\n",
       "      <td>0.5</td>\n",
       "      <td>1454</td>\n",
       "      <td>0.708</td>\n",
       "      <td>1.207</td>\n",
       "      <td>NaN</td>\n",
       "    </tr>\n",
       "    <tr>\n",
       "      <th>3</th>\n",
       "      <td>OAS1_0004_MR1</td>\n",
       "      <td>M</td>\n",
       "      <td>R</td>\n",
       "      <td>28</td>\n",
       "      <td>NaN</td>\n",
       "      <td>NaN</td>\n",
       "      <td>NaN</td>\n",
       "      <td>NaN</td>\n",
       "      <td>1588</td>\n",
       "      <td>0.803</td>\n",
       "      <td>1.105</td>\n",
       "      <td>NaN</td>\n",
       "    </tr>\n",
       "    <tr>\n",
       "      <th>4</th>\n",
       "      <td>OAS1_0005_MR1</td>\n",
       "      <td>M</td>\n",
       "      <td>R</td>\n",
       "      <td>18</td>\n",
       "      <td>NaN</td>\n",
       "      <td>NaN</td>\n",
       "      <td>NaN</td>\n",
       "      <td>NaN</td>\n",
       "      <td>1737</td>\n",
       "      <td>0.848</td>\n",
       "      <td>1.010</td>\n",
       "      <td>NaN</td>\n",
       "    </tr>\n",
       "  </tbody>\n",
       "</table>\n",
       "</div>"
      ],
      "text/plain": [
       "              ID M/F Hand  Age  Educ  SES  MMSE  CDR  eTIV   nWBV    ASF  \\\n",
       "0  OAS1_0001_MR1   F    R   74   2.0  3.0  29.0  0.0  1344  0.743  1.306   \n",
       "1  OAS1_0002_MR1   F    R   55   4.0  1.0  29.0  0.0  1147  0.810  1.531   \n",
       "2  OAS1_0003_MR1   F    R   73   4.0  3.0  27.0  0.5  1454  0.708  1.207   \n",
       "3  OAS1_0004_MR1   M    R   28   NaN  NaN   NaN  NaN  1588  0.803  1.105   \n",
       "4  OAS1_0005_MR1   M    R   18   NaN  NaN   NaN  NaN  1737  0.848  1.010   \n",
       "\n",
       "   Delay  \n",
       "0    NaN  \n",
       "1    NaN  \n",
       "2    NaN  \n",
       "3    NaN  \n",
       "4    NaN  "
      ]
     },
     "execution_count": 13,
     "metadata": {},
     "output_type": "execute_result"
    }
   ],
   "source": [
    "# Read in the cross-sectional data and take a peek\n",
    "df_alhz_cross = pd.read_csv('./data/oasis_cross-sectional.csv')\n",
    "df_alhz_cross.head()"
   ]
  },
  {
   "cell_type": "markdown",
   "metadata": {},
   "source": [
    "Here are the datatypes of the dataframe:"
   ]
  },
  {
   "cell_type": "code",
   "execution_count": 14,
   "metadata": {},
   "outputs": [
    {
     "data": {
      "text/plain": [
       "ID        object\n",
       "M/F       object\n",
       "Hand      object\n",
       "Age        int64\n",
       "Educ     float64\n",
       "SES      float64\n",
       "MMSE     float64\n",
       "CDR      float64\n",
       "eTIV       int64\n",
       "nWBV     float64\n",
       "ASF      float64\n",
       "Delay    float64\n",
       "dtype: object"
      ]
     },
     "execution_count": 14,
     "metadata": {},
     "output_type": "execute_result"
    }
   ],
   "source": [
    "df_alhz_cross.dtypes"
   ]
  },
  {
   "cell_type": "markdown",
   "metadata": {},
   "source": [
    "Note: This the cross-sectional data does not have a group column that classifies the patients as demented, nondemented or converted like the longitudinal dataset does. However, they still include the Clinical Dementia Rating (CDR) that describes the level of dementia. According to the CDR, these are the classifications:\n",
    "0 = no dementia, \n",
    "0.5 = very mild AD, \n",
    "1 = mild AD, \n",
    "2 = moderate AD.\n",
    "\n",
    "To make the data more easily comparable to the longitudinal data, we used this quantitative variable to create a categorical variable with the three states.  "
   ]
  },
  {
   "cell_type": "code",
   "execution_count": 15,
   "metadata": {},
   "outputs": [
    {
     "data": {
      "text/plain": [
       "Nondemented    135\n",
       "Demented       100\n",
       "Name: Group, dtype: int64"
      ]
     },
     "execution_count": 15,
     "metadata": {},
     "output_type": "execute_result"
    }
   ],
   "source": [
    "#Create a Group variable for cross-sectional data\n",
    "df_alhz_cross['Group'] = df_alhz_cross['CDR'].map({\n",
    "    0.0: 'Nondemented',\n",
    "    0.5: 'Demented',\n",
    "    1.0: 'Demented',\n",
    "    1.5:'Demented',\n",
    "    2.0:'Demented'\n",
    "})\n",
    "\n",
    "# Look at how many individuals fall into each category\n",
    "df_alhz_cross['Group'].value_counts()"
   ]
  },
  {
   "cell_type": "markdown",
   "metadata": {},
   "source": [
    "### Questions for Dataset 2(b):"
   ]
  },
  {
   "cell_type": "markdown",
   "metadata": {},
   "source": [
    "#### What is the average level of education (variable 'EDUC') of demented vs non-demented vs converted individuals?"
   ]
  },
  {
   "cell_type": "code",
   "execution_count": 16,
   "metadata": {},
   "outputs": [
    {
     "data": {
      "text/plain": [
       "2.82"
      ]
     },
     "execution_count": 16,
     "metadata": {},
     "output_type": "execute_result"
    }
   ],
   "source": [
    "# Average Education level for demented individuals\n",
    "df_alhz_cross[df_alhz_cross.Group == \"Demented\"].Educ.mean()"
   ]
  },
  {
   "cell_type": "code",
   "execution_count": 17,
   "metadata": {},
   "outputs": [
    {
     "data": {
      "text/plain": [
       "3.4444444444444446"
      ]
     },
     "execution_count": 17,
     "metadata": {},
     "output_type": "execute_result"
    }
   ],
   "source": [
    "# Average Education level for nondemented individuals\n",
    "df_alhz_cross[df_alhz_cross.Group == \"Nondemented\"].Educ.mean()"
   ]
  },
  {
   "cell_type": "markdown",
   "metadata": {},
   "source": [
    "This is consisted with the dataframe above, showing that on average nondemented individuals had a higher education level than the demented individuals. This does appear to be on a different scale, which we address in our commentary below. "
   ]
  },
  {
   "cell_type": "markdown",
   "metadata": {},
   "source": [
    "#### How are education and socioeconomic status related in this sample?"
   ]
  },
  {
   "cell_type": "code",
   "execution_count": 18,
   "metadata": {},
   "outputs": [
    {
     "data": {
      "text/plain": [
       "-0.7423610355426756"
      ]
     },
     "execution_count": 18,
     "metadata": {},
     "output_type": "execute_result"
    }
   ],
   "source": [
    "df_alhz_cross[\"Educ\"].corr(df_alhz_cross[\"SES\"])"
   ]
  },
  {
   "cell_type": "markdown",
   "metadata": {},
   "source": [
    "Similar to the longitudinal data, this statistic shows that individuals from a higher socioeconomic status were likely to recieve more education than those of lower socioeconomic statuses. The correlation is also very similar, with it being -0.74 in the cross-sectional data compared to -0.72 in the longitudinal data. "
   ]
  },
  {
   "cell_type": "markdown",
   "metadata": {},
   "source": [
    "#### How old were people in this dataset when they had their MRI to scan for dementia?"
   ]
  },
  {
   "cell_type": "code",
   "execution_count": 19,
   "metadata": {},
   "outputs": [
    {
     "data": {
      "text/plain": [
       "51.357798165137616"
      ]
     },
     "execution_count": 19,
     "metadata": {},
     "output_type": "execute_result"
    }
   ],
   "source": [
    "#Take mean of age\n",
    "df_alhz_cross.Age.mean()"
   ]
  },
  {
   "cell_type": "code",
   "execution_count": 20,
   "metadata": {},
   "outputs": [
    {
     "data": {
      "text/plain": [
       "25.269862268101562"
      ]
     },
     "execution_count": 20,
     "metadata": {},
     "output_type": "execute_result"
    }
   ],
   "source": [
    "# Take standard deviation of age\n",
    "df_alhz_cross.Age.std()"
   ]
  },
  {
   "cell_type": "markdown",
   "metadata": {},
   "source": [
    "The mean age of patients when they got their MRI scan was 51.3 years old, which is much younger than the previous dataset. This dataset also had a much bigger spread in regards to age, with the standard deviation of 25.3. This tells us that the cross-sectional dataset could contain cases of early onset Alzheimer's. This will allow us to look at a wider range of Alhzeimer's onset data."
   ]
  },
  {
   "cell_type": "markdown",
   "metadata": {},
   "source": [
    "#### How does the number of females vs males with dementia compare in this dataset?"
   ]
  },
  {
   "cell_type": "code",
   "execution_count": 21,
   "metadata": {},
   "outputs": [
    {
     "data": {
      "text/plain": [
       "M/F\n",
       "F    AxesSubplot(0.125,0.125;0.775x0.755)\n",
       "M    AxesSubplot(0.125,0.125;0.775x0.755)\n",
       "Name: Age, dtype: object"
      ]
     },
     "execution_count": 21,
     "metadata": {},
     "output_type": "execute_result"
    },
    {
     "data": {
      "image/png": "[encoded data removed]",
      "text/plain": [
       "<Figure size 432x288 with 1 Axes>"
      ]
     },
     "metadata": {
      "needs_background": "light"
     },
     "output_type": "display_data"
    }
   ],
   "source": [
    "# Creating new dataframe with ages in accending order\n",
    "age_accending_cross = df_alhz_cross.sort_values('Age')\n",
    "age_accending = age_accending_cross[age_accending_cross.Group == \"Demented\"]\n",
    "age_accending.groupby(\"M/F\").Age.plot.hist(alpha=.5, density=True, legend=True, xlabel='Age of Indv. with Dementia')"
   ]
  },
  {
   "cell_type": "markdown",
   "metadata": {},
   "source": [
    "From this graphic, we see that females have a wider range of ages. This differs from the longtidudinal data and indicates that we have to dig deeper before drawing conclusions on our gender hypothesis."
   ]
  },
  {
   "cell_type": "markdown",
   "metadata": {},
   "source": [
    "### adding some more thoughts here yay! CHHANGE THIS LATER JUST FOR PUSH"
   ]
  },
  {
   "cell_type": "markdown",
   "metadata": {},
   "source": [
    "# MILESTONE 2 START"
   ]
  },
  {
   "cell_type": "markdown",
   "metadata": {},
   "source": [
    "For our milestone 2 datasets, we were interested in introducing some brain imaging area to gain a further picture of what is related to cognitive decline. (ADD DESCRIPTIONS OF DATASETS)"
   ]
  },
  {
   "cell_type": "code",
   "execution_count": 22,
   "metadata": {},
   "outputs": [],
   "source": [
    "# Read in the data \n",
    "df_volumetrics = pd.read_csv('./data/sea-ad_cohort_mri_volumetrics.csv')\n",
    "# Read in the data \n",
    "df_meta = pd.read_csv('./data/sea-ad_cohort_donor_metadata_082222.csv')"
   ]
  },
  {
   "cell_type": "code",
   "execution_count": 23,
   "metadata": {},
   "outputs": [
    {
     "data": {
      "text/html": [
       "<div>\n",
       "<style scoped>\n",
       "    .dataframe tbody tr th:only-of-type {\n",
       "        vertical-align: middle;\n",
       "    }\n",
       "\n",
       "    .dataframe tbody tr th {\n",
       "        vertical-align: top;\n",
       "    }\n",
       "\n",
       "    .dataframe thead th {\n",
       "        text-align: right;\n",
       "    }\n",
       "</style>\n",
       "<table border=\"1\" class=\"dataframe\">\n",
       "  <thead>\n",
       "    <tr style=\"text-align: right;\">\n",
       "      <th></th>\n",
       "      <th>Donor ID</th>\n",
       "      <th>Left Thalamus Proper Volume</th>\n",
       "      <th>Left Caudate Volume</th>\n",
       "      <th>Left Putamen Volume</th>\n",
       "      <th>Left Pallidum Volume</th>\n",
       "      <th>Left Hippocampus Volume</th>\n",
       "      <th>Left Amygdala Volume</th>\n",
       "      <th>Left Accumbens Area Volume</th>\n",
       "      <th>Right Thalamus Proper Volume</th>\n",
       "      <th>Right Caudate Volume</th>\n",
       "      <th>...</th>\n",
       "      <th>Right Supramarginal White Matter Volume</th>\n",
       "      <th>Right Frontal Pole Cortex Volume</th>\n",
       "      <th>Right Frontal Pole White Matter Volume</th>\n",
       "      <th>Right Temporal Pole Cortex Volume</th>\n",
       "      <th>Right Temporal Pole White Matter Volume</th>\n",
       "      <th>Right Insula Cortex Volume</th>\n",
       "      <th>Right Insula White Matter Volume</th>\n",
       "      <th>Right Parahippocampal White Matter Volume</th>\n",
       "      <th>Right Transverse Temporal Cortex Volume</th>\n",
       "      <th>Right Transverse Temporal White Matter Volume</th>\n",
       "    </tr>\n",
       "  </thead>\n",
       "  <tbody>\n",
       "    <tr>\n",
       "      <th>0</th>\n",
       "      <td>H20.33.045</td>\n",
       "      <td>6.33</td>\n",
       "      <td>2.51</td>\n",
       "      <td>3.74</td>\n",
       "      <td>2.58</td>\n",
       "      <td>2.21</td>\n",
       "      <td>0.23</td>\n",
       "      <td>0.23</td>\n",
       "      <td>NaN</td>\n",
       "      <td>NaN</td>\n",
       "      <td>...</td>\n",
       "      <td>NaN</td>\n",
       "      <td>NaN</td>\n",
       "      <td>NaN</td>\n",
       "      <td>NaN</td>\n",
       "      <td>NaN</td>\n",
       "      <td>NaN</td>\n",
       "      <td>NaN</td>\n",
       "      <td>NaN</td>\n",
       "      <td>NaN</td>\n",
       "      <td>NaN</td>\n",
       "    </tr>\n",
       "    <tr>\n",
       "      <th>1</th>\n",
       "      <td>H20.33.044</td>\n",
       "      <td>NaN</td>\n",
       "      <td>NaN</td>\n",
       "      <td>NaN</td>\n",
       "      <td>NaN</td>\n",
       "      <td>NaN</td>\n",
       "      <td>NaN</td>\n",
       "      <td>NaN</td>\n",
       "      <td>NaN</td>\n",
       "      <td>NaN</td>\n",
       "      <td>...</td>\n",
       "      <td>NaN</td>\n",
       "      <td>NaN</td>\n",
       "      <td>NaN</td>\n",
       "      <td>NaN</td>\n",
       "      <td>NaN</td>\n",
       "      <td>NaN</td>\n",
       "      <td>NaN</td>\n",
       "      <td>NaN</td>\n",
       "      <td>NaN</td>\n",
       "      <td>NaN</td>\n",
       "    </tr>\n",
       "    <tr>\n",
       "      <th>2</th>\n",
       "      <td>H21.33.045</td>\n",
       "      <td>NaN</td>\n",
       "      <td>NaN</td>\n",
       "      <td>NaN</td>\n",
       "      <td>NaN</td>\n",
       "      <td>NaN</td>\n",
       "      <td>NaN</td>\n",
       "      <td>NaN</td>\n",
       "      <td>3.82</td>\n",
       "      <td>3.48</td>\n",
       "      <td>...</td>\n",
       "      <td>5.97</td>\n",
       "      <td>0.55</td>\n",
       "      <td>0.33</td>\n",
       "      <td>2.04</td>\n",
       "      <td>1.03</td>\n",
       "      <td>4.36</td>\n",
       "      <td>6.25</td>\n",
       "      <td>0.9</td>\n",
       "      <td>0.48</td>\n",
       "      <td>0.48</td>\n",
       "    </tr>\n",
       "    <tr>\n",
       "      <th>3</th>\n",
       "      <td>H20.33.046</td>\n",
       "      <td>NaN</td>\n",
       "      <td>NaN</td>\n",
       "      <td>NaN</td>\n",
       "      <td>NaN</td>\n",
       "      <td>NaN</td>\n",
       "      <td>NaN</td>\n",
       "      <td>NaN</td>\n",
       "      <td>6.99</td>\n",
       "      <td>3.62</td>\n",
       "      <td>...</td>\n",
       "      <td>9.26</td>\n",
       "      <td>0.91</td>\n",
       "      <td>0.14</td>\n",
       "      <td>1.21</td>\n",
       "      <td>0.15</td>\n",
       "      <td>7.12</td>\n",
       "      <td>5.85</td>\n",
       "      <td>0.0</td>\n",
       "      <td>0.92</td>\n",
       "      <td>0.50</td>\n",
       "    </tr>\n",
       "    <tr>\n",
       "      <th>4</th>\n",
       "      <td>H20.33.014</td>\n",
       "      <td>6.10</td>\n",
       "      <td>4.46</td>\n",
       "      <td>3.68</td>\n",
       "      <td>1.88</td>\n",
       "      <td>4.49</td>\n",
       "      <td>1.11</td>\n",
       "      <td>0.63</td>\n",
       "      <td>NaN</td>\n",
       "      <td>NaN</td>\n",
       "      <td>...</td>\n",
       "      <td>NaN</td>\n",
       "      <td>NaN</td>\n",
       "      <td>NaN</td>\n",
       "      <td>NaN</td>\n",
       "      <td>NaN</td>\n",
       "      <td>NaN</td>\n",
       "      <td>NaN</td>\n",
       "      <td>NaN</td>\n",
       "      <td>NaN</td>\n",
       "      <td>NaN</td>\n",
       "    </tr>\n",
       "  </tbody>\n",
       "</table>\n",
       "<p>5 rows × 151 columns</p>\n",
       "</div>"
      ],
      "text/plain": [
       "     Donor ID  Left Thalamus Proper Volume  Left Caudate Volume  \\\n",
       "0  H20.33.045                         6.33                 2.51   \n",
       "1  H20.33.044                          NaN                  NaN   \n",
       "2  H21.33.045                          NaN                  NaN   \n",
       "3  H20.33.046                          NaN                  NaN   \n",
       "4  H20.33.014                         6.10                 4.46   \n",
       "\n",
       "   Left Putamen Volume  Left Pallidum Volume  Left Hippocampus Volume  \\\n",
       "0                 3.74                  2.58                     2.21   \n",
       "1                  NaN                   NaN                      NaN   \n",
       "2                  NaN                   NaN                      NaN   \n",
       "3                  NaN                   NaN                      NaN   \n",
       "4                 3.68                  1.88                     4.49   \n",
       "\n",
       "   Left Amygdala Volume  Left Accumbens Area Volume  \\\n",
       "0                  0.23                        0.23   \n",
       "1                   NaN                         NaN   \n",
       "2                   NaN                         NaN   \n",
       "3                   NaN                         NaN   \n",
       "4                  1.11                        0.63   \n",
       "\n",
       "   Right Thalamus Proper Volume  Right Caudate Volume  ...  \\\n",
       "0                           NaN                   NaN  ...   \n",
       "1                           NaN                   NaN  ...   \n",
       "2                          3.82                  3.48  ...   \n",
       "3                          6.99                  3.62  ...   \n",
       "4                           NaN                   NaN  ...   \n",
       "\n",
       "   Right Supramarginal White Matter Volume  Right Frontal Pole Cortex Volume  \\\n",
       "0                                      NaN                               NaN   \n",
       "1                                      NaN                               NaN   \n",
       "2                                     5.97                              0.55   \n",
       "3                                     9.26                              0.91   \n",
       "4                                      NaN                               NaN   \n",
       "\n",
       "   Right Frontal Pole White Matter Volume  Right Temporal Pole Cortex Volume  \\\n",
       "0                                     NaN                                NaN   \n",
       "1                                     NaN                                NaN   \n",
       "2                                    0.33                               2.04   \n",
       "3                                    0.14                               1.21   \n",
       "4                                     NaN                                NaN   \n",
       "\n",
       "   Right Temporal Pole White Matter Volume  Right Insula Cortex Volume  \\\n",
       "0                                      NaN                         NaN   \n",
       "1                                      NaN                         NaN   \n",
       "2                                     1.03                        4.36   \n",
       "3                                     0.15                        7.12   \n",
       "4                                      NaN                         NaN   \n",
       "\n",
       "   Right Insula White Matter Volume  \\\n",
       "0                               NaN   \n",
       "1                               NaN   \n",
       "2                              6.25   \n",
       "3                              5.85   \n",
       "4                               NaN   \n",
       "\n",
       "   Right Parahippocampal White Matter Volume  \\\n",
       "0                                        NaN   \n",
       "1                                        NaN   \n",
       "2                                        0.9   \n",
       "3                                        0.0   \n",
       "4                                        NaN   \n",
       "\n",
       "   Right Transverse Temporal Cortex Volume  \\\n",
       "0                                      NaN   \n",
       "1                                      NaN   \n",
       "2                                     0.48   \n",
       "3                                     0.92   \n",
       "4                                      NaN   \n",
       "\n",
       "   Right Transverse Temporal White Matter Volume  \n",
       "0                                            NaN  \n",
       "1                                            NaN  \n",
       "2                                           0.48  \n",
       "3                                           0.50  \n",
       "4                                            NaN  \n",
       "\n",
       "[5 rows x 151 columns]"
      ]
     },
     "execution_count": 23,
     "metadata": {},
     "output_type": "execute_result"
    }
   ],
   "source": [
    "df_volumetrics.head()"
   ]
  },
  {
   "cell_type": "code",
   "execution_count": 24,
   "metadata": {},
   "outputs": [
    {
     "name": "stdout",
     "output_type": "stream",
     "text": [
      "Donor ID                                                 object\n",
      "Left Thalamus Proper Volume                             float64\n",
      "Left Caudate Volume                                     float64\n",
      "Left Putamen Volume                                     float64\n",
      "Left Pallidum Volume                                    float64\n",
      "Left Hippocampus Volume                                 float64\n",
      "Left Amygdala Volume                                    float64\n",
      "Left Accumbens Area Volume                              float64\n",
      "Right Thalamus Proper Volume                            float64\n",
      "Right Caudate Volume                                    float64\n",
      "Right Putamen Volume                                    float64\n",
      "Right Pallidum Volume                                   float64\n",
      "Right Hippocampus Volume                                float64\n",
      "Right Amygdala Volume                                   float64\n",
      "Right Accumbens Area Volume                             float64\n",
      "Left Hemisphere Cortex Volume                           float64\n",
      "Left Hemisphere Cortical White Matter Volume            float64\n",
      "Left Caudal Anterior Cingulate Cortex Volume            float64\n",
      "Left Caudal Anterior Cingulate White Matter Volume      float64\n",
      "Left Caudal Middle Frontal Cortex Volume                float64\n",
      "Left Caudal Middle Frontal White Matter Volume          float64\n",
      "Left Cuneus Cortex Volume                               float64\n",
      "Left Cuneus White Matter Volume                         float64\n",
      "Left Entorhinal Cortex Volume                           float64\n",
      "Left Entorhinal White Matter Volume                     float64\n",
      "Left Fusiform Cortex Volume                             float64\n",
      "Left Fusiform White Matter Volume                       float64\n",
      "Left Inferior Parietal Cortex Volume                    float64\n",
      "Left Inferior Parietal White Matter Volume              float64\n",
      "Left Inferior Temporal Cortex Volume                    float64\n",
      "Left Inferior Temporal White Matter Volume              float64\n",
      "Left Isthmus Cingulate Cortex Volume                    float64\n",
      "Left Isthmus Cingulate White Matter Volume              float64\n",
      "Left Lateral Occipital Cortex Volume                    float64\n",
      "Left Lateral Occipital White Matter Volume              float64\n",
      "Left Lateral Orbitofrontal Cortex Volume                float64\n",
      "Left Lateral Orbitofrontal White Matter Volume          float64\n",
      "Left Lingual Cortex Volume                              float64\n",
      "Left Lingual White Matter Volume                        float64\n",
      "Left Medial Orbitofrontal Cortex Volume                 float64\n",
      "Left Medial Orbitofrontal White Matter Volume           float64\n",
      "Left Middle Temporal Cortex Volume                      float64\n",
      "Left Middle Temporal White Matter Volume                float64\n",
      "Left Parahippocampal Cortex Volume                      float64\n",
      "Left Parahippocampal White Matter Volume                float64\n",
      "Left Paracentral Cortex Volume                          float64\n",
      "Left Paracentral White Matter Volume                    float64\n",
      "Left Parsopercularis Cortex Volume                      float64\n",
      "Left Parsopercularis White Matter Volume                float64\n",
      "Left Parsorbitalis Cortex Volume                        float64\n",
      "Left Parsorbitalis White Matter Volume                  float64\n",
      "Left Parstriangularis Cortex Volume                     float64\n",
      "Left Parstriangularis White Matter Volume               float64\n",
      "Left Pericalcarine Cortex Volume                        float64\n",
      "Left Pericalcarine White Matter Volume                  float64\n",
      "Left Postcentral Cortex Volume                          float64\n",
      "Left Postcentral White Matter Volume                    float64\n",
      "Left Posterior Cingulate Cortex Volume                  float64\n",
      "Left Posterior Cingulate White Matter Volume            float64\n",
      "Left Precentral Cortex Volume                           float64\n",
      "Left Precentral White Matter Volume                     float64\n",
      "Left Precuneus Cortex Volume                            float64\n",
      "Left Precuneus White Matter Volume                      float64\n",
      "Left Rostral Anterior Cingulate Cortex Volume           float64\n",
      "Left Rostral Anterior Cingulate White Matter Volume     float64\n",
      "Left Rostral Middle Frontal Cortex Volume               float64\n",
      "Left Rostral Middle Frontal White Matter Volume         float64\n",
      "Left Superior Frontal Cortex Volume                     float64\n",
      "Left Superior Frontal White Matter Volume               float64\n",
      "Left Superior Parietal Cortex Volume                    float64\n",
      "Left Superior Parietal White Matter Volume              float64\n",
      "Left Superior Temporal Cortex Volume                    float64\n",
      "Left Superior Temporal White Matter Volume              float64\n",
      "Left Supramarginal Cortex Volume                        float64\n",
      "Left Supramarginal White Matter Volume                  float64\n",
      "Left Frontal Pole Cortex Volume                         float64\n",
      "Left Frontal Pole White Matter Volume                   float64\n",
      "Left Temporal Pole Cortex Volume                        float64\n",
      "Left Temporal Pole White Matter Volume                  float64\n",
      "Left Transverse Temporal Cortex Volume                  float64\n",
      "Left Transverse Temporal White Matter Volume            float64\n",
      "Left Insula Cortex Volume                               float64\n",
      "Left Insula White Matter Volume                         float64\n",
      "Right Hemisphere Cortex Volume                          float64\n",
      "Right Hemisphere Cortical White Matter Volume           float64\n",
      "Right Caudal Anterior Cingulate Cortex Volume           float64\n",
      "Right Caudal Anterior Cingulate White Matter Volume     float64\n",
      "Right Caudal Middle Frontal Cortex Volume               float64\n",
      "Right Caudal Middle Frontal White Matter Volume         float64\n",
      "Right Cuneus Cortex Volume                              float64\n",
      "Right Cuneus White Matter Volume                        float64\n",
      "Right Entorhinal Cortex Volume                          float64\n",
      "Right Entorhinal White Matter Volume                    float64\n",
      "Right Fusiform Cortex Volume                            float64\n",
      "Right Fusiform White Matter Volume                      float64\n",
      "Right Inferior Parietal Cortex Volume                   float64\n",
      "Right Inferior Parietal White Matter Volume             float64\n",
      "Right Inferior Temporal Cortex Volume                   float64\n",
      "Right Inferior Temporal White Matter Volume             float64\n",
      "Right Isthmus Cingulate Cortex Volume                   float64\n",
      "Right Isthmus Cingulate White Matter Volume             float64\n",
      "Right Lateral Occipital Cortex Volume                   float64\n",
      "Right Lateral Occipital White Matter Volume             float64\n",
      "Right Lateral Orbitofrontal Cortex Volume               float64\n",
      "Right Lateral Orbitofrontal White Matter Volume         float64\n",
      "Right Lingual Cortex Volume                             float64\n",
      "Right Lingual White Matter Volume                       float64\n",
      "Right Medial Orbitofrontal Cortex Volume                float64\n",
      "Right Medial Orbitofrontal White Matter Volume          float64\n",
      "Right Middle Temporal Cortex Volume                     float64\n",
      "Right Middle Temporal White Matter Volume               float64\n",
      "Right Parahippocampal Cortex Volume                     float64\n",
      "Right Paracentral Cortex Volume                         float64\n",
      "Right Paracentral White Matter Volume                   float64\n",
      "Right Parsopercularis Cortex Volume                     float64\n",
      "Right Parsopercularis White Matter Volume               float64\n",
      "Right Parsorbitalis Cortex Volume                       float64\n",
      "Right Parsorbitalis White Matter Volume                 float64\n",
      "Right Parstriangularis Cortex Volume                    float64\n",
      "Right Parstriangularis White Matter Volume              float64\n",
      "Right Pericalcarine Cortex Volume                       float64\n",
      "Right Pericalcarine White Matter Volume                 float64\n",
      "Right Postcentral Cortex Volume                         float64\n",
      "Right Postcentral White Matter Volume                   float64\n",
      "Right Posterior Cingulate Cortex Volume                 float64\n",
      "Right Posterior Cingulate White Matter Volume           float64\n",
      "Right Precentral Cortex Volume                          float64\n",
      "Right Precentral White Matter Volume                    float64\n",
      "Right Precuneus Cortex Volume                           float64\n",
      "Right Precuneus White Matter Volume                     float64\n",
      "Right Rostral Anterior Cingulate Cortex Volume          float64\n",
      "Right Rostral Anterior Cingulate White Matter Volume    float64\n",
      "Right Rostral Middle Frontal Cortex Volume              float64\n",
      "Right Rostral Middle Frontal White Matter Volume        float64\n",
      "Right Superior Frontal Cortex Volume                    float64\n",
      "Right Superior Frontal White Matter Volume              float64\n",
      "Right Superior Parietal Cortex Volume                   float64\n",
      "Right Superior Parietal White Matter Volume             float64\n",
      "Right Superior Temporal Cortex Volume                   float64\n",
      "Right Superior Temporal White Matter Volume             float64\n",
      "Right Supramarginal Cortex Volume                       float64\n",
      "Right Supramarginal White Matter Volume                 float64\n",
      "Right Frontal Pole Cortex Volume                        float64\n",
      "Right Frontal Pole White Matter Volume                  float64\n",
      "Right Temporal Pole Cortex Volume                       float64\n",
      "Right Temporal Pole White Matter Volume                 float64\n",
      "Right Insula Cortex Volume                              float64\n",
      "Right Insula White Matter Volume                        float64\n",
      "Right Parahippocampal White Matter Volume               float64\n",
      "Right Transverse Temporal Cortex Volume                 float64\n",
      "Right Transverse Temporal White Matter Volume           float64\n",
      "dtype: object\n"
     ]
    }
   ],
   "source": [
    "# Checking the datatypes\n",
    "with pd.option_context('display.max_rows', None, 'display.max_columns', None):\n",
    "    print(df_volumetrics.dtypes)"
   ]
  },
  {
   "cell_type": "code",
   "execution_count": 25,
   "metadata": {},
   "outputs": [
    {
     "data": {
      "text/html": [
       "<div>\n",
       "<style scoped>\n",
       "    .dataframe tbody tr th:only-of-type {\n",
       "        vertical-align: middle;\n",
       "    }\n",
       "\n",
       "    .dataframe tbody tr th {\n",
       "        vertical-align: top;\n",
       "    }\n",
       "\n",
       "    .dataframe thead th {\n",
       "        text-align: right;\n",
       "    }\n",
       "</style>\n",
       "<table border=\"1\" class=\"dataframe\">\n",
       "  <thead>\n",
       "    <tr style=\"text-align: right;\">\n",
       "      <th></th>\n",
       "      <th>Donor ID</th>\n",
       "      <th>Primary Study Name</th>\n",
       "      <th>Secondary Study Name</th>\n",
       "      <th>Age at Death</th>\n",
       "      <th>Sex</th>\n",
       "      <th>Race (choice=White)</th>\n",
       "      <th>Race (choice=Black/ African American)</th>\n",
       "      <th>Race (choice=Asian)</th>\n",
       "      <th>Race (choice=American Indian/ Alaska Native)</th>\n",
       "      <th>Race (choice=Native Hawaiian or Pacific Islander)</th>\n",
       "      <th>...</th>\n",
       "      <th>Braak</th>\n",
       "      <th>CERAD score</th>\n",
       "      <th>Overall CAA Score</th>\n",
       "      <th>Highest Lewy Body Disease</th>\n",
       "      <th>Total Microinfarcts (not observed grossly)</th>\n",
       "      <th>Total microinfarcts in screening sections</th>\n",
       "      <th>Atherosclerosis</th>\n",
       "      <th>Arteriolosclerosis</th>\n",
       "      <th>LATE</th>\n",
       "      <th>RIN</th>\n",
       "    </tr>\n",
       "  </thead>\n",
       "  <tbody>\n",
       "    <tr>\n",
       "      <th>0</th>\n",
       "      <td>H19.33.004</td>\n",
       "      <td>ACT</td>\n",
       "      <td>NaN</td>\n",
       "      <td>80</td>\n",
       "      <td>Female</td>\n",
       "      <td>Checked</td>\n",
       "      <td>Unchecked</td>\n",
       "      <td>Unchecked</td>\n",
       "      <td>Unchecked</td>\n",
       "      <td>Unchecked</td>\n",
       "      <td>...</td>\n",
       "      <td>Braak IV</td>\n",
       "      <td>Absent</td>\n",
       "      <td>Not identified</td>\n",
       "      <td>Not Identified (olfactory bulb not assessed)</td>\n",
       "      <td>1</td>\n",
       "      <td>1</td>\n",
       "      <td>Mild</td>\n",
       "      <td>Moderate</td>\n",
       "      <td>Not Identified</td>\n",
       "      <td>8.33</td>\n",
       "    </tr>\n",
       "    <tr>\n",
       "      <th>1</th>\n",
       "      <td>H20.33.001</td>\n",
       "      <td>ACT</td>\n",
       "      <td>NaN</td>\n",
       "      <td>82</td>\n",
       "      <td>Male</td>\n",
       "      <td>Checked</td>\n",
       "      <td>Unchecked</td>\n",
       "      <td>Unchecked</td>\n",
       "      <td>Unchecked</td>\n",
       "      <td>Unchecked</td>\n",
       "      <td>...</td>\n",
       "      <td>Braak IV</td>\n",
       "      <td>Sparse</td>\n",
       "      <td>Not identified</td>\n",
       "      <td>Not Identified (olfactory bulb not assessed)</td>\n",
       "      <td>0</td>\n",
       "      <td>0</td>\n",
       "      <td>Mild</td>\n",
       "      <td>Mild</td>\n",
       "      <td>LATE Stage 2</td>\n",
       "      <td>8.60</td>\n",
       "    </tr>\n",
       "    <tr>\n",
       "      <th>2</th>\n",
       "      <td>H20.33.002</td>\n",
       "      <td>ACT</td>\n",
       "      <td>NaN</td>\n",
       "      <td>90+</td>\n",
       "      <td>Female</td>\n",
       "      <td>Checked</td>\n",
       "      <td>Unchecked</td>\n",
       "      <td>Unchecked</td>\n",
       "      <td>Unchecked</td>\n",
       "      <td>Unchecked</td>\n",
       "      <td>...</td>\n",
       "      <td>Braak IV</td>\n",
       "      <td>Absent</td>\n",
       "      <td>Not identified</td>\n",
       "      <td>Limbic (Transitional)</td>\n",
       "      <td>0</td>\n",
       "      <td>0</td>\n",
       "      <td>Moderate</td>\n",
       "      <td>Moderate</td>\n",
       "      <td>LATE Stage 2</td>\n",
       "      <td>7.87</td>\n",
       "    </tr>\n",
       "    <tr>\n",
       "      <th>3</th>\n",
       "      <td>H20.33.004</td>\n",
       "      <td>ACT</td>\n",
       "      <td>NaN</td>\n",
       "      <td>86</td>\n",
       "      <td>Male</td>\n",
       "      <td>Checked</td>\n",
       "      <td>Unchecked</td>\n",
       "      <td>Unchecked</td>\n",
       "      <td>Unchecked</td>\n",
       "      <td>Unchecked</td>\n",
       "      <td>...</td>\n",
       "      <td>Braak V</td>\n",
       "      <td>Frequent</td>\n",
       "      <td>Moderate</td>\n",
       "      <td>Neocortical (Diffuse)</td>\n",
       "      <td>0</td>\n",
       "      <td>0</td>\n",
       "      <td>Mild</td>\n",
       "      <td>Severe</td>\n",
       "      <td>LATE Stage 1</td>\n",
       "      <td>7.83</td>\n",
       "    </tr>\n",
       "    <tr>\n",
       "      <th>4</th>\n",
       "      <td>H20.33.005</td>\n",
       "      <td>ACT</td>\n",
       "      <td>NaN</td>\n",
       "      <td>90+</td>\n",
       "      <td>Female</td>\n",
       "      <td>Checked</td>\n",
       "      <td>Unchecked</td>\n",
       "      <td>Unchecked</td>\n",
       "      <td>Unchecked</td>\n",
       "      <td>Unchecked</td>\n",
       "      <td>...</td>\n",
       "      <td>Braak IV</td>\n",
       "      <td>Moderate</td>\n",
       "      <td>Moderate</td>\n",
       "      <td>Not Identified (olfactory bulb not assessed)</td>\n",
       "      <td>2</td>\n",
       "      <td>2</td>\n",
       "      <td>Mild</td>\n",
       "      <td>Moderate</td>\n",
       "      <td>LATE Stage 1</td>\n",
       "      <td>8.40</td>\n",
       "    </tr>\n",
       "  </tbody>\n",
       "</table>\n",
       "<p>5 rows × 65 columns</p>\n",
       "</div>"
      ],
      "text/plain": [
       "     Donor ID Primary Study Name Secondary Study Name Age at Death     Sex  \\\n",
       "0  H19.33.004                ACT                  NaN           80  Female   \n",
       "1  H20.33.001                ACT                  NaN           82    Male   \n",
       "2  H20.33.002                ACT                  NaN          90+  Female   \n",
       "3  H20.33.004                ACT                  NaN           86    Male   \n",
       "4  H20.33.005                ACT                  NaN          90+  Female   \n",
       "\n",
       "  Race (choice=White) Race (choice=Black/ African American)  \\\n",
       "0             Checked                             Unchecked   \n",
       "1             Checked                             Unchecked   \n",
       "2             Checked                             Unchecked   \n",
       "3             Checked                             Unchecked   \n",
       "4             Checked                             Unchecked   \n",
       "\n",
       "  Race (choice=Asian) Race (choice=American Indian/ Alaska Native)  \\\n",
       "0           Unchecked                                    Unchecked   \n",
       "1           Unchecked                                    Unchecked   \n",
       "2           Unchecked                                    Unchecked   \n",
       "3           Unchecked                                    Unchecked   \n",
       "4           Unchecked                                    Unchecked   \n",
       "\n",
       "  Race (choice=Native Hawaiian or Pacific Islander)  ...     Braak  \\\n",
       "0                                         Unchecked  ...  Braak IV   \n",
       "1                                         Unchecked  ...  Braak IV   \n",
       "2                                         Unchecked  ...  Braak IV   \n",
       "3                                         Unchecked  ...   Braak V   \n",
       "4                                         Unchecked  ...  Braak IV   \n",
       "\n",
       "  CERAD score Overall CAA Score                     Highest Lewy Body Disease  \\\n",
       "0      Absent    Not identified  Not Identified (olfactory bulb not assessed)   \n",
       "1      Sparse    Not identified  Not Identified (olfactory bulb not assessed)   \n",
       "2      Absent    Not identified                         Limbic (Transitional)   \n",
       "3    Frequent          Moderate                         Neocortical (Diffuse)   \n",
       "4    Moderate          Moderate  Not Identified (olfactory bulb not assessed)   \n",
       "\n",
       "  Total Microinfarcts (not observed grossly)  \\\n",
       "0                                          1   \n",
       "1                                          0   \n",
       "2                                          0   \n",
       "3                                          0   \n",
       "4                                          2   \n",
       "\n",
       "   Total microinfarcts in screening sections Atherosclerosis  \\\n",
       "0                                          1            Mild   \n",
       "1                                          0            Mild   \n",
       "2                                          0        Moderate   \n",
       "3                                          0            Mild   \n",
       "4                                          2            Mild   \n",
       "\n",
       "  Arteriolosclerosis            LATE   RIN  \n",
       "0           Moderate  Not Identified  8.33  \n",
       "1               Mild    LATE Stage 2  8.60  \n",
       "2           Moderate    LATE Stage 2  7.87  \n",
       "3             Severe    LATE Stage 1  7.83  \n",
       "4           Moderate    LATE Stage 1  8.40  \n",
       "\n",
       "[5 rows x 65 columns]"
      ]
     },
     "execution_count": 25,
     "metadata": {},
     "output_type": "execute_result"
    }
   ],
   "source": [
    "df_meta.head()"
   ]
  },
  {
   "cell_type": "code",
   "execution_count": 26,
   "metadata": {
    "scrolled": false
   },
   "outputs": [
    {
     "name": "stdout",
     "output_type": "stream",
     "text": [
      "Donor ID                                                                         object\n",
      "Primary Study Name                                                               object\n",
      "Secondary Study Name                                                             object\n",
      "Age at Death                                                                     object\n",
      "Sex                                                                              object\n",
      "Race (choice=White)                                                              object\n",
      "Race (choice=Black/ African American)                                            object\n",
      "Race (choice=Asian)                                                              object\n",
      "Race (choice=American Indian/ Alaska Native)                                     object\n",
      "Race (choice=Native Hawaiian or Pacific Islander)                                object\n",
      "Race (choice=Unknown or unreported)                                              object\n",
      "Race (choice=Other)                                                              object\n",
      "specify other race                                                               object\n",
      "Hispanic/Latino                                                                  object\n",
      "Highest level of education                                                       object\n",
      "Years of education                                                                int64\n",
      "APOE4 Status                                                                     object\n",
      "Cognitive Status                                                                 object\n",
      "Age of onset cognitive symptoms                                                  object\n",
      "Age of Dementia diagnosis                                                        object\n",
      "Known head injury                                                                object\n",
      "Have they had neuroimaging                                                       object\n",
      "Consensus Clinical Dx (choice=Alzheimers disease)                                object\n",
      "Consensus Clinical Dx (choice=Alzheimers Possible/ Probable)                     object\n",
      "Consensus Clinical Dx (choice=Ataxia)                                            object\n",
      "Consensus Clinical Dx (choice=Corticobasal Degeneration)                         object\n",
      "Consensus Clinical Dx (choice=Control)                                           object\n",
      "Consensus Clinical Dx (choice=Dementia with Lewy Bodies/ Lewy Body Disease)      object\n",
      "Consensus Clinical Dx (choice=Frontotemporal lobar degeneration)                 object\n",
      "Consensus Clinical Dx (choice=Huntingtons disease)                               object\n",
      "Consensus Clinical Dx (choice=Motor Neuron disease)                              object\n",
      "Consensus Clinical Dx (choice=Multiple System Atrophy)                           object\n",
      "Consensus Clinical Dx (choice=Parkinsons disease)                                object\n",
      "Consensus Clinical Dx (choice=Parkinsons Cognitive Impairment - no dementia)     object\n",
      "Consensus Clinical Dx (choice=Parkinsons Disease Dementia)                       object\n",
      "Consensus Clinical Dx (choice=Prion)                                             object\n",
      "Consensus Clinical Dx (choice=Progressive Supranuclear Palsy)                    object\n",
      "Consensus Clinical Dx (choice=Taupathy)                                          object\n",
      "Consensus Clinical Dx (choice=Vascular Dementia)                                 object\n",
      "Consensus Clinical Dx (choice=Unknown)                                           object\n",
      "Consensus Clinical Dx (choice=Other)                                             object\n",
      "If other Consensus dx, describe                                                  object\n",
      "Last CASI Score                                                                 float64\n",
      "Interval from last CASI in months                                               float64\n",
      "Last MMSE Score                                                                 float64\n",
      "Interval from last MMSE in months                                               float64\n",
      "Last MOCA Score                                                                 float64\n",
      "Interval from last MOCA in months                                               float64\n",
      "PMI                                                                             float64\n",
      "Rapid Frozen Tissue Type                                                         object\n",
      "Ex Vivo Imaging                                                                  object\n",
      "Fresh Brain Weight                                                               object\n",
      "Brain pH                                                                        float64\n",
      "Overall AD neuropathological Change                                              object\n",
      "Thal                                                                             object\n",
      "Braak                                                                            object\n",
      "CERAD score                                                                      object\n",
      "Overall CAA Score                                                                object\n",
      "Highest Lewy Body Disease                                                        object\n",
      "Total Microinfarcts (not observed grossly)                                        int64\n",
      "Total microinfarcts in screening sections                                         int64\n",
      "Atherosclerosis                                                                  object\n",
      "Arteriolosclerosis                                                               object\n",
      "LATE                                                                             object\n",
      "RIN                                                                             float64\n",
      "dtype: object\n"
     ]
    }
   ],
   "source": [
    "# Checking the datatypes\n",
    "with pd.option_context('display.max_rows', None, 'display.max_columns', None):\n",
    "    print(df_meta.dtypes)"
   ]
  },
  {
   "cell_type": "markdown",
   "metadata": {},
   "source": [
    "First, some EDA by taking a look at some of the questions we asked of the datasets we found previously:"
   ]
  },
  {
   "cell_type": "code",
   "execution_count": 27,
   "metadata": {},
   "outputs": [
    {
     "data": {
      "text/plain": [
       "Female    51\n",
       "Male      33\n",
       "Name: Sex, dtype: int64"
      ]
     },
     "execution_count": 27,
     "metadata": {},
     "output_type": "execute_result"
    }
   ],
   "source": [
    "# We see that there are more females in this dataset than males. \n",
    "df_meta.Sex.value_counts()"
   ]
  },
  {
   "cell_type": "code",
   "execution_count": 28,
   "metadata": {},
   "outputs": [
    {
     "data": {
      "text/plain": [
       "No dementia    42\n",
       "Dementia       42\n",
       "Name: Cognitive Status, dtype: int64"
      ]
     },
     "execution_count": 28,
     "metadata": {},
     "output_type": "execute_result"
    }
   ],
   "source": [
    "# Equally studied the number of patients with and without dementia\n",
    "df_meta[\"Cognitive Status\"].value_counts()"
   ]
  },
  {
   "cell_type": "code",
   "execution_count": 29,
   "metadata": {},
   "outputs": [
    {
     "name": "stdout",
     "output_type": "stream",
     "text": [
      "Female:\n",
      "Dementia       27\n",
      "No dementia    24\n",
      "Name: Cognitive Status, dtype: int64\n",
      "\n",
      "Male:\n",
      "No dementia    18\n",
      "Dementia       15\n",
      "Name: Cognitive Status, dtype: int64\n"
     ]
    }
   ],
   "source": [
    "print(\"Female:\")\n",
    "print(df_meta[df_meta[\"Sex\"] == \"Female\"][\"Cognitive Status\"].value_counts())\n",
    "print(\"\\nMale:\")\n",
    "print(df_meta[df_meta[\"Sex\"] == \"Male\"][\"Cognitive Status\"].value_counts())"
   ]
  },
  {
   "cell_type": "code",
   "execution_count": 30,
   "metadata": {},
   "outputs": [
    {
     "name": "stdout",
     "output_type": "stream",
     "text": [
      "Unchecked    61\n",
      "Checked      23\n",
      "Name: Consensus Clinical Dx (choice=Alzheimers disease), dtype: int64\n",
      "Unchecked    75\n",
      "Checked       9\n",
      "Name: Consensus Clinical Dx (choice=Alzheimers Possible/ Probable), dtype: int64\n"
     ]
    }
   ],
   "source": [
    "print(df_meta[\"Consensus Clinical Dx (choice=Alzheimers disease)\"].value_counts())\n",
    "print(df_meta[\"Consensus Clinical Dx (choice=Alzheimers Possible/ Probable)\"].value_counts())\n",
    "\n",
    "# Need to find out what checked means -- did the doctor just check if they had it? or is it like t/f"
   ]
  },
  {
   "cell_type": "code",
   "execution_count": 31,
   "metadata": {},
   "outputs": [
    {
     "name": "stdout",
     "output_type": "stream",
     "text": [
      "Highest Education Level\n",
      "Graduate (PhD/Masters)       25\n",
      "Bachelors                    22\n",
      "High School                  18\n",
      "Trade School/ Tech School    15\n",
      "Professional                  4\n",
      "Name: Highest level of education, dtype: int64\n",
      "\n",
      "Years of Education\n",
      "16    17\n",
      "18    13\n",
      "12    12\n",
      "21    10\n",
      "15     8\n",
      "14     8\n",
      "17     7\n",
      "13     4\n",
      "20     3\n",
      "19     2\n",
      "Name: Years of education, dtype: int64\n"
     ]
    }
   ],
   "source": [
    "print(\"Highest Education Level\")\n",
    "print(df_meta[\"Highest level of education\"].value_counts())\n",
    "print(\"\\nYears of Education\")\n",
    "print(df_meta[\"Years of education\"].value_counts())"
   ]
  },
  {
   "cell_type": "code",
   "execution_count": 32,
   "metadata": {},
   "outputs": [
    {
     "data": {
      "text/plain": [
       "90+    46\n",
       "88      5\n",
       "82      4\n",
       "86      3\n",
       "89      3\n",
       "81      3\n",
       "83      3\n",
       "80      2\n",
       "85      2\n",
       "84      2\n",
       "75      2\n",
       "87      2\n",
       "77      1\n",
       "70      1\n",
       "78      1\n",
       "65      1\n",
       "69      1\n",
       "72      1\n",
       "68      1\n",
       "Name: Age at Death, dtype: int64"
      ]
     },
     "execution_count": 32,
     "metadata": {},
     "output_type": "execute_result"
    }
   ],
   "source": [
    "df_meta[\"Age at Death\"].value_counts()\n",
    "# issue with the 90+ category. For now, I'm changing it to be 90 to graph but unsure what we should do about this."
   ]
  },
  {
   "cell_type": "code",
   "execution_count": 33,
   "metadata": {},
   "outputs": [],
   "source": [
    "df_meta[\"Age at Death\"] = df_meta[\"Age at Death\"].replace(['90+'], '90')\n",
    "df_meta[\"Age at Death\"]= df_meta[\"Age at Death\"].astype(int)"
   ]
  },
  {
   "cell_type": "code",
   "execution_count": 34,
   "metadata": {},
   "outputs": [
    {
     "data": {
      "text/plain": [
       "Sex\n",
       "Female    AxesSubplot(0.125,0.125;0.775x0.755)\n",
       "Male      AxesSubplot(0.125,0.125;0.775x0.755)\n",
       "Name: Age at Death, dtype: object"
      ]
     },
     "execution_count": 34,
     "metadata": {},
     "output_type": "execute_result"
    },
    {
     "data": {
      "image/png": "[encoded data removed]",
      "text/plain": [
       "<Figure size 432x288 with 1 Axes>"
      ]
     },
     "metadata": {
      "needs_background": "light"
     },
     "output_type": "display_data"
    }
   ],
   "source": [
    "# Creating new dataframe with ages in accending order\n",
    "age_death_acc_meta = df_meta.sort_values('Age at Death')\n",
    "age_death_acc = age_death_acc_meta[age_death_acc_meta[\"Cognitive Status\"] == \"Dementia\"]\n",
    "age_death_acc.groupby(\"Sex\")[\"Age at Death\"].plot.hist(alpha=.5, density=True, legend=True, xlabel='Age of Indv. with Dementia')"
   ]
  },
  {
   "cell_type": "markdown",
   "metadata": {},
   "source": [
    "I don't really like this graph, but we did something similar above so I wanted to see what it looked like"
   ]
  },
  {
   "cell_type": "markdown",
   "metadata": {},
   "source": [
    "Other ideas of things we could plot:\n",
    "- a comparison of the brain volume of certain parts of the brain male v female, demented v non\n",
    "- a comparision of ages - onset of symptoms, diagnosis, death\n",
    "- look at differences across race\n",
    "- \n",
    "\n",
    "I still think it would be interesting to try to find an education set."
   ]
  },
  {
   "cell_type": "markdown",
   "metadata": {},
   "source": [
    "## MARISA EDA"
   ]
  },
  {
   "cell_type": "code",
   "execution_count": null,
   "metadata": {},
   "outputs": [],
   "source": []
  },
  {
   "cell_type": "code",
   "execution_count": null,
   "metadata": {},
   "outputs": [],
   "source": []
  },
  {
   "cell_type": "markdown",
   "metadata": {},
   "source": [
    "## ANNA EDA"
   ]
  },
  {
   "cell_type": "code",
   "execution_count": null,
   "metadata": {},
   "outputs": [],
   "source": []
  },
  {
   "cell_type": "code",
   "execution_count": null,
   "metadata": {},
   "outputs": [],
   "source": []
  },
  {
   "cell_type": "markdown",
   "metadata": {},
   "source": [
    "## Challenges and Final Thoughts\n"
   ]
  },
  {
   "cell_type": "markdown",
   "metadata": {},
   "source": [
    "#### Chalenges with Dataset 1: Comparisions Across Datasets\n",
    "\n",
    "1. ***Different Columns (Variables):*** The longitudinal data and cross-sectional data contained slightly different varibles from one another. For example, 'Group' only existed in one dataframe, so we had to map the Clinical Dementia Rating for each patient found in the cross-sectional data to their correpsonding group. \n",
    "2. ***'EDUC' Ambiguity:*** In the longitudinal data, the paper that was published alongside the dataset clearly states that Education Level means the number of years in formal education for that individual. However, in the cross-sectional data, the 'Educ' numbers are suspiciously low for being total years in formal education, education may be measured differently there. We must continue to dig into what the connection between these two variables may be.\n",
    "\n",
    "####  Plan Moving Forward and What We Still Need\n",
    "\n",
    "Our plan is to test whether there are statistically significant differences between gender and Alhzeimer's that have a across education and socioeconomic status. To supplement this data, we would like to find a dataset that contains more information on the relationships between socioeconomic status and education (perhaps breaks down this relationship into finer detail). We also plan to see if there are any gendered differences in dementia onset. Above, we began this exploration with looking at the age of onset. We plan to continue doing this at brain volume in comparision across genders and it's relation to dementia, although it would be helpful to find a dataset that included white matter mass."
   ]
  },
  {
   "cell_type": "markdown",
   "metadata": {},
   "source": [
    "##### Citations\n",
    "\n",
    "Brfss. (2022, August 29). https://www.cdc.gov/brfss/index.html\n",
    "\n",
    "Daniel S. Marcus, Anthony F. Fotenos, John G. Csernansky, John C. Morris, Randy L. Buckner; Open Access Series of Imaging Studies: Longitudinal MRI Data in Nondemented and Demented Older Adults. J Cogn Neurosci 2010; 22 (12): 2677–2684. https://direct.mit.edu/jocn/article/22/12/2677/4983/Open-Access-Series-of-Imaging-Studies-Longitudinal\n",
    "\n",
    "Marcus, D. S., Wang, T. H., Parker, J., Csernansky, J. G., Morris, J. C., & Buckner, R. L. (2007). Open access series of imaging studies (Oasis): Cross-sectional mri data in young, middle aged, nondemented, and demented older adults. Journal of Cognitive Neuroscience, 19(9), 1498–1507. https://doi.org/10.1162/jocn.2007.19.9.1498\n",
    "\n",
    "Mri and alzheimers. (n.d.). https://www.kaggle.com/datasets/jboysen/mri-and-alzheimers\n",
    "\n",
    "\n"
   ]
  }
 ],
 "metadata": {
  "colab": {
   "provenance": []
  },
  "kernelspec": {
   "display_name": "Python 3 (ipykernel)",
   "language": "python",
   "name": "python3"
  },
  "language_info": {
   "codemirror_mode": {
    "name": "ipython",
    "version": 3
   },
   "file_extension": ".py",
   "mimetype": "text/x-python",
   "name": "python",
   "nbconvert_exporter": "python",
   "pygments_lexer": "ipython3",
   "version": "3.9.7"
  }
 },
 "nbformat": 4,
 "nbformat_minor": 1
}
