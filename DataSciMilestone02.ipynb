{
 "cells": [
  {
   "cell_type": "markdown",
   "metadata": {
    "id": "fJjiusiv_9w3"
   },
   "source": [
    "Group Members: Marisa Long and Anna Schoeny\\\n",
    "Link to Github: https://marisalong.github.io\n",
    "# Exploratory Analysis of Alzheimer's Disease Datasets"
   ]
  },
  {
   "cell_type": "markdown",
   "metadata": {},
   "source": [
    "## **Collaboration Plan**\n",
    "Our team's meeting plan is to collaborate together once a week to keep up with the milestones for the final project. We plan to ideally meet in person late morning/early afternoon on Sundays. Meeting in person once a week will ensure that we are able to adequately communicate and delegate what each of us are working on and assist each other as necessary. We created a shared Github repository as our means of maintaining version control and collaboration for the project. The project board within our repository includes our to-do tasks so we are able to track our progress. "
   ]
  },
  {
   "cell_type": "markdown",
   "metadata": {},
   "source": [
    "## **Discussion of Datasets**\n",
    "Our team is interested in working with datasets related to Alzheimer's disease measuring features of patients such as clinical dimension rating, years of education, normalized whole brain volume, age, socioeconomic status, and more. We are particularly interested in working with datasets relating to Alzheimer's because our families have both been personally impacted by the disease. We are currently considering working with two particular datasets that we have uncovered in our search."
   ]
  },
  {
   "cell_type": "markdown",
   "metadata": {},
   "source": [
    "The  dataset that we performed some initial EDA on for the first milestone is [MRI and Alzheimer's](https://www.kaggle.com/datasets/jboysen/mri-and-alzheimers) taken from the [Open Access Series of Imaging Studies (OASIS)](http://www.oasis-brains.org/). This dataset includes MRI comparisons of adults with Alzheimer's and healthy adults. This dataset was initially interesting to our team because the this dataset has a high data usability score as assigned by Kaggle, which represents user ratings on the documentation of the data. This high score indicates that the data is in a state ready for our analysis. This dataset also includes both cross-sectional and longitudinal MRI data. The cross-sectional data highlights 416 subjects ranging from age 18 to 96 and details 3 to 4 MRI scans for each subject. Approximately $1\\over4$ of the subjects had been diagnosed with Alzheimer's disease. The longitudinal data follows the same sample of 150 subjects aged 60 to 96. These subjects were scanned two or more times with at least a year between imaging sessions. 64 of the subjects were diagnosed with Alzheimer's disease by the time of the first scan with an additional 14 diagnosed at one of the later scan visits. Using this data, we are hoping to be able to answer questions regarding the ability to predict dementia in patients based on features such as socioeconomic status or education. For example:\n",
    "- Was education a predictive feature for individuals who had dementia at the time of their first scan or who were diagnosed with dementia over the course of the study? \n",
    "- Was scioeconomic status a predictor for Alhziemer's?"
   ]
  },
  {
   "cell_type": "markdown",
   "metadata": {},
   "source": [
    "<mark>TALK ABOUT DATASETS ADDED IN MILESTONE 2\n",
    "    \n",
    "<mark> (Include questions we want to attack, discussion of why the data we are using is correct)"
   ]
  },
  {
   "cell_type": "markdown",
   "metadata": {},
   "source": [
    "#### Overarching Goal\n",
    "\n",
    "Our hope is that through asking questions of the data, we will be able to clearly display risk factors for dementia, especially pertaining to gender. We are interested in looking into the relationships between gender, age, education, and socioeconomic status and the onset of Alhzeimer's."
   ]
  },
  {
   "cell_type": "markdown",
   "metadata": {},
   "source": [
    "## Basic ETL (Extract, Transform, and Load) and EDA (Exploratory Data Analysis)\n",
    "#### REMINDER: Make sure to **PULL** before working. Also, **PUSH** work when you do something meaningful!"
   ]
  },
  {
   "cell_type": "code",
   "execution_count": 1,
   "metadata": {
    "scrolled": true
   },
   "outputs": [
    {
     "name": "stdout",
     "output_type": "stream",
     "text": [
      "/Users/annaschoeny/Desktop/TU/Senior/Sem1/DataScience/marisalong.github.io\r\n"
     ]
    }
   ],
   "source": [
    "# this is just to double check that you are in the correct directory\n",
    "!pwd\n",
    "import warnings\n",
    "warnings.filterwarnings('ignore') \n",
    "# just getting some weird warnings that we've looked into and are ignoring for now "
   ]
  },
  {
   "cell_type": "code",
   "execution_count": 2,
   "metadata": {
    "id": "5BESAGFRBWbI"
   },
   "outputs": [],
   "source": [
    "# importing necessary libraries for the analyzing the data\n",
    "import pandas as pd\n",
    "import matplotlib.pyplot as plt\n",
    "import numpy as np\n",
    "import seaborn as sns"
   ]
  },
  {
   "cell_type": "markdown",
   "metadata": {},
   "source": [
    "## Milestone 1 EDA"
   ]
  },
  {
   "cell_type": "markdown",
   "metadata": {
    "id": "U5GVlnvbA1DJ"
   },
   "source": [
    "### Previous Dataset: MRI and Alzheimer's\n",
    "Data from OASIS project"
   ]
  },
  {
   "cell_type": "code",
   "execution_count": 3,
   "metadata": {
    "colab": {
     "base_uri": "https://localhost:8080/",
     "height": 204
    },
    "id": "uoLbuwCSFBtS",
    "outputId": "0b064005-0aba-4203-e8f7-437e095ff623"
   },
   "outputs": [
    {
     "data": {
      "text/html": [
       "<div>\n",
       "<style scoped>\n",
       "    .dataframe tbody tr th:only-of-type {\n",
       "        vertical-align: middle;\n",
       "    }\n",
       "\n",
       "    .dataframe tbody tr th {\n",
       "        vertical-align: top;\n",
       "    }\n",
       "\n",
       "    .dataframe thead th {\n",
       "        text-align: right;\n",
       "    }\n",
       "</style>\n",
       "<table border=\"1\" class=\"dataframe\">\n",
       "  <thead>\n",
       "    <tr style=\"text-align: right;\">\n",
       "      <th></th>\n",
       "      <th>Subject ID</th>\n",
       "      <th>MRI ID</th>\n",
       "      <th>Group</th>\n",
       "      <th>Visit</th>\n",
       "      <th>MR Delay</th>\n",
       "      <th>M/F</th>\n",
       "      <th>Hand</th>\n",
       "      <th>Age</th>\n",
       "      <th>EDUC</th>\n",
       "      <th>SES</th>\n",
       "      <th>MMSE</th>\n",
       "      <th>CDR</th>\n",
       "      <th>eTIV</th>\n",
       "      <th>nWBV</th>\n",
       "      <th>ASF</th>\n",
       "    </tr>\n",
       "  </thead>\n",
       "  <tbody>\n",
       "    <tr>\n",
       "      <th>0</th>\n",
       "      <td>OAS2_0001</td>\n",
       "      <td>OAS2_0001_MR1</td>\n",
       "      <td>Nondemented</td>\n",
       "      <td>1</td>\n",
       "      <td>0</td>\n",
       "      <td>M</td>\n",
       "      <td>R</td>\n",
       "      <td>87</td>\n",
       "      <td>14</td>\n",
       "      <td>2.0</td>\n",
       "      <td>27.0</td>\n",
       "      <td>0.0</td>\n",
       "      <td>1987</td>\n",
       "      <td>0.696</td>\n",
       "      <td>0.883</td>\n",
       "    </tr>\n",
       "    <tr>\n",
       "      <th>1</th>\n",
       "      <td>OAS2_0001</td>\n",
       "      <td>OAS2_0001_MR2</td>\n",
       "      <td>Nondemented</td>\n",
       "      <td>2</td>\n",
       "      <td>457</td>\n",
       "      <td>M</td>\n",
       "      <td>R</td>\n",
       "      <td>88</td>\n",
       "      <td>14</td>\n",
       "      <td>2.0</td>\n",
       "      <td>30.0</td>\n",
       "      <td>0.0</td>\n",
       "      <td>2004</td>\n",
       "      <td>0.681</td>\n",
       "      <td>0.876</td>\n",
       "    </tr>\n",
       "    <tr>\n",
       "      <th>2</th>\n",
       "      <td>OAS2_0002</td>\n",
       "      <td>OAS2_0002_MR1</td>\n",
       "      <td>Demented</td>\n",
       "      <td>1</td>\n",
       "      <td>0</td>\n",
       "      <td>M</td>\n",
       "      <td>R</td>\n",
       "      <td>75</td>\n",
       "      <td>12</td>\n",
       "      <td>NaN</td>\n",
       "      <td>23.0</td>\n",
       "      <td>0.5</td>\n",
       "      <td>1678</td>\n",
       "      <td>0.736</td>\n",
       "      <td>1.046</td>\n",
       "    </tr>\n",
       "    <tr>\n",
       "      <th>3</th>\n",
       "      <td>OAS2_0002</td>\n",
       "      <td>OAS2_0002_MR2</td>\n",
       "      <td>Demented</td>\n",
       "      <td>2</td>\n",
       "      <td>560</td>\n",
       "      <td>M</td>\n",
       "      <td>R</td>\n",
       "      <td>76</td>\n",
       "      <td>12</td>\n",
       "      <td>NaN</td>\n",
       "      <td>28.0</td>\n",
       "      <td>0.5</td>\n",
       "      <td>1738</td>\n",
       "      <td>0.713</td>\n",
       "      <td>1.010</td>\n",
       "    </tr>\n",
       "    <tr>\n",
       "      <th>4</th>\n",
       "      <td>OAS2_0002</td>\n",
       "      <td>OAS2_0002_MR3</td>\n",
       "      <td>Demented</td>\n",
       "      <td>3</td>\n",
       "      <td>1895</td>\n",
       "      <td>M</td>\n",
       "      <td>R</td>\n",
       "      <td>80</td>\n",
       "      <td>12</td>\n",
       "      <td>NaN</td>\n",
       "      <td>22.0</td>\n",
       "      <td>0.5</td>\n",
       "      <td>1698</td>\n",
       "      <td>0.701</td>\n",
       "      <td>1.034</td>\n",
       "    </tr>\n",
       "  </tbody>\n",
       "</table>\n",
       "</div>"
      ],
      "text/plain": [
       "  Subject ID         MRI ID        Group  Visit  MR Delay M/F Hand  Age  EDUC  \\\n",
       "0  OAS2_0001  OAS2_0001_MR1  Nondemented      1         0   M    R   87    14   \n",
       "1  OAS2_0001  OAS2_0001_MR2  Nondemented      2       457   M    R   88    14   \n",
       "2  OAS2_0002  OAS2_0002_MR1     Demented      1         0   M    R   75    12   \n",
       "3  OAS2_0002  OAS2_0002_MR2     Demented      2       560   M    R   76    12   \n",
       "4  OAS2_0002  OAS2_0002_MR3     Demented      3      1895   M    R   80    12   \n",
       "\n",
       "   SES  MMSE  CDR  eTIV   nWBV    ASF  \n",
       "0  2.0  27.0  0.0  1987  0.696  0.883  \n",
       "1  2.0  30.0  0.0  2004  0.681  0.876  \n",
       "2  NaN  23.0  0.5  1678  0.736  1.046  \n",
       "3  NaN  28.0  0.5  1738  0.713  1.010  \n",
       "4  NaN  22.0  0.5  1698  0.701  1.034  "
      ]
     },
     "execution_count": 3,
     "metadata": {},
     "output_type": "execute_result"
    }
   ],
   "source": [
    "# Read in the longitudinal data and take a peek\n",
    "df_alhz_long = pd.read_csv('./data/oasis_longitudinal.csv')\n",
    "df_alhz_long.head()"
   ]
  },
  {
   "cell_type": "markdown",
   "metadata": {},
   "source": [
    "Here are the datatypes for this dataframe:"
   ]
  },
  {
   "cell_type": "code",
   "execution_count": 4,
   "metadata": {},
   "outputs": [
    {
     "data": {
      "text/plain": [
       "Subject ID     object\n",
       "MRI ID         object\n",
       "Group          object\n",
       "Visit           int64\n",
       "MR Delay        int64\n",
       "M/F            object\n",
       "Hand           object\n",
       "Age             int64\n",
       "EDUC            int64\n",
       "SES           float64\n",
       "MMSE          float64\n",
       "CDR           float64\n",
       "eTIV            int64\n",
       "nWBV          float64\n",
       "ASF           float64\n",
       "dtype: object"
      ]
     },
     "execution_count": 4,
     "metadata": {},
     "output_type": "execute_result"
    }
   ],
   "source": [
    "df_alhz_long.dtypes"
   ]
  },
  {
   "cell_type": "code",
   "execution_count": 5,
   "metadata": {},
   "outputs": [
    {
     "data": {
      "text/plain": [
       "Nondemented    190\n",
       "Demented       146\n",
       "Converted       37\n",
       "Name: Group, dtype: int64"
      ]
     },
     "execution_count": 5,
     "metadata": {},
     "output_type": "execute_result"
    }
   ],
   "source": [
    "# Looking at what type of patients make up this dataset\n",
    "\n",
    "df_alhz_long['Group'].value_counts()"
   ]
  },
  {
   "cell_type": "markdown",
   "metadata": {},
   "source": [
    "### Questions for Previous Dataset (Longitudinal):"
   ]
  },
  {
   "cell_type": "markdown",
   "metadata": {},
   "source": [
    "#### What is the average level of education (variable 'EDUC') of demented vs non-demented vs converted individuals?"
   ]
  },
  {
   "cell_type": "code",
   "execution_count": 6,
   "metadata": {},
   "outputs": [
    {
     "data": {
      "text/plain": [
       "13.67123287671233"
      ]
     },
     "execution_count": 6,
     "metadata": {},
     "output_type": "execute_result"
    }
   ],
   "source": [
    "# Average Education level for demented individuals\n",
    "df_alhz_long[df_alhz_long.Group == \"Demented\"].EDUC.mean()"
   ]
  },
  {
   "cell_type": "code",
   "execution_count": 7,
   "metadata": {},
   "outputs": [
    {
     "data": {
      "text/plain": [
       "15.142105263157895"
      ]
     },
     "execution_count": 7,
     "metadata": {},
     "output_type": "execute_result"
    }
   ],
   "source": [
    "# Average Education level for nondemented individuals\n",
    "df_alhz_long[df_alhz_long.Group == \"Nondemented\"].EDUC.mean()"
   ]
  },
  {
   "cell_type": "code",
   "execution_count": 8,
   "metadata": {},
   "outputs": [
    {
     "data": {
      "text/plain": [
       "15.45945945945946"
      ]
     },
     "execution_count": 8,
     "metadata": {},
     "output_type": "execute_result"
    }
   ],
   "source": [
    "# Average Education level for converted individuals\n",
    "df_alhz_long[df_alhz_long.Group == \"Converted\"].EDUC.mean()"
   ]
  },
  {
   "cell_type": "code",
   "execution_count": 9,
   "metadata": {},
   "outputs": [
    {
     "data": {
      "text/plain": [
       "14.032786885245901"
      ]
     },
     "execution_count": 9,
     "metadata": {},
     "output_type": "execute_result"
    }
   ],
   "source": [
    "# Average Education level for all individuals who ended with dementia\n",
    "df_alhz_long[(df_alhz_long.Group == \"Demented\") | (df_alhz_long.Group == \"Converted\")].EDUC.mean()"
   ]
  },
  {
   "cell_type": "markdown",
   "metadata": {},
   "source": [
    "One hypothesis we have based on this brief summary of education level is that education slows cognitive decline. This is suppored by the data above, where demented individuals have and average of 13.7 years, nondemented individuals have an average of 15.1 years, and converted individuals have 15.5 years. Looking at education differences among clinically demented vs nondemented individuals will help us determine how strongly education level may predict Alhzeimer's."
   ]
  },
  {
   "cell_type": "markdown",
   "metadata": {},
   "source": [
    "#### How are education and socioeconomic status related in this sample?"
   ]
  },
  {
   "cell_type": "code",
   "execution_count": 10,
   "metadata": {},
   "outputs": [
    {
     "data": {
      "text/plain": [
       "-0.7226472777909835"
      ]
     },
     "execution_count": 10,
     "metadata": {},
     "output_type": "execute_result"
    }
   ],
   "source": [
    "df_alhz_long[\"EDUC\"].corr(df_alhz_long[\"SES\"])"
   ]
  },
  {
   "cell_type": "markdown",
   "metadata": {},
   "source": [
    "At first glance, a strong negative correlation between education level and socioeconomic status was suprising. However, when we read the publication that came out alongside this dataset, they authors explained that 'SES' is ranked using the Hollingshead Index of Social Position and has 1 being the highest status, where 5 is the lowest. Therefore, this statistic shows that individuals from a higher socioeconomic status were likely to recieve more education than those of lower socioeconomic statuses. Through our further exploration, we hope to uncover the relationship between socioeconomic status, education, and dementia."
   ]
  },
  {
   "cell_type": "markdown",
   "metadata": {},
   "source": [
    "#### How old were people in this dataset when they had their first MRI scan for dementia?"
   ]
  },
  {
   "cell_type": "code",
   "execution_count": 11,
   "metadata": {},
   "outputs": [
    {
     "data": {
      "text/plain": [
       "75.44666666666667"
      ]
     },
     "execution_count": 11,
     "metadata": {},
     "output_type": "execute_result"
    }
   ],
   "source": [
    "# Filtering data to get just the first visit\n",
    "first_visit = df_alhz_long[df_alhz_long.Visit == 1]\n",
    "\n",
    "#Take mean of age of filtered data\n",
    "first_visit.Age.mean()"
   ]
  },
  {
   "cell_type": "code",
   "execution_count": 12,
   "metadata": {},
   "outputs": [
    {
     "data": {
      "text/plain": [
       "7.545421000584566"
      ]
     },
     "execution_count": 12,
     "metadata": {},
     "output_type": "execute_result"
    }
   ],
   "source": [
    "# Take standard deviation of age of filtered data\n",
    "first_visit.Age.std()"
   ]
  },
  {
   "cell_type": "markdown",
   "metadata": {},
   "source": [
    "The mean age of patients on their first visit was 74.4 years old, and this dataset had a standard deviation of 7.5. This shows that this dataset focuses heavily on Alhzeimer's and dementia in older individuals, rather than also considering early onset Alzheimer's. Looking at age allows us to understand the timeframe for dementia onset. "
   ]
  },
  {
   "cell_type": "markdown",
   "metadata": {},
   "source": [
    "#### How does the number of females vs males with dementia compare in this dataset?"
   ]
  },
  {
   "cell_type": "code",
   "execution_count": 13,
   "metadata": {},
   "outputs": [
    {
     "data": {
      "text/plain": [
       "M/F\n",
       "F    AxesSubplot(0.125,0.125;0.775x0.755)\n",
       "M    AxesSubplot(0.125,0.125;0.775x0.755)\n",
       "Name: Age, dtype: object"
      ]
     },
     "execution_count": 13,
     "metadata": {},
     "output_type": "execute_result"
    },
    {
     "data": {
      "image/png": "[encoded data removed]",
      "text/plain": [
       "<Figure size 432x288 with 1 Axes>"
      ]
     },
     "metadata": {
      "needs_background": "light"
     },
     "output_type": "display_data"
    }
   ],
   "source": [
    "# Creating new dataframe with ages in accending order\n",
    "age_accending_dementia = df_alhz_long.sort_values('Age')\n",
    "age_accending_dementia = age_accending_dementia[age_accending_dementia.Group == \"Demented\"]\n",
    "age_accending_dementia.groupby(\"M/F\").Age.plot.hist(alpha=.5, density=True, legend=True, xlabel='Age of Indv. with Dementia')"
   ]
  },
  {
   "cell_type": "markdown",
   "metadata": {},
   "source": [
    "Compared to the male data, the female data appears to be more right-skewed. This allows us to hypothesize that women on average are older than men when they are affected by Alhzeimer's. This is relevant to our main goal as one of the variables we are focusing on is gendered differences in Alzheimer's."
   ]
  },
  {
   "cell_type": "markdown",
   "metadata": {},
   "source": [
    "This dataset also includes cross-sectional data from the same research lab, which is included below:"
   ]
  },
  {
   "cell_type": "code",
   "execution_count": 14,
   "metadata": {
    "colab": {
     "base_uri": "https://localhost:8080/",
     "height": 204
    },
    "id": "e9z7jpsRG0d9",
    "outputId": "52d769a8-90bd-4aa2-a3e0-87d829eef9fa"
   },
   "outputs": [
    {
     "data": {
      "text/html": [
       "<div>\n",
       "<style scoped>\n",
       "    .dataframe tbody tr th:only-of-type {\n",
       "        vertical-align: middle;\n",
       "    }\n",
       "\n",
       "    .dataframe tbody tr th {\n",
       "        vertical-align: top;\n",
       "    }\n",
       "\n",
       "    .dataframe thead th {\n",
       "        text-align: right;\n",
       "    }\n",
       "</style>\n",
       "<table border=\"1\" class=\"dataframe\">\n",
       "  <thead>\n",
       "    <tr style=\"text-align: right;\">\n",
       "      <th></th>\n",
       "      <th>ID</th>\n",
       "      <th>M/F</th>\n",
       "      <th>Hand</th>\n",
       "      <th>Age</th>\n",
       "      <th>Educ</th>\n",
       "      <th>SES</th>\n",
       "      <th>MMSE</th>\n",
       "      <th>CDR</th>\n",
       "      <th>eTIV</th>\n",
       "      <th>nWBV</th>\n",
       "      <th>ASF</th>\n",
       "      <th>Delay</th>\n",
       "    </tr>\n",
       "  </thead>\n",
       "  <tbody>\n",
       "    <tr>\n",
       "      <th>0</th>\n",
       "      <td>OAS1_0001_MR1</td>\n",
       "      <td>F</td>\n",
       "      <td>R</td>\n",
       "      <td>74</td>\n",
       "      <td>2.0</td>\n",
       "      <td>3.0</td>\n",
       "      <td>29.0</td>\n",
       "      <td>0.0</td>\n",
       "      <td>1344</td>\n",
       "      <td>0.743</td>\n",
       "      <td>1.306</td>\n",
       "      <td>NaN</td>\n",
       "    </tr>\n",
       "    <tr>\n",
       "      <th>1</th>\n",
       "      <td>OAS1_0002_MR1</td>\n",
       "      <td>F</td>\n",
       "      <td>R</td>\n",
       "      <td>55</td>\n",
       "      <td>4.0</td>\n",
       "      <td>1.0</td>\n",
       "      <td>29.0</td>\n",
       "      <td>0.0</td>\n",
       "      <td>1147</td>\n",
       "      <td>0.810</td>\n",
       "      <td>1.531</td>\n",
       "      <td>NaN</td>\n",
       "    </tr>\n",
       "    <tr>\n",
       "      <th>2</th>\n",
       "      <td>OAS1_0003_MR1</td>\n",
       "      <td>F</td>\n",
       "      <td>R</td>\n",
       "      <td>73</td>\n",
       "      <td>4.0</td>\n",
       "      <td>3.0</td>\n",
       "      <td>27.0</td>\n",
       "      <td>0.5</td>\n",
       "      <td>1454</td>\n",
       "      <td>0.708</td>\n",
       "      <td>1.207</td>\n",
       "      <td>NaN</td>\n",
       "    </tr>\n",
       "    <tr>\n",
       "      <th>3</th>\n",
       "      <td>OAS1_0004_MR1</td>\n",
       "      <td>M</td>\n",
       "      <td>R</td>\n",
       "      <td>28</td>\n",
       "      <td>NaN</td>\n",
       "      <td>NaN</td>\n",
       "      <td>NaN</td>\n",
       "      <td>NaN</td>\n",
       "      <td>1588</td>\n",
       "      <td>0.803</td>\n",
       "      <td>1.105</td>\n",
       "      <td>NaN</td>\n",
       "    </tr>\n",
       "    <tr>\n",
       "      <th>4</th>\n",
       "      <td>OAS1_0005_MR1</td>\n",
       "      <td>M</td>\n",
       "      <td>R</td>\n",
       "      <td>18</td>\n",
       "      <td>NaN</td>\n",
       "      <td>NaN</td>\n",
       "      <td>NaN</td>\n",
       "      <td>NaN</td>\n",
       "      <td>1737</td>\n",
       "      <td>0.848</td>\n",
       "      <td>1.010</td>\n",
       "      <td>NaN</td>\n",
       "    </tr>\n",
       "  </tbody>\n",
       "</table>\n",
       "</div>"
      ],
      "text/plain": [
       "              ID M/F Hand  Age  Educ  SES  MMSE  CDR  eTIV   nWBV    ASF  \\\n",
       "0  OAS1_0001_MR1   F    R   74   2.0  3.0  29.0  0.0  1344  0.743  1.306   \n",
       "1  OAS1_0002_MR1   F    R   55   4.0  1.0  29.0  0.0  1147  0.810  1.531   \n",
       "2  OAS1_0003_MR1   F    R   73   4.0  3.0  27.0  0.5  1454  0.708  1.207   \n",
       "3  OAS1_0004_MR1   M    R   28   NaN  NaN   NaN  NaN  1588  0.803  1.105   \n",
       "4  OAS1_0005_MR1   M    R   18   NaN  NaN   NaN  NaN  1737  0.848  1.010   \n",
       "\n",
       "   Delay  \n",
       "0    NaN  \n",
       "1    NaN  \n",
       "2    NaN  \n",
       "3    NaN  \n",
       "4    NaN  "
      ]
     },
     "execution_count": 14,
     "metadata": {},
     "output_type": "execute_result"
    }
   ],
   "source": [
    "# Read in the cross-sectional data and take a peek\n",
    "df_alhz_cross = pd.read_csv('./data/oasis_cross-sectional.csv')\n",
    "df_alhz_cross.head()"
   ]
  },
  {
   "cell_type": "markdown",
   "metadata": {},
   "source": [
    "Here are the datatypes of the dataframe:"
   ]
  },
  {
   "cell_type": "code",
   "execution_count": 15,
   "metadata": {},
   "outputs": [
    {
     "data": {
      "text/plain": [
       "ID        object\n",
       "M/F       object\n",
       "Hand      object\n",
       "Age        int64\n",
       "Educ     float64\n",
       "SES      float64\n",
       "MMSE     float64\n",
       "CDR      float64\n",
       "eTIV       int64\n",
       "nWBV     float64\n",
       "ASF      float64\n",
       "Delay    float64\n",
       "dtype: object"
      ]
     },
     "execution_count": 15,
     "metadata": {},
     "output_type": "execute_result"
    }
   ],
   "source": [
    "df_alhz_cross.dtypes"
   ]
  },
  {
   "cell_type": "markdown",
   "metadata": {},
   "source": [
    "Note: This the cross-sectional data does not have a group column that classifies the patients as demented, nondemented or converted like the longitudinal dataset does. However, they still include the Clinical Dementia Rating (CDR) that describes the level of dementia. According to the CDR, these are the classifications:\n",
    "0 = no dementia, \n",
    "0.5 = very mild AD, \n",
    "1 = mild AD, \n",
    "2 = moderate AD.\n",
    "\n",
    "To make the data more easily comparable to the longitudinal data, we used this quantitative variable to create a categorical variable with the three states.  "
   ]
  },
  {
   "cell_type": "code",
   "execution_count": 16,
   "metadata": {},
   "outputs": [
    {
     "data": {
      "text/plain": [
       "Nondemented    135\n",
       "Demented       100\n",
       "Name: Group, dtype: int64"
      ]
     },
     "execution_count": 16,
     "metadata": {},
     "output_type": "execute_result"
    }
   ],
   "source": [
    "#Create a Group variable for cross-sectional data\n",
    "df_alhz_cross['Group'] = df_alhz_cross['CDR'].map({\n",
    "    0.0: 'Nondemented',\n",
    "    0.5: 'Demented',\n",
    "    1.0: 'Demented',\n",
    "    1.5:'Demented',\n",
    "    2.0:'Demented'\n",
    "})\n",
    "\n",
    "# Look at how many individuals fall into each category\n",
    "df_alhz_cross['Group'].value_counts()"
   ]
  },
  {
   "cell_type": "markdown",
   "metadata": {},
   "source": [
    "### Questions for Previous Dataset (Cross Sectional):"
   ]
  },
  {
   "cell_type": "markdown",
   "metadata": {},
   "source": [
    "#### What is the average level of education (variable 'EDUC') of demented vs non-demented vs converted individuals?"
   ]
  },
  {
   "cell_type": "code",
   "execution_count": 17,
   "metadata": {},
   "outputs": [
    {
     "data": {
      "text/plain": [
       "2.82"
      ]
     },
     "execution_count": 17,
     "metadata": {},
     "output_type": "execute_result"
    }
   ],
   "source": [
    "# Average Education level for demented individuals\n",
    "df_alhz_cross[df_alhz_cross.Group == \"Demented\"].Educ.mean()"
   ]
  },
  {
   "cell_type": "code",
   "execution_count": 18,
   "metadata": {},
   "outputs": [
    {
     "data": {
      "text/plain": [
       "3.4444444444444446"
      ]
     },
     "execution_count": 18,
     "metadata": {},
     "output_type": "execute_result"
    }
   ],
   "source": [
    "# Average Education level for nondemented individuals\n",
    "df_alhz_cross[df_alhz_cross.Group == \"Nondemented\"].Educ.mean()"
   ]
  },
  {
   "cell_type": "markdown",
   "metadata": {},
   "source": [
    "This is consisted with the dataframe above, showing that on average nondemented individuals had a higher education level than the demented individuals. This does appear to be on a different scale, which we address in our commentary below. "
   ]
  },
  {
   "cell_type": "markdown",
   "metadata": {},
   "source": [
    "#### How are education and socioeconomic status related in this sample?"
   ]
  },
  {
   "cell_type": "code",
   "execution_count": 19,
   "metadata": {},
   "outputs": [
    {
     "data": {
      "text/plain": [
       "-0.7423610355426756"
      ]
     },
     "execution_count": 19,
     "metadata": {},
     "output_type": "execute_result"
    }
   ],
   "source": [
    "df_alhz_cross[\"Educ\"].corr(df_alhz_cross[\"SES\"])"
   ]
  },
  {
   "cell_type": "markdown",
   "metadata": {},
   "source": [
    "Similar to the longitudinal data, this statistic shows that individuals from a higher socioeconomic status were likely to recieve more education than those of lower socioeconomic statuses. The correlation is also very similar, with it being -0.74 in the cross-sectional data compared to -0.72 in the longitudinal data. "
   ]
  },
  {
   "cell_type": "markdown",
   "metadata": {},
   "source": [
    "#### How old were people in this dataset when they had their MRI to scan for dementia?"
   ]
  },
  {
   "cell_type": "code",
   "execution_count": 20,
   "metadata": {},
   "outputs": [
    {
     "data": {
      "text/plain": [
       "51.357798165137616"
      ]
     },
     "execution_count": 20,
     "metadata": {},
     "output_type": "execute_result"
    }
   ],
   "source": [
    "#Take mean of age\n",
    "df_alhz_cross.Age.mean()"
   ]
  },
  {
   "cell_type": "code",
   "execution_count": 21,
   "metadata": {},
   "outputs": [
    {
     "data": {
      "text/plain": [
       "25.269862268101562"
      ]
     },
     "execution_count": 21,
     "metadata": {},
     "output_type": "execute_result"
    }
   ],
   "source": [
    "# Take standard deviation of age\n",
    "df_alhz_cross.Age.std()"
   ]
  },
  {
   "cell_type": "markdown",
   "metadata": {},
   "source": [
    "The mean age of patients when they got their MRI scan was 51.3 years old, which is much younger than the previous dataset. This dataset also had a much bigger spread in regards to age, with the standard deviation of 25.3. This tells us that the cross-sectional dataset could contain cases of early onset Alzheimer's. This will allow us to look at a wider range of Alhzeimer's onset data."
   ]
  },
  {
   "cell_type": "markdown",
   "metadata": {},
   "source": [
    "#### How does the number of females vs males with dementia compare in this dataset?"
   ]
  },
  {
   "cell_type": "code",
   "execution_count": 22,
   "metadata": {},
   "outputs": [
    {
     "data": {
      "text/plain": [
       "M/F\n",
       "F    AxesSubplot(0.125,0.125;0.775x0.755)\n",
       "M    AxesSubplot(0.125,0.125;0.775x0.755)\n",
       "Name: Age, dtype: object"
      ]
     },
     "execution_count": 22,
     "metadata": {},
     "output_type": "execute_result"
    },
    {
     "data": {
      "image/png": "[encoded data removed]",
      "text/plain": [
       "<Figure size 432x288 with 1 Axes>"
      ]
     },
     "metadata": {
      "needs_background": "light"
     },
     "output_type": "display_data"
    }
   ],
   "source": [
    "# Creating new dataframe with ages in accending order\n",
    "age_accending_cross = df_alhz_cross.sort_values('Age')\n",
    "age_accending = age_accending_cross[age_accending_cross.Group == \"Demented\"]\n",
    "age_accending.groupby(\"M/F\").Age.plot.hist(alpha=.5, density=True, legend=True, xlabel='Age of Indv. with Dementia')"
   ]
  },
  {
   "cell_type": "markdown",
   "metadata": {},
   "source": [
    "From this graphic, we see that females have a wider range of ages. This differs from the longtidudinal data and indicates that we have to dig deeper before drawing conclusions on our gender hypothesis.\n",
    "\n",
    "\n",
    "\n",
    "\n"
   ]
  },
  {
   "cell_type": "markdown",
   "metadata": {},
   "source": [
    "## Milestone 2 EDA"
   ]
  },
  {
   "cell_type": "markdown",
   "metadata": {},
   "source": [
    "For our milestone 2 dataset, we were interested in introducing some brain imaging data to gain a further picture of what is related to cognitive decline. These two datasets are linked via the DonorID, but are currently held in separate tables."
   ]
  },
  {
   "cell_type": "markdown",
   "metadata": {},
   "source": [
    "### New Dataset: Metadata"
   ]
  },
  {
   "cell_type": "code",
   "execution_count": 23,
   "metadata": {},
   "outputs": [],
   "source": [
    "# Read in the data \n",
    "df_meta_complete = pd.read_csv('./data/sea-ad_cohort_donor_metadata_082222.csv')"
   ]
  },
  {
   "cell_type": "code",
   "execution_count": 24,
   "metadata": {},
   "outputs": [],
   "source": [
    "# Making a dataframe with only the columns we want to examine at this point\n",
    "df_meta = df_meta_complete[['Donor ID', 'Age at Death', 'Sex', 'Race (choice=White)', 'Race (choice=Black/ African American)', 'Race (choice=Asian)', 'Race (choice=American Indian/ Alaska Native)', 'Race (choice=Native Hawaiian or Pacific Islander)', 'Race (choice=Unknown or unreported)', 'Race (choice=Other)','Hispanic/Latino', 'Highest level of education', 'Years of education', 'Cognitive Status', 'Age of onset cognitive symptoms', 'Age of Dementia diagnosis', 'Known head injury', 'Fresh Brain Weight', 'Brain pH', 'Last MMSE Score']]"
   ]
  },
  {
   "cell_type": "markdown",
   "metadata": {},
   "source": [
    "Before completing our EDA, we wanted to clean up the dataframe to make it more easily readable."
   ]
  },
  {
   "cell_type": "code",
   "execution_count": 25,
   "metadata": {},
   "outputs": [],
   "source": [
    "# Want to clean up the Race columns into one simple column\n",
    "df = pd.DataFrame()\n",
    "df[\"Race (choice=White)\"] = df_meta[\"Race (choice=White)\"].map({\n",
    "    'Checked': 1, \n",
    "    'Unchecked': 0\n",
    "})\n",
    "df[\"Race (choice=Black/ African American)\"] = df_meta[\"Race (choice=Black/ African American)\"].map({\n",
    "    'Checked': 1, \n",
    "    'Unchecked': 0\n",
    "})\n",
    "df[\"Race (choice=Asian)\"] = df_meta[\"Race (choice=Asian)\"].map({\n",
    "    'Checked': 1, \n",
    "    'Unchecked': 0\n",
    "})\n",
    "df[\"Race (choice=American Indian/ Alaska Native)\"] = df_meta[\"Race (choice=American Indian/ Alaska Native)\"].map({\n",
    "    'Checked': 1, \n",
    "    'Unchecked': 0\n",
    "})\n",
    "df[\"Race (choice=Native Hawaiian or Pacific Islander)\"] = df_meta[\"Race (choice=Native Hawaiian or Pacific Islander)\"].map({\n",
    "    'Checked': 1, \n",
    "    'Unchecked': 0\n",
    "})\n",
    "df[\"Race (choice=Unknown or unreported)\"] = df_meta[\"Race (choice=Unknown or unreported)\"].map({\n",
    "    'Checked': 1, \n",
    "    'Unchecked': 0\n",
    "})\n",
    "df[\"Race (choice=Other)\"] = df_meta[\"Race (choice=Other)\"].map({\n",
    "    'Checked': 1, \n",
    "    'Unchecked': 0\n",
    "})"
   ]
  },
  {
   "cell_type": "code",
   "execution_count": 26,
   "metadata": {},
   "outputs": [],
   "source": [
    "new_df = df.idxmax(axis=1)\n",
    "df_meta[\"Race\"] = new_df.values"
   ]
  },
  {
   "cell_type": "code",
   "execution_count": 27,
   "metadata": {},
   "outputs": [],
   "source": [
    "df_meta.drop(['Race (choice=White)', 'Race (choice=Black/ African American)', \"Race (choice=Asian)\", \"Race (choice=American Indian/ Alaska Native)\", \"Race (choice=Native Hawaiian or Pacific Islander)\", \"Race (choice=Unknown or unreported)\", \"Race (choice=Other)\"], axis=1, inplace=True)"
   ]
  },
  {
   "cell_type": "code",
   "execution_count": 28,
   "metadata": {},
   "outputs": [],
   "source": [
    "df_meta[\"Race\"] = df_meta[\"Race\"].map({\n",
    "    'Race (choice=White)': \"White\", \n",
    "    'Race (choice=Black/ African American)': \"Black/African American\", \n",
    "    'Race (choice=Asian)':'Asian',\n",
    "    'Race (choice=American Indian/ Alaska Native)':\"American Indian/Alaska Native\",\n",
    "    'Race (choice=Native Hawaiian or Pacific Islander)': 'Native Hawaiian/Pacific Islander',  \n",
    "    'Race (choice=Unknown or unreported)': \"Unknown/Unreported\",      \n",
    "    'Race (choice=Other)': \"Mixed\" \n",
    "})"
   ]
  },
  {
   "cell_type": "code",
   "execution_count": 29,
   "metadata": {},
   "outputs": [
    {
     "data": {
      "text/html": [
       "<div>\n",
       "<style scoped>\n",
       "    .dataframe tbody tr th:only-of-type {\n",
       "        vertical-align: middle;\n",
       "    }\n",
       "\n",
       "    .dataframe tbody tr th {\n",
       "        vertical-align: top;\n",
       "    }\n",
       "\n",
       "    .dataframe thead th {\n",
       "        text-align: right;\n",
       "    }\n",
       "</style>\n",
       "<table border=\"1\" class=\"dataframe\">\n",
       "  <thead>\n",
       "    <tr style=\"text-align: right;\">\n",
       "      <th></th>\n",
       "      <th>Donor ID</th>\n",
       "      <th>Age at Death</th>\n",
       "      <th>Sex</th>\n",
       "      <th>Hispanic/Latino</th>\n",
       "      <th>Highest level of education</th>\n",
       "      <th>Years of education</th>\n",
       "      <th>Cognitive Status</th>\n",
       "      <th>Age of onset cognitive symptoms</th>\n",
       "      <th>Age of Dementia diagnosis</th>\n",
       "      <th>Known head injury</th>\n",
       "      <th>Fresh Brain Weight</th>\n",
       "      <th>Brain pH</th>\n",
       "      <th>Last MMSE Score</th>\n",
       "      <th>Race</th>\n",
       "    </tr>\n",
       "  </thead>\n",
       "  <tbody>\n",
       "    <tr>\n",
       "      <th>0</th>\n",
       "      <td>H19.33.004</td>\n",
       "      <td>80</td>\n",
       "      <td>Female</td>\n",
       "      <td>No</td>\n",
       "      <td>Bachelors</td>\n",
       "      <td>17</td>\n",
       "      <td>No dementia</td>\n",
       "      <td>NaN</td>\n",
       "      <td>NaN</td>\n",
       "      <td>NaN</td>\n",
       "      <td>1035.00</td>\n",
       "      <td>7.0</td>\n",
       "      <td>25.0</td>\n",
       "      <td>White</td>\n",
       "    </tr>\n",
       "    <tr>\n",
       "      <th>1</th>\n",
       "      <td>H20.33.001</td>\n",
       "      <td>82</td>\n",
       "      <td>Male</td>\n",
       "      <td>No</td>\n",
       "      <td>Bachelors</td>\n",
       "      <td>16</td>\n",
       "      <td>No dementia</td>\n",
       "      <td>NaN</td>\n",
       "      <td>NaN</td>\n",
       "      <td>NaN</td>\n",
       "      <td>1338.00</td>\n",
       "      <td>6.8</td>\n",
       "      <td>28.0</td>\n",
       "      <td>White</td>\n",
       "    </tr>\n",
       "    <tr>\n",
       "      <th>2</th>\n",
       "      <td>H20.33.002</td>\n",
       "      <td>90+</td>\n",
       "      <td>Female</td>\n",
       "      <td>No</td>\n",
       "      <td>High School</td>\n",
       "      <td>12</td>\n",
       "      <td>No dementia</td>\n",
       "      <td>NaN</td>\n",
       "      <td>NaN</td>\n",
       "      <td>NaN</td>\n",
       "      <td>1078.00</td>\n",
       "      <td>7.3</td>\n",
       "      <td>33.0</td>\n",
       "      <td>White</td>\n",
       "    </tr>\n",
       "    <tr>\n",
       "      <th>3</th>\n",
       "      <td>H20.33.004</td>\n",
       "      <td>86</td>\n",
       "      <td>Male</td>\n",
       "      <td>No</td>\n",
       "      <td>Trade School/ Tech School</td>\n",
       "      <td>15</td>\n",
       "      <td>Dementia</td>\n",
       "      <td>80</td>\n",
       "      <td>81</td>\n",
       "      <td>No</td>\n",
       "      <td>1261.00</td>\n",
       "      <td>6.7</td>\n",
       "      <td>25.0</td>\n",
       "      <td>White</td>\n",
       "    </tr>\n",
       "    <tr>\n",
       "      <th>4</th>\n",
       "      <td>H20.33.005</td>\n",
       "      <td>90+</td>\n",
       "      <td>Female</td>\n",
       "      <td>No</td>\n",
       "      <td>High School</td>\n",
       "      <td>12</td>\n",
       "      <td>No dementia</td>\n",
       "      <td>NaN</td>\n",
       "      <td>NaN</td>\n",
       "      <td>NaN</td>\n",
       "      <td>1003.00</td>\n",
       "      <td>6.8</td>\n",
       "      <td>29.0</td>\n",
       "      <td>White</td>\n",
       "    </tr>\n",
       "  </tbody>\n",
       "</table>\n",
       "</div>"
      ],
      "text/plain": [
       "     Donor ID Age at Death     Sex Hispanic/Latino Highest level of education  \\\n",
       "0  H19.33.004           80  Female              No                  Bachelors   \n",
       "1  H20.33.001           82    Male              No                  Bachelors   \n",
       "2  H20.33.002          90+  Female              No                High School   \n",
       "3  H20.33.004           86    Male              No  Trade School/ Tech School   \n",
       "4  H20.33.005          90+  Female              No                High School   \n",
       "\n",
       "   Years of education Cognitive Status Age of onset cognitive symptoms  \\\n",
       "0                  17      No dementia                             NaN   \n",
       "1                  16      No dementia                             NaN   \n",
       "2                  12      No dementia                             NaN   \n",
       "3                  15         Dementia                              80   \n",
       "4                  12      No dementia                             NaN   \n",
       "\n",
       "  Age of Dementia diagnosis Known head injury Fresh Brain Weight  Brain pH  \\\n",
       "0                       NaN               NaN            1035.00       7.0   \n",
       "1                       NaN               NaN            1338.00       6.8   \n",
       "2                       NaN               NaN            1078.00       7.3   \n",
       "3                        81                No            1261.00       6.7   \n",
       "4                       NaN               NaN            1003.00       6.8   \n",
       "\n",
       "   Last MMSE Score   Race  \n",
       "0             25.0  White  \n",
       "1             28.0  White  \n",
       "2             33.0  White  \n",
       "3             25.0  White  \n",
       "4             29.0  White  "
      ]
     },
     "execution_count": 29,
     "metadata": {},
     "output_type": "execute_result"
    }
   ],
   "source": [
    "# Taking peak at reformatted data\n",
    "df_meta.head(5)"
   ]
  },
  {
   "cell_type": "code",
   "execution_count": 30,
   "metadata": {
    "scrolled": false
   },
   "outputs": [
    {
     "data": {
      "text/plain": [
       "Donor ID                            object\n",
       "Age at Death                        object\n",
       "Sex                                 object\n",
       "Hispanic/Latino                     object\n",
       "Highest level of education          object\n",
       "Years of education                   int64\n",
       "Cognitive Status                    object\n",
       "Age of onset cognitive symptoms     object\n",
       "Age of Dementia diagnosis           object\n",
       "Known head injury                   object\n",
       "Fresh Brain Weight                  object\n",
       "Brain pH                           float64\n",
       "Last MMSE Score                    float64\n",
       "Race                                object\n",
       "dtype: object"
      ]
     },
     "execution_count": 30,
     "metadata": {},
     "output_type": "execute_result"
    }
   ],
   "source": [
    "# Checking the datatypes\n",
    "df_meta.dtypes"
   ]
  },
  {
   "cell_type": "markdown",
   "metadata": {},
   "source": [
    "Now that our dataframe is in a cleaner version, we are able to begin our EDA. "
   ]
  },
  {
   "cell_type": "code",
   "execution_count": 31,
   "metadata": {},
   "outputs": [
    {
     "data": {
      "text/plain": [
       "Female    51\n",
       "Male      33\n",
       "Name: Sex, dtype: int64"
      ]
     },
     "execution_count": 31,
     "metadata": {},
     "output_type": "execute_result"
    }
   ],
   "source": [
    " df_meta.Sex.value_counts()"
   ]
  },
  {
   "cell_type": "markdown",
   "metadata": {},
   "source": [
    "We see that this dataframe is slightly skewed in terms of sex. There are more females than males."
   ]
  },
  {
   "cell_type": "code",
   "execution_count": 32,
   "metadata": {},
   "outputs": [
    {
     "data": {
      "text/plain": [
       "White    81\n",
       "Asian     3\n",
       "Name: Race, dtype: int64"
      ]
     },
     "execution_count": 32,
     "metadata": {},
     "output_type": "execute_result"
    }
   ],
   "source": [
    "df_meta.Race.value_counts()"
   ]
  },
  {
   "cell_type": "markdown",
   "metadata": {},
   "source": [
    "More drastic of a skew than with sex, this dataset is almost entirely white patients, which may pose some constraints on our ability to generalize. We will keep this in mind when making any statements regarding race using this dataset, and note that this is one piece of potential missing data. "
   ]
  },
  {
   "cell_type": "markdown",
   "metadata": {},
   "source": [
    "#### Distribution of dementia by age and sex"
   ]
  },
  {
   "cell_type": "code",
   "execution_count": 33,
   "metadata": {},
   "outputs": [
    {
     "data": {
      "text/plain": [
       "No dementia    42\n",
       "Dementia       42\n",
       "Name: Cognitive Status, dtype: int64"
      ]
     },
     "execution_count": 33,
     "metadata": {},
     "output_type": "execute_result"
    }
   ],
   "source": [
    "# Distribution of patients with and without dementia\n",
    "df_meta[\"Cognitive Status\"].value_counts()"
   ]
  },
  {
   "cell_type": "code",
   "execution_count": 34,
   "metadata": {},
   "outputs": [
    {
     "name": "stdout",
     "output_type": "stream",
     "text": [
      "Female:\n",
      "Dementia       27\n",
      "No dementia    24\n",
      "Name: Cognitive Status, dtype: int64\n",
      "\n",
      "Male:\n",
      "No dementia    18\n",
      "Dementia       15\n",
      "Name: Cognitive Status, dtype: int64\n"
     ]
    }
   ],
   "source": [
    "# ...and now grouped by sex\n",
    "print(\"Female:\")\n",
    "print(df_meta[df_meta[\"Sex\"] == \"Female\"][\"Cognitive Status\"].value_counts())\n",
    "print(\"\\nMale:\")\n",
    "print(df_meta[df_meta[\"Sex\"] == \"Male\"][\"Cognitive Status\"].value_counts())"
   ]
  },
  {
   "cell_type": "markdown",
   "metadata": {},
   "source": [
    "#### Brain pH for Dementia v. No dementia "
   ]
  },
  {
   "cell_type": "code",
   "execution_count": 71,
   "metadata": {},
   "outputs": [
    {
     "data": {
      "text/plain": [
       "Sex\n",
       "Female    AxesSubplot(0.125,0.125;0.775x0.755)\n",
       "Male      AxesSubplot(0.125,0.125;0.775x0.755)\n",
       "Name: Brain pH, dtype: object"
      ]
     },
     "execution_count": 71,
     "metadata": {},
     "output_type": "execute_result"
    },
    {
     "data": {
      "image/png": "[encoded data removed]",
      "text/plain": [
       "<Figure size 432x288 with 1 Axes>"
      ]
     },
     "metadata": {
      "needs_background": "light"
     },
     "output_type": "display_data"
    }
   ],
   "source": [
    "df_meta.groupby(\"Cognitive Status\")['Brain pH'].plot.hist(alpha=.5, density=True, legend=True, xlabel = \"Brain pH\")"
   ]
  },
  {
   "cell_type": "markdown",
   "metadata": {},
   "source": [
    "Based on this exploratory graph, there are several observations that can be made about brain pH as it relates to dementia diagnosis. For individuals with dementia, the mode appears at individuals with pH around 6.2-6.3, whereas individuals without dementia appear to have a peak  for individuals with a brain pH around 6.9. Ignoring the distinct outlier in the dementia patients, the spread of patients with and without dementia is around 1.5. However, the maximum pH for individuals without dementia is higher at around 7.6, whereas the max pH for individuals with dementia falls at around 7.2.  "
   ]
  },
  {
   "cell_type": "markdown",
   "metadata": {},
   "source": [
    "#### Examining Education as a variable in dementia"
   ]
  },
  {
   "cell_type": "code",
   "execution_count": 37,
   "metadata": {},
   "outputs": [
    {
     "name": "stdout",
     "output_type": "stream",
     "text": [
      "Highest Education Level\n",
      "Graduate (PhD/Masters)       25\n",
      "Bachelors                    22\n",
      "High School                  18\n",
      "Trade School/ Tech School    15\n",
      "Professional                  4\n",
      "Name: Highest level of education, dtype: int64\n",
      "\n",
      "Years of Education\n",
      "16    17\n",
      "18    13\n",
      "12    12\n",
      "21    10\n",
      "15     8\n",
      "14     8\n",
      "17     7\n",
      "13     4\n",
      "20     3\n",
      "19     2\n",
      "Name: Years of education, dtype: int64\n"
     ]
    }
   ],
   "source": [
    "print(\"Highest Education Level\")\n",
    "print(df_meta[\"Highest level of education\"].value_counts())\n",
    "print(\"\\nYears of Education\")\n",
    "print(df_meta[\"Years of education\"].value_counts())"
   ]
  },
  {
   "cell_type": "markdown",
   "metadata": {},
   "source": [
    "Average length of education for individuals with/without dementia: "
   ]
  },
  {
   "cell_type": "code",
   "execution_count": 38,
   "metadata": {},
   "outputs": [
    {
     "name": "stdout",
     "output_type": "stream",
     "text": [
      "The average number of years of education for individuals with dementia is 16.62\n",
      "The average number of years of education for individuals without dementia is 15.79\n"
     ]
    }
   ],
   "source": [
    "# Average Education level for demented individuals\n",
    "print(\"The average number of years of education for individuals with dementia is\", round(df_meta[df_meta[\"Cognitive Status\"] == \"Dementia\"][\"Years of education\"].mean(), 2))\n",
    "\n",
    "# Average Education level for non-demented individuals\n",
    "print(\"The average number of years of education for individuals without dementia is\", round(df_meta[df_meta[\"Cognitive Status\"] == \"No dementia\"][\"Years of education\"].mean(), 2))"
   ]
  },
  {
   "cell_type": "code",
   "execution_count": 39,
   "metadata": {},
   "outputs": [
    {
     "name": "stdout",
     "output_type": "stream",
     "text": [
      "The average years of education for females is 15.98\n",
      "The average years of education for males is 16.55\n"
     ]
    }
   ],
   "source": [
    "# Average Education level for females\n",
    "print(\"The average years of education for females is\", round(df_meta[df_meta[\"Sex\"] == \"Female\"][\"Years of education\"].mean(), 2))\n",
    "\n",
    "# Average Education level for males\n",
    "print(\"The average years of education for males is\", round(df_meta[df_meta[\"Sex\"] == \"Male\"][\"Years of education\"].mean(), 2))"
   ]
  },
  {
   "cell_type": "code",
   "execution_count": 40,
   "metadata": {},
   "outputs": [
    {
     "name": "stdout",
     "output_type": "stream",
     "text": [
      "The average years of education for females with dementia is 16.44\n",
      "The average years of education for females without dementia is 15.46\n",
      "The average years of education for males with dementia is 16.93\n",
      "The average years of education for males without dementia is 16.22\n"
     ]
    }
   ],
   "source": [
    "# Average Education level for females\n",
    "print(\"The average years of education for females with dementia is\", end=' ')\n",
    "print(round(df_meta[(df_meta[\"Sex\"] == \"Female\") & (df_meta[\"Cognitive Status\"] == \"Dementia\")][\"Years of education\"].mean(),2))\n",
    "print(\"The average years of education for females without dementia is\", end=' ')\n",
    "print(round(df_meta[(df_meta[\"Sex\"] == \"Female\") & (df_meta[\"Cognitive Status\"] == \"No dementia\")][\"Years of education\"].mean(),2))\n",
    "\n",
    "# Average Education level for males\n",
    "print(\"The average years of education for males with dementia is\", end=' ')\n",
    "print(round(df_meta[(df_meta[\"Sex\"] == \"Male\") & (df_meta[\"Cognitive Status\"] == \"Dementia\")][\"Years of education\"].mean(),2))\n",
    "print(\"The average years of education for males without dementia is\", end=' ')\n",
    "print(round(df_meta[(df_meta[\"Sex\"] == \"Male\") & (df_meta[\"Cognitive Status\"] == \"No dementia\")][\"Years of education\"].mean(),2))"
   ]
  },
  {
   "cell_type": "code",
   "execution_count": 41,
   "metadata": {},
   "outputs": [
    {
     "name": "stdout",
     "output_type": "stream",
     "text": [
      "Correlation between years of education and dementia from the meta data:\n",
      "0.15100381378815506\n",
      "Correlation between years of education and dementia from oasis study...\n",
      "based on the cross-sectional data: -0.23591049426349353\n",
      "based on the longitudinal data: -0.19306010020826195\n"
     ]
    }
   ],
   "source": [
    "# Correlation between education and dementia\n",
    "\n",
    "# create a numeric version of dementia column for this analysis\n",
    "\n",
    "df_meta[\"cog_status_num\"] = df_meta[\"Cognitive Status\"].map({\n",
    "    \"Dementia\": 1,\n",
    "    \"No dementia\": 0\n",
    "})\n",
    "\n",
    "\n",
    "df_alhz_cross['cog_status_num'] = df_alhz_cross['Group'].map({\n",
    "    'Nondemented': 0,\n",
    "    'Demented': 1\n",
    "})\n",
    "\n",
    "df_alhz_long['cog_status_num'] = df_alhz_long['Group'].map({\n",
    "    'Nondemented': 0,\n",
    "    'Converted': 1,\n",
    "    'Demented': 1\n",
    "})\n",
    "\n",
    "# correlation\n",
    "print(\"Correlation between years of education and dementia from the meta data:\")\n",
    "print(df_meta[\"Years of education\"].corr(df_meta[\"cog_status_num\"]))\n",
    "print(\"Correlation between years of education and dementia from oasis study...\")\n",
    "print(\"based on the cross-sectional data:\", df_alhz_cross[\"Educ\"].corr(df_alhz_cross[\"cog_status_num\"]))\n",
    "print(\"based on the longitudinal data:\", df_alhz_long[\"EDUC\"].corr(df_alhz_long[\"cog_status_num\"]))"
   ]
  },
  {
   "cell_type": "code",
   "execution_count": 48,
   "metadata": {},
   "outputs": [
    {
     "data": {
      "text/html": [
       "<div>\n",
       "<style scoped>\n",
       "    .dataframe tbody tr th:only-of-type {\n",
       "        vertical-align: middle;\n",
       "    }\n",
       "\n",
       "    .dataframe tbody tr th {\n",
       "        vertical-align: top;\n",
       "    }\n",
       "\n",
       "    .dataframe thead th {\n",
       "        text-align: right;\n",
       "    }\n",
       "</style>\n",
       "<table border=\"1\" class=\"dataframe\">\n",
       "  <thead>\n",
       "    <tr style=\"text-align: right;\">\n",
       "      <th></th>\n",
       "      <th>cog_status_num</th>\n",
       "      <th>Last MMSE Score</th>\n",
       "      <th>Female</th>\n",
       "      <th>Male</th>\n",
       "      <th>Years of education</th>\n",
       "    </tr>\n",
       "  </thead>\n",
       "  <tbody>\n",
       "    <tr>\n",
       "      <th>cog_status_num</th>\n",
       "      <td>1.000000</td>\n",
       "      <td>-0.498078</td>\n",
       "      <td>0.073127</td>\n",
       "      <td>-0.073127</td>\n",
       "      <td>0.151004</td>\n",
       "    </tr>\n",
       "    <tr>\n",
       "      <th>Last MMSE Score</th>\n",
       "      <td>-0.498078</td>\n",
       "      <td>1.000000</td>\n",
       "      <td>-0.070174</td>\n",
       "      <td>0.070174</td>\n",
       "      <td>-0.054593</td>\n",
       "    </tr>\n",
       "    <tr>\n",
       "      <th>Female</th>\n",
       "      <td>0.073127</td>\n",
       "      <td>-0.070174</td>\n",
       "      <td>1.000000</td>\n",
       "      <td>-1.000000</td>\n",
       "      <td>-0.100013</td>\n",
       "    </tr>\n",
       "    <tr>\n",
       "      <th>Male</th>\n",
       "      <td>-0.073127</td>\n",
       "      <td>0.070174</td>\n",
       "      <td>-1.000000</td>\n",
       "      <td>1.000000</td>\n",
       "      <td>0.100013</td>\n",
       "    </tr>\n",
       "    <tr>\n",
       "      <th>Years of education</th>\n",
       "      <td>0.151004</td>\n",
       "      <td>-0.054593</td>\n",
       "      <td>-0.100013</td>\n",
       "      <td>0.100013</td>\n",
       "      <td>1.000000</td>\n",
       "    </tr>\n",
       "  </tbody>\n",
       "</table>\n",
       "</div>"
      ],
      "text/plain": [
       "                    cog_status_num  Last MMSE Score    Female      Male  \\\n",
       "cog_status_num            1.000000        -0.498078  0.073127 -0.073127   \n",
       "Last MMSE Score          -0.498078         1.000000 -0.070174  0.070174   \n",
       "Female                    0.073127        -0.070174  1.000000 -1.000000   \n",
       "Male                     -0.073127         0.070174 -1.000000  1.000000   \n",
       "Years of education        0.151004        -0.054593 -0.100013  0.100013   \n",
       "\n",
       "                    Years of education  \n",
       "cog_status_num                0.151004  \n",
       "Last MMSE Score              -0.054593  \n",
       "Female                       -0.100013  \n",
       "Male                          0.100013  \n",
       "Years of education            1.000000  "
      ]
     },
     "execution_count": 48,
     "metadata": {},
     "output_type": "execute_result"
    }
   ],
   "source": [
    "df_meta_dummy = pd.concat([df_meta, pd.get_dummies(df_meta[\"Sex\"])], axis=1)\n",
    "# TO DO : make a correlation matrix between certain variables and dementia\n",
    "variables = [\"cog_status_num\", \n",
    "             \"Last MMSE Score\", \n",
    "             \"Female\",\n",
    "             \"Male\",\n",
    "             \"Years of education\"]\n",
    "df_meta_dummy[variables].corr()"
   ]
  },
  {
   "cell_type": "markdown",
   "metadata": {},
   "source": [
    "### New dataset: Volumetrics (To be connected with Metadata)"
   ]
  },
  {
   "cell_type": "code",
   "execution_count": 60,
   "metadata": {},
   "outputs": [],
   "source": [
    "# Read in the data \n",
    "df_volumetrics = pd.read_csv('./data/sea-ad_cohort_mri_volumetrics.csv')"
   ]
  },
  {
   "cell_type": "code",
   "execution_count": 61,
   "metadata": {},
   "outputs": [
    {
     "data": {
      "text/html": [
       "<div>\n",
       "<style scoped>\n",
       "    .dataframe tbody tr th:only-of-type {\n",
       "        vertical-align: middle;\n",
       "    }\n",
       "\n",
       "    .dataframe tbody tr th {\n",
       "        vertical-align: top;\n",
       "    }\n",
       "\n",
       "    .dataframe thead th {\n",
       "        text-align: right;\n",
       "    }\n",
       "</style>\n",
       "<table border=\"1\" class=\"dataframe\">\n",
       "  <thead>\n",
       "    <tr style=\"text-align: right;\">\n",
       "      <th></th>\n",
       "      <th>Donor ID</th>\n",
       "      <th>Left Thalamus Proper Volume</th>\n",
       "      <th>Left Caudate Volume</th>\n",
       "      <th>Left Putamen Volume</th>\n",
       "      <th>Left Pallidum Volume</th>\n",
       "      <th>Left Hippocampus Volume</th>\n",
       "      <th>Left Amygdala Volume</th>\n",
       "      <th>Left Accumbens Area Volume</th>\n",
       "      <th>Right Thalamus Proper Volume</th>\n",
       "      <th>Right Caudate Volume</th>\n",
       "      <th>...</th>\n",
       "      <th>Right Supramarginal White Matter Volume</th>\n",
       "      <th>Right Frontal Pole Cortex Volume</th>\n",
       "      <th>Right Frontal Pole White Matter Volume</th>\n",
       "      <th>Right Temporal Pole Cortex Volume</th>\n",
       "      <th>Right Temporal Pole White Matter Volume</th>\n",
       "      <th>Right Insula Cortex Volume</th>\n",
       "      <th>Right Insula White Matter Volume</th>\n",
       "      <th>Right Parahippocampal White Matter Volume</th>\n",
       "      <th>Right Transverse Temporal Cortex Volume</th>\n",
       "      <th>Right Transverse Temporal White Matter Volume</th>\n",
       "    </tr>\n",
       "  </thead>\n",
       "  <tbody>\n",
       "    <tr>\n",
       "      <th>0</th>\n",
       "      <td>H20.33.045</td>\n",
       "      <td>6.33</td>\n",
       "      <td>2.51</td>\n",
       "      <td>3.74</td>\n",
       "      <td>2.58</td>\n",
       "      <td>2.21</td>\n",
       "      <td>0.23</td>\n",
       "      <td>0.23</td>\n",
       "      <td>NaN</td>\n",
       "      <td>NaN</td>\n",
       "      <td>...</td>\n",
       "      <td>NaN</td>\n",
       "      <td>NaN</td>\n",
       "      <td>NaN</td>\n",
       "      <td>NaN</td>\n",
       "      <td>NaN</td>\n",
       "      <td>NaN</td>\n",
       "      <td>NaN</td>\n",
       "      <td>NaN</td>\n",
       "      <td>NaN</td>\n",
       "      <td>NaN</td>\n",
       "    </tr>\n",
       "    <tr>\n",
       "      <th>1</th>\n",
       "      <td>H20.33.044</td>\n",
       "      <td>NaN</td>\n",
       "      <td>NaN</td>\n",
       "      <td>NaN</td>\n",
       "      <td>NaN</td>\n",
       "      <td>NaN</td>\n",
       "      <td>NaN</td>\n",
       "      <td>NaN</td>\n",
       "      <td>NaN</td>\n",
       "      <td>NaN</td>\n",
       "      <td>...</td>\n",
       "      <td>NaN</td>\n",
       "      <td>NaN</td>\n",
       "      <td>NaN</td>\n",
       "      <td>NaN</td>\n",
       "      <td>NaN</td>\n",
       "      <td>NaN</td>\n",
       "      <td>NaN</td>\n",
       "      <td>NaN</td>\n",
       "      <td>NaN</td>\n",
       "      <td>NaN</td>\n",
       "    </tr>\n",
       "    <tr>\n",
       "      <th>2</th>\n",
       "      <td>H21.33.045</td>\n",
       "      <td>NaN</td>\n",
       "      <td>NaN</td>\n",
       "      <td>NaN</td>\n",
       "      <td>NaN</td>\n",
       "      <td>NaN</td>\n",
       "      <td>NaN</td>\n",
       "      <td>NaN</td>\n",
       "      <td>3.82</td>\n",
       "      <td>3.48</td>\n",
       "      <td>...</td>\n",
       "      <td>5.97</td>\n",
       "      <td>0.55</td>\n",
       "      <td>0.33</td>\n",
       "      <td>2.04</td>\n",
       "      <td>1.03</td>\n",
       "      <td>4.36</td>\n",
       "      <td>6.25</td>\n",
       "      <td>0.9</td>\n",
       "      <td>0.48</td>\n",
       "      <td>0.48</td>\n",
       "    </tr>\n",
       "    <tr>\n",
       "      <th>3</th>\n",
       "      <td>H20.33.046</td>\n",
       "      <td>NaN</td>\n",
       "      <td>NaN</td>\n",
       "      <td>NaN</td>\n",
       "      <td>NaN</td>\n",
       "      <td>NaN</td>\n",
       "      <td>NaN</td>\n",
       "      <td>NaN</td>\n",
       "      <td>6.99</td>\n",
       "      <td>3.62</td>\n",
       "      <td>...</td>\n",
       "      <td>9.26</td>\n",
       "      <td>0.91</td>\n",
       "      <td>0.14</td>\n",
       "      <td>1.21</td>\n",
       "      <td>0.15</td>\n",
       "      <td>7.12</td>\n",
       "      <td>5.85</td>\n",
       "      <td>0.0</td>\n",
       "      <td>0.92</td>\n",
       "      <td>0.50</td>\n",
       "    </tr>\n",
       "    <tr>\n",
       "      <th>4</th>\n",
       "      <td>H20.33.014</td>\n",
       "      <td>6.10</td>\n",
       "      <td>4.46</td>\n",
       "      <td>3.68</td>\n",
       "      <td>1.88</td>\n",
       "      <td>4.49</td>\n",
       "      <td>1.11</td>\n",
       "      <td>0.63</td>\n",
       "      <td>NaN</td>\n",
       "      <td>NaN</td>\n",
       "      <td>...</td>\n",
       "      <td>NaN</td>\n",
       "      <td>NaN</td>\n",
       "      <td>NaN</td>\n",
       "      <td>NaN</td>\n",
       "      <td>NaN</td>\n",
       "      <td>NaN</td>\n",
       "      <td>NaN</td>\n",
       "      <td>NaN</td>\n",
       "      <td>NaN</td>\n",
       "      <td>NaN</td>\n",
       "    </tr>\n",
       "  </tbody>\n",
       "</table>\n",
       "<p>5 rows × 151 columns</p>\n",
       "</div>"
      ],
      "text/plain": [
       "     Donor ID  Left Thalamus Proper Volume  Left Caudate Volume  \\\n",
       "0  H20.33.045                         6.33                 2.51   \n",
       "1  H20.33.044                          NaN                  NaN   \n",
       "2  H21.33.045                          NaN                  NaN   \n",
       "3  H20.33.046                          NaN                  NaN   \n",
       "4  H20.33.014                         6.10                 4.46   \n",
       "\n",
       "   Left Putamen Volume  Left Pallidum Volume  Left Hippocampus Volume  \\\n",
       "0                 3.74                  2.58                     2.21   \n",
       "1                  NaN                   NaN                      NaN   \n",
       "2                  NaN                   NaN                      NaN   \n",
       "3                  NaN                   NaN                      NaN   \n",
       "4                 3.68                  1.88                     4.49   \n",
       "\n",
       "   Left Amygdala Volume  Left Accumbens Area Volume  \\\n",
       "0                  0.23                        0.23   \n",
       "1                   NaN                         NaN   \n",
       "2                   NaN                         NaN   \n",
       "3                   NaN                         NaN   \n",
       "4                  1.11                        0.63   \n",
       "\n",
       "   Right Thalamus Proper Volume  Right Caudate Volume  ...  \\\n",
       "0                           NaN                   NaN  ...   \n",
       "1                           NaN                   NaN  ...   \n",
       "2                          3.82                  3.48  ...   \n",
       "3                          6.99                  3.62  ...   \n",
       "4                           NaN                   NaN  ...   \n",
       "\n",
       "   Right Supramarginal White Matter Volume  Right Frontal Pole Cortex Volume  \\\n",
       "0                                      NaN                               NaN   \n",
       "1                                      NaN                               NaN   \n",
       "2                                     5.97                              0.55   \n",
       "3                                     9.26                              0.91   \n",
       "4                                      NaN                               NaN   \n",
       "\n",
       "   Right Frontal Pole White Matter Volume  Right Temporal Pole Cortex Volume  \\\n",
       "0                                     NaN                                NaN   \n",
       "1                                     NaN                                NaN   \n",
       "2                                    0.33                               2.04   \n",
       "3                                    0.14                               1.21   \n",
       "4                                     NaN                                NaN   \n",
       "\n",
       "   Right Temporal Pole White Matter Volume  Right Insula Cortex Volume  \\\n",
       "0                                      NaN                         NaN   \n",
       "1                                      NaN                         NaN   \n",
       "2                                     1.03                        4.36   \n",
       "3                                     0.15                        7.12   \n",
       "4                                      NaN                         NaN   \n",
       "\n",
       "   Right Insula White Matter Volume  \\\n",
       "0                               NaN   \n",
       "1                               NaN   \n",
       "2                              6.25   \n",
       "3                              5.85   \n",
       "4                               NaN   \n",
       "\n",
       "   Right Parahippocampal White Matter Volume  \\\n",
       "0                                        NaN   \n",
       "1                                        NaN   \n",
       "2                                        0.9   \n",
       "3                                        0.0   \n",
       "4                                        NaN   \n",
       "\n",
       "   Right Transverse Temporal Cortex Volume  \\\n",
       "0                                      NaN   \n",
       "1                                      NaN   \n",
       "2                                     0.48   \n",
       "3                                     0.92   \n",
       "4                                      NaN   \n",
       "\n",
       "   Right Transverse Temporal White Matter Volume  \n",
       "0                                            NaN  \n",
       "1                                            NaN  \n",
       "2                                           0.48  \n",
       "3                                           0.50  \n",
       "4                                            NaN  \n",
       "\n",
       "[5 rows x 151 columns]"
      ]
     },
     "execution_count": 61,
     "metadata": {},
     "output_type": "execute_result"
    }
   ],
   "source": [
    "df_volumetrics.head()"
   ]
  },
  {
   "cell_type": "markdown",
   "metadata": {},
   "source": [
    "Other ideas of things we could plot:\n",
    "- a comparison of the brain volume of certain parts of the brain male v female, demented v non\n",
    "- a comparision of ages - onset of symptoms, diagnosis, death\n",
    "- look at differences across race\n",
    "- \n"
   ]
  },
  {
   "cell_type": "markdown",
   "metadata": {},
   "source": [
    "My ideas for predictive models:\n",
    "\n",
    "    - given the gender and level of education, predict the onset of Alzheimer's\n",
    "    - life expectancy prediction?"
   ]
  },
  {
   "cell_type": "markdown",
   "metadata": {},
   "source": [
    "<mark> Include two ideas of a model we can build "
   ]
  },
  {
   "cell_type": "markdown",
   "metadata": {},
   "source": [
    "## Challenges and Final Thoughts"
   ]
  },
  {
   "cell_type": "markdown",
   "metadata": {},
   "source": [
    "#### Chalenges with MRI Dataset: Comparisions Across Datasets\n",
    "\n",
    "1. ***Different Columns (Variables):*** The longitudinal data and cross-sectional data contained slightly different varibles from one another. For example, 'Group' only existed in one dataframe, so we had to map the Clinical Dementia Rating for each patient found in the cross-sectional data to their correpsonding group. \n",
    "2. ***'EDUC' Ambiguity:*** In the longitudinal data, the paper that was published alongside the dataset clearly states that Education Level means the number of years in formal education for that individual. However, in the cross-sectional data, the 'Educ' numbers are suspiciously low for being total years in formal education, education may be measured differently there. We must continue to dig into what the connection between these two variables may be.\n",
    "\n",
    "####  Plan Moving Forward and What We Still Need\n",
    "\n",
    "From here, we plan to focus on the the second dataset, which includes two dataframes of cross-sectional and longitudinal data. Our plan is to test whether there are statistically significant differences between gender and Alhzeimer's that have a across education and socioeconomic status. To supplement this data, we would like to find a dataset that contains more information on the relationships between socioeconomic status and education (perhaps breaks down this relationship into finer detail). We also plan to see if there are any gendered differences in dementia onset. Above, we began this exploration with looking at the age of onset. We plan to continue doing this at brain volume in comparision across genders and it's relation to dementia, although it would be helpful to find a dataset that included white matter mass."
   ]
  },
  {
   "cell_type": "markdown",
   "metadata": {},
   "source": [
    "##### Citations\n",
    "\n",
    "Brfss. (2022, August 29). https://www.cdc.gov/brfss/index.html\n",
    "\n",
    "Daniel S. Marcus, Anthony F. Fotenos, John G. Csernansky, John C. Morris, Randy L. Buckner; Open Access Series of Imaging Studies: Longitudinal MRI Data in Nondemented and Demented Older Adults. J Cogn Neurosci 2010; 22 (12): 2677–2684. https://direct.mit.edu/jocn/article/22/12/2677/4983/Open-Access-Series-of-Imaging-Studies-Longitudinal\n",
    "\n",
    "Marcus, D. S., Wang, T. H., Parker, J., Csernansky, J. G., Morris, J. C., & Buckner, R. L. (2007). Open access series of imaging studies (Oasis): Cross-sectional mri data in young, middle aged, nondemented, and demented older adults. Journal of Cognitive Neuroscience, 19(9), 1498–1507. https://doi.org/10.1162/jocn.2007.19.9.1498\n",
    "\n",
    "Mri and alzheimers. (n.d.). https://www.kaggle.com/datasets/jboysen/mri-and-alzheimers\n",
    "\n",
    "\n"
   ]
  }
 ],
 "metadata": {
  "colab": {
   "provenance": []
  },
  "kernelspec": {
   "display_name": "Python 3 (ipykernel)",
   "language": "python",
   "name": "python3"
  },
  "language_info": {
   "codemirror_mode": {
    "name": "ipython",
    "version": 3
   },
   "file_extension": ".py",
   "mimetype": "text/x-python",
   "name": "python",
   "nbconvert_exporter": "python",
   "pygments_lexer": "ipython3",
   "version": "3.9.7"
  }
 },
 "nbformat": 4,
 "nbformat_minor": 1
}
